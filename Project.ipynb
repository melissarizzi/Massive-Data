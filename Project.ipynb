{
  "cells": [
    {
      "cell_type": "code",
      "execution_count": 1,
      "id": "23fcab7d-ed51-4d73-8252-9e3a9a290b94",
      "metadata": {
        "id": "23fcab7d-ed51-4d73-8252-9e3a9a290b94"
      },
      "outputs": [],
      "source": [
        "#algoritmi per massive data"
      ]
    },
    {
      "cell_type": "code",
      "execution_count": null,
      "id": "c1e838d3-4161-4896-9526-0f36ed4c8b75",
      "metadata": {
        "id": "c1e838d3-4161-4896-9526-0f36ed4c8b75"
      },
      "outputs": [],
      "source": []
    }
  ],
  "metadata": {
    "kernelspec": {
      "display_name": "Python 3 (ipykernel)",
      "language": "python",
      "name": "python3"
    },
    "language_info": {
      "codemirror_mode": {
        "name": "ipython",
        "version": 3
      },
      "file_extension": ".py",
      "mimetype": "text/x-python",
      "name": "python",
      "nbconvert_exporter": "python",
      "pygments_lexer": "ipython3",
      "version": "3.10.4"
    },
    "colab": {
      "provenance": []
    }
  },
  "nbformat": 4,
  "nbformat_minor": 5
}