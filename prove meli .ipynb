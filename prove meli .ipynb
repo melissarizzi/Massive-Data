{
 "cells": [
  {
   "cell_type": "markdown",
   "id": "d7d6d54f-dae5-43b3-ad40-b7b201bd17d5",
   "metadata": {},
   "source": [
    "\n",
    "\n",
    "\n",
    "\n",
    "---"
   ]
  },
  {
   "cell_type": "markdown",
   "id": "763d2238-35cd-4998-bb8f-7c907af6818c",
   "metadata": {},
   "source": [
    "# **MARKET-BASKET ANALYSIS**"
   ]
  },
  {
   "cell_type": "markdown",
   "id": "89d58f04-d2e4-4e30-b041-e04f5ca4abeb",
   "metadata": {},
   "source": [
    "## Massive Algorithm - Data Science for Economics"
   ]
  },
  {
   "cell_type": "markdown",
   "id": "bb30d303-7b2d-4f77-9f60-7dfda5adc634",
   "metadata": {},
   "source": [
    "**Angelica Longo, Melissa Rizzi**"
   ]
  },
  {
   "cell_type": "markdown",
   "id": "1758f691-8d9b-44be-84c5-4e58d70505f3",
   "metadata": {},
   "source": [
    "The goal of this project is to implement a system for **detecting frequent itemsets**, commonly known as **market-basket analysis**.\n",
    "In this notebook, the detector treats each user’s reviewed books as a basket, with books serving as items.\n",
    "\n",
    "The project is based on the **[Amazon Books Review](https://www.kaggle.com/datasets/mohamedbakhet/amazon-books-reviews)** dataset, published on Kaggle under the public domain CC0 license. Data is downloaded during the execution of the scripts via an API and contains variables related to users and their reviews of purchased books.\n",
    "\n",
    "Given the large volume of data (3 million rows), a reasonable subsample is created using **PySpark**, consisting of approximately 500'000 rows, while ensuring scalability for the full dataset.\n",
    "\n",
    "The project is structured as follows:\n",
    "\n",
    "- **Preprocessing** – This phase includes data cleaning, checking data integrity, handling null values, removing duplicates, and computing the overall mean to verify consistency with the selected subsample.\n",
    "- **Subsampling** – A subset of data is created while maintaining a representative distribution of user choices and ratings.\n",
    "- **Frequent Itemset Mining** – The final step involves implementing an algorithm to identify frequent itemsets within the dataset.\n",
    "\n",
    "This structured approach ensures both **efficiency** and **scalability** while maintaining **data integrity**."
   ]
  },
  {
   "cell_type": "markdown",
   "id": "f731e154-e05f-47b4-8401-fbf00ac84f77",
   "metadata": {},
   "source": [
    "## **Table of Contents**\n",
    "- [1. Data Import](#1-Data-Import)\n",
    "- [2. Data PreProcessing](#2-data-preprocessing)\n",
    "  - [2.1 Data Integrity](#21-data-integrity)\n",
    "  - [2.2 Missing Data](#22-missing-data)\n",
    "  - [2.3 Data Duplicates](#22-data-duplicates)\n",
    "  - [2.4 Rating Means](#22-rating-means)\n",
    "- [3. Subsample Creation](#3-subsample-creation)\n",
    "- [4. Frequent Itemset Mining](#4-frequent-itemset-mining)\n"
   ]
  },
  {
   "cell_type": "markdown",
   "id": "fa12e9da-54f1-4dd0-bfbc-9682eaae02f1",
   "metadata": {},
   "source": [
    "---\n",
    "## **1. Data Import**"
   ]
  },
  {
   "cell_type": "code",
   "execution_count": 1,
   "id": "2a2f9470-ba56-462f-9829-388832253f32",
   "metadata": {},
   "outputs": [],
   "source": [
    "#import os\n",
    "#import zipfile"
   ]
  },
  {
   "cell_type": "code",
   "execution_count": 2,
   "id": "ec451398-739e-49be-8a9a-e76f18bdaa61",
   "metadata": {},
   "outputs": [],
   "source": [
    "#os.environ['KAGGLE_USERNAME'] = \"melissarizzi\"\n",
    "#os.environ['KAGGLE_KEY'] = \"3ed913e7329a3117a254e67179c0f8bb\""
   ]
  },
  {
   "cell_type": "code",
   "execution_count": 4,
   "id": "a2d6b5c9-0837-4d38-a26c-7afc7acdf129",
   "metadata": {},
   "outputs": [],
   "source": [
    "#!kaggle datasets download -d mohamedbakhet/amazon-books-reviews"
   ]
  },
  {
   "cell_type": "code",
   "execution_count": 5,
   "id": "ff6576e7-9231-41bf-b56e-eb4c073650dc",
   "metadata": {},
   "outputs": [],
   "source": [
    "#with zipfile.ZipFile(\"amazon-books-reviews.zip\", 'r') as zip_ref:\n",
    "  #  zip_ref.extractall(\"amazon_books_data\")"
   ]
  },
  {
   "cell_type": "markdown",
   "id": "0f666223-9b9b-48fb-b264-9e895cddc5d4",
   "metadata": {},
   "source": [
    "---\n",
    "## **2. Data PreProcessing**"
   ]
  },
  {
   "cell_type": "code",
   "execution_count": 76,
   "id": "8516ec6a-2fc2-45db-8a19-29787ca5437b",
   "metadata": {},
   "outputs": [],
   "source": [
    "# Import necessary libraries\n",
    "from pyspark.sql import SparkSession\n",
    "from pyspark.sql.functions import col, min, max, sum, when, collect_set,count\n",
    "from pyspark.sql.types import DoubleType\n",
    "from pyspark.ml.fpm import FPGrowth\n",
    "import pyspark.sql.functions as F"
   ]
  },
  {
   "cell_type": "code",
   "execution_count": 7,
   "id": "7fedb1a1-5a11-482a-982a-e2b4794efee3",
   "metadata": {},
   "outputs": [],
   "source": [
    "# Create Spark Session\n",
    "spark = SparkSession.builder.appName(\"MapReduce\").getOrCreate()"
   ]
  },
  {
   "cell_type": "code",
   "execution_count": 8,
   "id": "ff4170ba-faf9-427d-8cd6-37d6e11af3af",
   "metadata": {},
   "outputs": [],
   "source": [
    "# Import data\n",
    "data = spark.read.csv(\"amazon_books_data/Books_rating.csv\", header=True, inferSchema=True)\n",
    "#data.show(5)"
   ]
  },
  {
   "cell_type": "code",
   "execution_count": 9,
   "id": "89825f6b-49b7-441f-99f4-b6c2e8312289",
   "metadata": {},
   "outputs": [
    {
     "name": "stdout",
     "output_type": "stream",
     "text": [
      "+----------+--------------------+--------------+-----+\n",
      "|        Id|               Title|       User_id|score|\n",
      "+----------+--------------------+--------------+-----+\n",
      "|1882931173|Its Only Art If I...| AVCGYZL8FQQTD|  4.0|\n",
      "|0826414346|Dr. Seuss: Americ...|A30TK6U7DNS82R|  5.0|\n",
      "|0826414346|Dr. Seuss: Americ...|A3UH4UZ4RSVO82|  5.0|\n",
      "|0826414346|Dr. Seuss: Americ...|A2MVUWT453QH61|  4.0|\n",
      "|0826414346|Dr. Seuss: Americ...|A22X4XUPKF66MR|  4.0|\n",
      "+----------+--------------------+--------------+-----+\n",
      "only showing top 5 rows\n",
      "\n"
     ]
    }
   ],
   "source": [
    "#Select only useful columns\n",
    "df = data.select(\"Id\", 'Title', \"User_id\", \"review/score\").withColumnRenamed(\"review/score\", \"score\")\n",
    "#df.show(5)"
   ]
  },
  {
   "cell_type": "markdown",
   "id": "689a5990-8e66-46ba-b901-e2512c7588e7",
   "metadata": {},
   "source": [
    "### **2.1 Data Integrity**"
   ]
  },
  {
   "cell_type": "code",
   "execution_count": 10,
   "id": "4aba7801-26bb-4ede-b4e0-9d8b86872faf",
   "metadata": {},
   "outputs": [
    {
     "name": "stdout",
     "output_type": "stream",
     "text": [
      "root\n",
      " |-- Id: string (nullable = true)\n",
      " |-- Title: string (nullable = true)\n",
      " |-- User_id: string (nullable = true)\n",
      " |-- score: string (nullable = true)\n",
      "\n"
     ]
    }
   ],
   "source": [
    "df.printSchema()"
   ]
  },
  {
   "cell_type": "code",
   "execution_count": 11,
   "id": "b338f85d-630b-4d4f-8bc8-2c0d7bc843c8",
   "metadata": {},
   "outputs": [
    {
     "name": "stdout",
     "output_type": "stream",
     "text": [
      "root\n",
      " |-- Id: string (nullable = true)\n",
      " |-- Title: string (nullable = true)\n",
      " |-- User_id: string (nullable = true)\n",
      " |-- score: double (nullable = true)\n",
      "\n"
     ]
    }
   ],
   "source": [
    "# Transform 'score' variable in double type\n",
    "df = df.withColumn(\"score\", col(\"score\").cast(DoubleType()))\n",
    "df.printSchema()"
   ]
  },
  {
   "cell_type": "code",
   "execution_count": 12,
   "id": "0f19f6eb-d07a-488c-a051-daec53e43aff",
   "metadata": {},
   "outputs": [
    {
     "name": "stdout",
     "output_type": "stream",
     "text": [
      "+---------+----------+\n",
      "|min_score| max_score|\n",
      "+---------+----------+\n",
      "|      1.0|1.295568E9|\n",
      "+---------+----------+\n",
      "\n"
     ]
    }
   ],
   "source": [
    "# Check score range\n",
    "df.select(min(col(\"score\")).alias(\"min_score\"), max(col(\"score\")).alias(\"max_score\")).show()"
   ]
  },
  {
   "cell_type": "code",
   "execution_count": 13,
   "id": "55593ded-7fa4-402a-b75c-e813567c3987",
   "metadata": {},
   "outputs": [
    {
     "name": "stdout",
     "output_type": "stream",
     "text": [
      "+---------+---------+\n",
      "|min_score|max_score|\n",
      "+---------+---------+\n",
      "|      1.0|      5.0|\n",
      "+---------+---------+\n",
      "\n"
     ]
    }
   ],
   "source": [
    "# Keep just data with the 'score' values in the correct range [1, 5]\n",
    "df = df.filter((col(\"score\") >= 1) & (col(\"score\") <= 5))\n",
    "df.select(min(\"score\").alias(\"min_score\"), max(\"score\").alias(\"max_score\")).show()"
   ]
  },
  {
   "cell_type": "markdown",
   "id": "045d1899-4dea-41f1-ac47-5a885e93d370",
   "metadata": {},
   "source": [
    "### **2.2 Missing Data**"
   ]
  },
  {
   "cell_type": "code",
   "execution_count": 14,
   "id": "696f1305-282a-48ed-823a-eb518e19d8dd",
   "metadata": {},
   "outputs": [],
   "source": [
    "# Count null values for each variable\n",
    "null_counts = df.select(\n",
    "    [sum(when(col(c).isNull(), 1).otherwise(0)).alias(c) for c in df.columns]\n",
    ")\n",
    "\n",
    "#null_counts.show()"
   ]
  },
  {
   "cell_type": "markdown",
   "id": "6ddd56cd-47dd-454c-8222-1b69d34c40c0",
   "metadata": {},
   "source": [
    "What stands out right away, especially for the purpose of our analysis, is that there are many missing values in the User_id variable. One possible reason for this could be that users who leave reviews but are not registered don’t have a user ID. Our goal is to identify baskets of items purchased by the same users, but without the user ID, this analysis cannot be conducted. We explored the possibility of using profile names instead, by assigning a dummy ID to users with the same name. However, we were aware that this might not provide accurate results due to potential name duplication. Moreover, there were more missing profile names than missing user IDs, which made this solution unfeasible. After considering our options, we ultimately decided to **drop the missing values**, as we couldn’t identify a suitable method to replace them."
   ]
  },
  {
   "cell_type": "code",
   "execution_count": 15,
   "id": "178c2f35-40a7-4a64-9e64-11634befd3c2",
   "metadata": {},
   "outputs": [],
   "source": [
    "# Remove null values\n",
    "df_clean = df.dropna()\n",
    "#df_clean.show(5)"
   ]
  },
  {
   "cell_type": "code",
   "execution_count": 16,
   "id": "792236e6-bcae-4999-9c02-3a79a618e555",
   "metadata": {},
   "outputs": [
    {
     "name": "stdout",
     "output_type": "stream",
     "text": [
      "Number of Rows - Before cleaning: 2981912\n",
      "Number of Rows - After cleaning: 2420237\n"
     ]
    }
   ],
   "source": [
    "# Check data size\n",
    "n_rows = df.count()\n",
    "n_rows_clean = df_clean.count()\n",
    "print(f\"Number of Rows - Before cleaning: {n_rows}\")\n",
    "print(f\"Number of Rows - After cleaning: {n_rows_clean}\")"
   ]
  },
  {
   "cell_type": "markdown",
   "id": "8d8eca9a-a340-44b9-8721-8f50635c574f",
   "metadata": {},
   "source": [
    "### **2.3 Data Duplicates**"
   ]
  },
  {
   "cell_type": "code",
   "execution_count": 17,
   "id": "b58a5aca-1373-48a0-825a-1fc589a19843",
   "metadata": {},
   "outputs": [
    {
     "name": "stdout",
     "output_type": "stream",
     "text": [
      "Number of Rows - After duplicates removal: 2383199\n"
     ]
    }
   ],
   "source": [
    "# Remove duplicated rows\n",
    "df_clean = df_clean.dropDuplicates()\n",
    "\n",
    "n_rows_clean = df_clean.count()\n",
    "print(f\"Number of Rows - After duplicates removal: {n_rows_clean}\")"
   ]
  },
  {
   "cell_type": "markdown",
   "id": "1db8a113-16f5-4ab7-a08d-38ebc3257acb",
   "metadata": {},
   "source": [
    "Up until now, we’ve performed a general cleaning of the dataset. From here on, we’ll focus exclusively on the three columns that are relevant to our analysis (Id, User_id, and score), forming a new dataset: df_short."
   ]
  },
  {
   "cell_type": "code",
   "execution_count": 18,
   "id": "1bd6df60-8224-4062-8083-f351ae6564c7",
   "metadata": {},
   "outputs": [],
   "source": [
    "# Remove useless columns\n",
    "df_short = df_clean.select(\"Id\", \"User_id\",\"score\")\n",
    "#df_short.show(5)"
   ]
  },
  {
   "cell_type": "code",
   "execution_count": 19,
   "id": "36ce2b8f-8fea-4242-bfcd-79b4c2cf08d4",
   "metadata": {},
   "outputs": [],
   "source": [
    "# Check and remove duplicated rows for the three considered variables\n",
    "df_short= df_short.dropDuplicates()"
   ]
  },
  {
   "cell_type": "markdown",
   "id": "01e30303-5bc3-4aa8-a1f4-3b0aeb9a757f",
   "metadata": {},
   "source": [
    "Given that the same user could have rated the same book twice, we want to compute the mean of the different scores given by the same user to the same book."
   ]
  },
  {
   "cell_type": "code",
   "execution_count": 20,
   "id": "7088e5e5-defb-4e04-a380-8ba5402126d1",
   "metadata": {},
   "outputs": [],
   "source": [
    "# Find duplicates considering only 'Id' and 'User_id'\n",
    "duplicati = df_short.groupBy(\"Id\", \"User_id\").count().filter(\"count > 1\")"
   ]
  },
  {
   "cell_type": "code",
   "execution_count": 21,
   "id": "4695327d-85fe-4038-a0c8-3692f2dd5524",
   "metadata": {},
   "outputs": [],
   "source": [
    "# Compute average score for every (Id, User_id)\n",
    "score_mean = df_short.groupBy('Id', 'User_id').agg(F.mean('score').alias('mean_score'))\n",
    "df_final = df_short.join(score_mean, on=['Id', 'User_id'], how='left')\n",
    "\n",
    "# Creation of the final preprocessed dataset\n",
    "df_final = df_final.select('Id','User_id', 'mean_score')\n",
    "df_final = df_final.dropDuplicates()\n",
    "#df_final.show(5)"
   ]
  },
  {
   "cell_type": "code",
   "execution_count": 22,
   "id": "ff19bedb-5e69-46f1-9d61-06d2f882e6b5",
   "metadata": {},
   "outputs": [
    {
     "name": "stdout",
     "output_type": "stream",
     "text": [
      "Number of Rows - Final dataset: 2380155\n"
     ]
    }
   ],
   "source": [
    "#n_rows_final = df_final.count()\n",
    "#print(f\"Number of Rows - Final dataset: {n_rows_final}\")"
   ]
  },
  {
   "cell_type": "markdown",
   "id": "8433c56b-d689-47f5-9909-fef27f4ccb77",
   "metadata": {},
   "source": [
    "### **2.4 Rating Means**"
   ]
  },
  {
   "cell_type": "markdown",
   "id": "f5bc304d-8f56-4051-815d-49ff13645eb9",
   "metadata": {},
   "source": [
    "We want to calculate the overall average score to see if consistency is maintained after creating the subsample."
   ]
  },
  {
   "cell_type": "markdown",
   "id": "a3d55063-645d-49bf-a292-18707abbb343",
   "metadata": {},
   "source": [
    "- Overall mean score:"
   ]
  },
  {
   "cell_type": "code",
   "execution_count": 23,
   "id": "165372fe-dcaa-47ce-a264-3bbf09c6d651",
   "metadata": {},
   "outputs": [
    {
     "name": "stdout",
     "output_type": "stream",
     "text": [
      "Overall mean score - Final dataset: 4.223861961370863\n"
     ]
    }
   ],
   "source": [
    "df_final = df_final.withColumn(\"mean_score\", F.col(\"mean_score\").cast(\"double\"))\n",
    "\n",
    "overall_mean = df_final.agg(F.avg(\"mean_score\")).collect()[0][0]\n",
    "print(f\"Overall mean score - Final dataset: {overall_mean}\")"
   ]
  },
  {
   "cell_type": "markdown",
   "id": "294ea9f6-42b3-4586-ae5a-f06239029d1b",
   "metadata": {},
   "source": [
    "---\n",
    "## **3. Subsample Creation**"
   ]
  },
  {
   "cell_type": "markdown",
   "id": "21056f28-3e8c-44f4-a835-609c111f028b",
   "metadata": {},
   "source": [
    "We aim to create a subsample that remains consistent with the original dataset. To achieve this, we select a fraction of users while ensuring that all their reviews are included. This approach allows us to better represent their purchasing behavior and rating patterns, preserving the integrity of the data."
   ]
  },
  {
   "cell_type": "code",
   "execution_count": 24,
   "id": "d1f2591d-06d3-4f9c-a6ee-06f4103590a4",
   "metadata": {},
   "outputs": [
    {
     "name": "stdout",
     "output_type": "stream",
     "text": [
      "Total number of different users - Original dataset: 1004214\n"
     ]
    }
   ],
   "source": [
    "num_users = df_final.select(\"User_id\").distinct().count()\n",
    "print(f\"Total number of different users - Original dataset: {num_users}\")"
   ]
  },
  {
   "cell_type": "code",
   "execution_count": 25,
   "id": "94cee6f8-b6c5-4a3b-a5f8-4caffdd9f22c",
   "metadata": {},
   "outputs": [],
   "source": [
    "# Keep just 20% of the users\n",
    "sample_fraction = 0.2\n",
    "user_sample = df_final.select(\"User_id\").distinct().sample(fraction=sample_fraction, seed=42)"
   ]
  },
  {
   "cell_type": "code",
   "execution_count": 26,
   "id": "b97d58b5-6af5-43c1-9aa7-7f5651c51363",
   "metadata": {},
   "outputs": [],
   "source": [
    "# Create the subsample with the selected users\n",
    "df_sampled = df_final.join(user_sample, on=\"User_id\", how=\"inner\")\n",
    "#df_sampled.show(5)"
   ]
  },
  {
   "cell_type": "code",
   "execution_count": 27,
   "id": "7f48b9e1-b2f5-4014-91ef-2f1308b39929",
   "metadata": {},
   "outputs": [
    {
     "name": "stdout",
     "output_type": "stream",
     "text": [
      "Number of Rows - Sample: 471573\n"
     ]
    }
   ],
   "source": [
    "# Check subsample size\n",
    "#n_rows_sample = df_sampled.count()\n",
    "#print(f\"Number of Rows - Sample: {n_rows_sample}\")"
   ]
  },
  {
   "cell_type": "code",
   "execution_count": 28,
   "id": "0869e35a-d2c5-4a99-b25f-dfd385438b32",
   "metadata": {},
   "outputs": [
    {
     "name": "stdout",
     "output_type": "stream",
     "text": [
      "root\n",
      " |-- User_id: string (nullable = true)\n",
      " |-- Id: string (nullable = true)\n",
      " |-- mean_score: double (nullable = true)\n",
      "\n"
     ]
    }
   ],
   "source": [
    "# Check data integrity\n",
    "df_sampled.printSchema()"
   ]
  },
  {
   "cell_type": "markdown",
   "id": "a79f3da9-ed42-40c5-986e-e55617e1cf42",
   "metadata": {},
   "source": [
    "### **3.1 Sample reliability**"
   ]
  },
  {
   "cell_type": "code",
   "execution_count": 77,
   "id": "72b5f009-e652-47ac-98e8-7554a553f032",
   "metadata": {},
   "outputs": [
    {
     "name": "stdout",
     "output_type": "stream",
     "text": [
      "Books rated by each user - Original: 2.37\n",
      "books rated by each user - Subsample: 2.34\n"
     ]
    }
   ],
   "source": [
    "#Check number of books rated by each user\n",
    "avg_rows_original = df_final.groupBy(\"User_id\").count().agg(F.mean(\"count\")).collect()[0][0]\n",
    "avg_rows_sampled = df_sampled.groupBy(\"User_id\").count().agg(F.mean(\"count\")).collect()[0][0]\n",
    "\n",
    "print(f\"Books rated by each user - Original: {avg_rows_original:.2f}\")\n",
    "print(f\"books rated by each user - Subsample: {avg_rows_sampled:.2f}\")"
   ]
  },
  {
   "cell_type": "code",
   "execution_count": 75,
   "id": "5e469486-b73f-41ec-88f7-8e1e3149233d",
   "metadata": {},
   "outputs": [
    {
     "name": "stdout",
     "output_type": "stream",
     "text": [
      "+-----------------+------------------+\n",
      "|  avg(mean_score)|stddev(mean_score)|\n",
      "+-----------------+------------------+\n",
      "|4.223861961370863|1.1813900530297332|\n",
      "+-----------------+------------------+\n",
      "\n",
      "+-----------------+------------------+\n",
      "|  avg(mean_score)|stddev(mean_score)|\n",
      "+-----------------+------------------+\n",
      "|4.221354205322752|1.1848382781134867|\n",
      "+-----------------+------------------+\n",
      "\n"
     ]
    }
   ],
   "source": [
    "#Check Score Average and Standard Deviation\n",
    "df_final.select(F.mean(\"mean_score\"), F.stddev(\"mean_score\")).show()\n",
    "df_sampled.select(F.mean(\"mean_score\"), F.stddev(\"mean_score\")).show()"
   ]
  },
  {
   "cell_type": "markdown",
   "id": "73a4bba1-1e78-4823-9144-166150aa1e88",
   "metadata": {},
   "source": [
    "---\n",
    "## **4. Algorithm Implementation**"
   ]
  },
  {
   "cell_type": "code",
   "execution_count": null,
   "id": "01ed9be4-2d7a-4450-afc0-3c47bb6eb64e",
   "metadata": {},
   "outputs": [],
   "source": [
    "#scegliere "
   ]
  },
  {
   "cell_type": "markdown",
   "id": "e6333ecd-fbfb-4250-97cd-3ca9600550d5",
   "metadata": {},
   "source": [
    "Before continuing the analysis, we considered only books that received a score above 3, as low ratings might indicate lack of engagement with the book."
   ]
  },
  {
   "cell_type": "code",
   "execution_count": 61,
   "id": "b2720c41-7770-4fff-8ec0-08c7e8724311",
   "metadata": {},
   "outputs": [],
   "source": [
    "# Filter and keep just rows with rating >= 3\n",
    "df_filtered = df_sampled.filter(col(\"mean_score\") >= 3)\n",
    "#df_filtered.count()"
   ]
  },
  {
   "cell_type": "markdown",
   "id": "3000ff6b-7b53-4f46-a684-961ef17ad8ac",
   "metadata": {},
   "source": [
    "Then we filtered for users who have rated at least 2 books, because otherwise, if they have only one high rating, we wouldn't be able to understand what other books they might buy based on that rating."
   ]
  },
  {
   "cell_type": "code",
   "execution_count": 63,
   "id": "71930433-d387-4cfb-8313-f9543340efb0",
   "metadata": {},
   "outputs": [],
   "source": [
    "# Filter and keep just users who rated > 1 book\n",
    "user_counts = df_filtered.groupBy(\"User_id\").agg(count(\"Id\").alias(\"book_count\"))\n",
    "users_with_multiple_books = user_counts.filter(col(\"book_count\") > 1).select(\"User_id\")\n",
    "\n",
    "df_filtered = df_filtered.join(users_with_multiple_books, on=\"User_id\", how=\"inner\")\n",
    "#df_filtered.count()"
   ]
  },
  {
   "cell_type": "code",
   "execution_count": 32,
   "id": "48de55fe-2059-4085-833b-34010f829fb3",
   "metadata": {},
   "outputs": [
    {
     "name": "stdout",
     "output_type": "stream",
     "text": [
      "+--------------------+----------+----------+\n",
      "|             User_id|        Id|mean_score|\n",
      "+--------------------+----------+----------+\n",
      "|A0236983QUCQMORABO03|1587888408|       5.0|\n",
      "|A0236983QUCQMORABO03|1587888432|       5.0|\n",
      "|A0236983QUCQMORABO03|1593352077|       5.0|\n",
      "|A025268923L497N34...|B000P0UDX4|       5.0|\n",
      "|A025268923L497N34...|B00005UVH9|       5.0|\n",
      "+--------------------+----------+----------+\n",
      "only showing top 5 rows\n",
      "\n"
     ]
    }
   ],
   "source": [
    "#df_filtered.show(5)"
   ]
  },
  {
   "cell_type": "markdown",
   "id": "9e9da92c-5008-44b9-b306-b48c9c9e264c",
   "metadata": {},
   "source": [
    "### **4.1 A-priori Algorithms**"
   ]
  },
  {
   "cell_type": "markdown",
   "id": "a431e324-cd3c-4622-8536-53e2ba7706a2",
   "metadata": {},
   "source": [
    "The Apriori algorithm is an association rule mining method used to discover frequent patterns within large datasets. It works by first identifying the most frequently occurring itemsets and then extracting association rules that express relationships between these itemsets. The algorithm follows an iterative approach, progressively eliminating less frequent itemsets, improving efficiency. It is commonly used in market basket analysis."
   ]
  },
  {
   "cell_type": "markdown",
   "id": "9603fb44-ea46-46ad-8489-9911e1352245",
   "metadata": {},
   "source": [
    "#### **4.1.1 Mlxtend**"
   ]
  },
  {
   "cell_type": "markdown",
   "id": "319c28b9-25cf-4397-9572-cdbb4b027305",
   "metadata": {},
   "source": [
    "In the context of Apriori, MLxtend provides an easy-to-use implementation for association rule mining. The apriori function in MLxtend helps identify frequent itemsets from transaction data, while the association_rules function generates association rules based on these frequent itemsets. It is widely used for tasks like market basket analysis, where the goal is to find associations between products frequently bought together."
   ]
  },
  {
   "cell_type": "code",
   "execution_count": 78,
   "id": "a6c54af1-3f80-4a41-91f7-941fa000b878",
   "metadata": {},
   "outputs": [],
   "source": [
    "#import necessary libraries\n",
    "from pyspark.sql.functions import collect_set\n",
    "from mlxtend.frequent_patterns import apriori, association_rules\n",
    "import pandas as pd\n",
    "from scipy.sparse import lil_matrix"
   ]
  },
  {
   "cell_type": "code",
   "execution_count": null,
   "id": "4cff28e8-d21d-4c02-91b3-3341ac8e9c4e",
   "metadata": {},
   "outputs": [],
   "source": []
  },
  {
   "cell_type": "code",
   "execution_count": null,
   "id": "5e90433d-5637-4512-a63a-f06a596bb65f",
   "metadata": {},
   "outputs": [],
   "source": []
  },
  {
   "cell_type": "code",
   "execution_count": null,
   "id": "327e06d9-f4a4-4bc0-9f46-769ccd463169",
   "metadata": {},
   "outputs": [],
   "source": []
  },
  {
   "cell_type": "code",
   "execution_count": null,
   "id": "ed5667fd-3693-4768-8934-b50ea5676b4b",
   "metadata": {},
   "outputs": [],
   "source": []
  },
  {
   "cell_type": "code",
   "execution_count": null,
   "id": "576cf72c-924c-4d02-9847-91c3346181f2",
   "metadata": {},
   "outputs": [],
   "source": []
  },
  {
   "cell_type": "markdown",
   "id": "c7221f0e-72c4-402b-960d-709c9944073f",
   "metadata": {},
   "source": [
    "#### 4.1 FP-Growth Algorithm"
   ]
  },
  {
   "cell_type": "markdown",
   "id": "0b821d5a-7d90-4691-9bdb-f05302ce8c5a",
   "metadata": {},
   "source": [
    "Primo algoritmo è appunto FP-GROWTH, da dire qualcosa"
   ]
  },
  {
   "cell_type": "markdown",
   "id": "c51b03cb-f56a-4a54-9437-fd6551e71513",
   "metadata": {},
   "source": [
    "- Creation of Baskets of items "
   ]
  },
  {
   "cell_type": "code",
   "execution_count": 33,
   "id": "2037cac7-7b56-4bf0-ba27-00692d940305",
   "metadata": {},
   "outputs": [],
   "source": [
    "# Create baskets of items for every user\n",
    "df_basket = df_filtered.groupBy(\"User_id\").agg(collect_set(\"Id\").alias(\"items\"))"
   ]
  },
  {
   "cell_type": "markdown",
   "id": "f3e8eb0f-6d91-4127-a998-a9567fadf9ca",
   "metadata": {},
   "source": [
    "- Algorithm application"
   ]
  },
  {
   "cell_type": "code",
   "execution_count": 34,
   "id": "40008658-82a6-409f-9cf1-4234c6fa80a8",
   "metadata": {},
   "outputs": [],
   "source": [
    "# Apply FP-Growth\n",
    "fpGrowth = FPGrowth(itemsCol=\"items\", minSupport=0.01, minConfidence=0.2)\n",
    "model = fpGrowth.fit(df_basket)\n"
   ]
  },
  {
   "cell_type": "markdown",
   "id": "0e346586-7a58-4e93-8596-d91e3271d92e",
   "metadata": {},
   "source": [
    "Abbiamo scelto un supporto di tot perche , e un confidence di tot perchè.\n",
    " - Support: probabilità di acquisto di tutto il basket\n",
    " - Confidence: probabilità che se compro un basket compro anche l'altro libr\n",
    "    "
   ]
  },
  {
   "cell_type": "code",
   "execution_count": 35,
   "id": "6f6985f1-0c3f-4ffd-ae9b-98634b670524",
   "metadata": {},
   "outputs": [
    {
     "name": "stdout",
     "output_type": "stream",
     "text": [
      "Frequent Itemsets:\n",
      "+------------------------------------------------+----+\n",
      "|items                                           |freq|\n",
      "+------------------------------------------------+----+\n",
      "|[B000ILIJE0]                                    |689 |\n",
      "|[B000NWU3I4]                                    |687 |\n",
      "|[B000NWU3I4, B000ILIJE0]                        |686 |\n",
      "|[B000PC54NG]                                    |685 |\n",
      "|[B000PC54NG, B000NWU3I4]                        |684 |\n",
      "|[B000PC54NG, B000NWU3I4, B000ILIJE0]            |683 |\n",
      "|[B000PC54NG, B000ILIJE0]                        |684 |\n",
      "|[B000NWQXBA]                                    |683 |\n",
      "|[B000NWQXBA, B000PC54NG]                        |683 |\n",
      "|[B000NWQXBA, B000PC54NG, B000NWU3I4]            |682 |\n",
      "|[B000NWQXBA, B000PC54NG, B000NWU3I4, B000ILIJE0]|682 |\n",
      "|[B000NWQXBA, B000PC54NG, B000ILIJE0]            |683 |\n",
      "|[B000NWQXBA, B000NWU3I4]                        |682 |\n",
      "|[B000NWQXBA, B000NWU3I4, B000ILIJE0]            |682 |\n",
      "|[B000NWQXBA, B000ILIJE0]                        |683 |\n",
      "|[B000Q032UY]                                    |678 |\n",
      "|[B000Q032UY, B000PC54NG]                        |678 |\n",
      "|[B000Q032UY, B000PC54NG, B000NWU3I4]            |677 |\n",
      "|[B000Q032UY, B000PC54NG, B000NWU3I4, B000ILIJE0]|677 |\n",
      "|[B000Q032UY, B000PC54NG, B000ILIJE0]            |678 |\n",
      "+------------------------------------------------+----+\n",
      "only showing top 20 rows\n",
      "\n"
     ]
    }
   ],
   "source": [
    "print(\"Frequent Itemsets:\")\n",
    "model.freqItemsets.show(truncate=False)\n",
    "\n",
    "# Count number of Frequent Itemsets\n",
    "#num_freq_itemsets = model.freqItemsets.count()\n",
    "#print(f\"Number of rows of Frequent Itemsets: {num_freq_itemsets}\")"
   ]
  },
  {
   "cell_type": "markdown",
   "id": "2f6d37d0-ac34-4b56-99d0-8e692725d0d8",
   "metadata": {},
   "source": [
    "- Alta confidenza e lift elevato: Se vedi una regola con alta confidenza (vicina a 1.0) e un valore di lift molto alto, significa che c'è una forte correlazione tra gli articoli dell'antecedente e quelli del conseguente. Queste sono regole particolarmente utili per le raccomandazioni di prodotto.\n",
    "\n",
    "- Basso supporto, alta confidenza e lift alto: Anche se il supporto è basso (ad esempio, 1% delle transazioni), un lift elevato e una confidenza vicina a 1.0 indicano che la regola è molto significativa per un numero ridotto di transazioni."
   ]
  },
  {
   "cell_type": "code",
   "execution_count": 36,
   "id": "263048da-7825-4c9c-9a1b-394b300bf962",
   "metadata": {},
   "outputs": [
    {
     "name": "stdout",
     "output_type": "stream",
     "text": [
      "Association Rules:\n",
      "+------------------------------------------------------------------------+------------+------------------+-----------------+--------------------+\n",
      "|antecedent                                                              |consequent  |confidence        |lift             |support             |\n",
      "+------------------------------------------------------------------------+------------+------------------+-----------------+--------------------+\n",
      "|[B000NDSX6C, B000GQG7D2, B000H9R1Q0, B000PC54NG, B000NWU3I4, B000ILIJE0]|[B000GQG5MA]|0.9640522875816994|78.92355222311484|0.010936051899907321|\n",
      "|[B000NDSX6C, B000GQG7D2, B000H9R1Q0, B000PC54NG, B000NWU3I4, B000ILIJE0]|[B000Q032UY]|1.0               |79.57227138643069|0.01134383688600556 |\n",
      "|[B000NDSX6C, B000GQG7D2, B000H9R1Q0, B000PC54NG, B000NWU3I4, B000ILIJE0]|[B000NWQXBA]|1.0               |78.98975109809663|0.01134383688600556 |\n",
      "|[B000GQG7D2, B000Q032UY, B000PC54NG, B000NWU3I4, B000ILIJE0]            |[B000H9R1Q0]|1.0               |79.57227138643069|0.012159406858202038|\n",
      "|[B000GQG7D2, B000Q032UY, B000PC54NG, B000NWU3I4, B000ILIJE0]            |[B000NWQXBA]|1.0               |78.98975109809663|0.012159406858202038|\n",
      "|[B000GQG7D2, B000Q032UY, B000PC54NG, B000NWU3I4, B000ILIJE0]            |[B000GQG5MA]|0.9588414634146342|78.49696047226026|0.011658943466172382|\n",
      "|[B000GQG7D2, B000Q032UY, B000PC54NG, B000NWU3I4, B000ILIJE0]            |[B000NDSX6C]|0.9329268292682927|78.39782311374516|0.01134383688600556 |\n",
      "|[B000GQG7D2, B000NWQXBA, B000ILIJE0]                                    |[B000H9R1Q0]|0.9939485627836612|79.09074478197422|0.012177942539388323|\n",
      "|[B000GQG7D2, B000NWQXBA, B000ILIJE0]                                    |[B000Q032UY]|0.9939485627836612|79.09074478197422|0.012177942539388323|\n",
      "|[B000GQG7D2, B000NWQXBA, B000ILIJE0]                                    |[B000PC54NG]|1.0               |78.75912408759123|0.012252085264133458|\n",
      "|[B000GQG7D2, B000NWQXBA, B000ILIJE0]                                    |[B000NWU3I4]|0.9984871406959153|78.41103528463556|0.012233549582947173|\n",
      "|[B000GQG7D2, B000NWQXBA, B000ILIJE0]                                    |[B000GQG5MA]|0.9591527987897126|78.52244839864187|0.0117516218721038  |\n",
      "|[B000GQG7D2, B000NWQXBA, B000ILIJE0]                                    |[B000NDSX6C]|0.9319213313161876|78.31332682945221|0.011417979610750695|\n",
      "|[B000NDSX6C, B000GQG7D2, B000PC54NG, B000NWU3I4, B000ILIJE0]            |[B000GQG5MA]|0.9642276422764228|78.93790789197725|0.010991658943466173|\n",
      "|[B000NDSX6C, B000GQG7D2, B000PC54NG, B000NWU3I4, B000ILIJE0]            |[B000H9R1Q0]|0.9951219512195122|79.18411396503346|0.01134383688600556 |\n",
      "|[B000NDSX6C, B000GQG7D2, B000PC54NG, B000NWU3I4, B000ILIJE0]            |[B000Q032UY]|0.9951219512195122|79.18411396503346|0.01134383688600556 |\n",
      "|[B000NDSX6C, B000GQG7D2, B000PC54NG, B000NWU3I4, B000ILIJE0]            |[B000NWQXBA]|1.0               |78.98975109809663|0.011399443929564412|\n",
      "|[B000GQG5MA, B000ILIJE0]                                                |[B000PC54NG]|0.9954407294832827|78.4000399352162 |0.012140871177015755|\n",
      "|[B000GQG5MA, B000ILIJE0]                                                |[B000H9R1Q0]|0.986322188449848 |78.48389685378953|0.012029657089898053|\n",
      "|[B000GQG5MA, B000ILIJE0]                                                |[B000Q032UY]|0.986322188449848 |78.48389685378953|0.012029657089898053|\n",
      "+------------------------------------------------------------------------+------------+------------------+-----------------+--------------------+\n",
      "only showing top 20 rows\n",
      "\n",
      "Number of rows of Association Rules: 2295\n"
     ]
    }
   ],
   "source": [
    "print(\"Association Rules:\")\n",
    "model.associationRules.show(truncate=False)\n",
    "\n",
    "# Count number of Association Rules\n",
    "num_association_rules = model.associationRules.count()\n",
    "print(f\"Number of rows of Association Rules: {num_association_rules}\")"
   ]
  },
  {
   "cell_type": "markdown",
   "id": "0eaa35f8-a718-4ce8-b20f-1881b1f3bac1",
   "metadata": {},
   "source": [
    "- Considering association rules with antecedent and precedent a single book"
   ]
  },
  {
   "cell_type": "code",
   "execution_count": 37,
   "id": "3be86e41-b31d-458d-8943-34a186b24621",
   "metadata": {},
   "outputs": [
    {
     "name": "stdout",
     "output_type": "stream",
     "text": [
      "+-----------------+-----------------+------------------+-----------------+--------------------+\n",
      "|antecedent_single|consequent_single|confidence        |lift             |support             |\n",
      "+-----------------+-----------------+------------------+-----------------+--------------------+\n",
      "|B000NDSX6C       |B000GQG5MA       |0.9640522875816994|78.92355222311484|0.010936051899907321|\n",
      "|B000GQG7D2       |B000GQG5MA       |0.9640522875816994|78.92355222311484|0.010936051899907321|\n",
      "|B000H9R1Q0       |B000GQG5MA       |0.9640522875816994|78.92355222311484|0.010936051899907321|\n",
      "|B000PC54NG       |B000GQG5MA       |0.9640522875816994|78.92355222311484|0.010936051899907321|\n",
      "|B000NWU3I4       |B000GQG5MA       |0.9640522875816994|78.92355222311484|0.010936051899907321|\n",
      "|B000ILIJE0       |B000GQG5MA       |0.9640522875816994|78.92355222311484|0.010936051899907321|\n",
      "|B000NDSX6C       |B000Q032UY       |1.0               |79.57227138643069|0.01134383688600556 |\n",
      "|B000GQG7D2       |B000Q032UY       |1.0               |79.57227138643069|0.01134383688600556 |\n",
      "|B000H9R1Q0       |B000Q032UY       |1.0               |79.57227138643069|0.01134383688600556 |\n",
      "|B000PC54NG       |B000Q032UY       |1.0               |79.57227138643069|0.01134383688600556 |\n",
      "|B000NWU3I4       |B000Q032UY       |1.0               |79.57227138643069|0.01134383688600556 |\n",
      "|B000ILIJE0       |B000Q032UY       |1.0               |79.57227138643069|0.01134383688600556 |\n",
      "|B000NDSX6C       |B000NWQXBA       |1.0               |78.98975109809663|0.01134383688600556 |\n",
      "|B000GQG7D2       |B000NWQXBA       |1.0               |78.98975109809663|0.01134383688600556 |\n",
      "|B000H9R1Q0       |B000NWQXBA       |1.0               |78.98975109809663|0.01134383688600556 |\n",
      "|B000PC54NG       |B000NWQXBA       |1.0               |78.98975109809663|0.01134383688600556 |\n",
      "|B000NWU3I4       |B000NWQXBA       |1.0               |78.98975109809663|0.01134383688600556 |\n",
      "|B000ILIJE0       |B000NWQXBA       |1.0               |78.98975109809663|0.01134383688600556 |\n",
      "|B000GQG7D2       |B000H9R1Q0       |1.0               |79.57227138643069|0.012159406858202038|\n",
      "|B000Q032UY       |B000H9R1Q0       |1.0               |79.57227138643069|0.012159406858202038|\n",
      "+-----------------+-----------------+------------------+-----------------+--------------------+\n",
      "only showing top 20 rows\n",
      "\n"
     ]
    }
   ],
   "source": [
    "association_rules = model.associationRules\n",
    "\n",
    "association_rules_single = association_rules.withColumn(\n",
    "    \"antecedent_single\", \n",
    "    F.explode(association_rules.antecedent)\n",
    ").withColumn(\n",
    "    \"consequent_single\", \n",
    "    F.explode(association_rules.consequent)\n",
    ")\n",
    "\n",
    "association_rules_single.select(\"antecedent_single\", \"consequent_single\", \"confidence\", \"lift\", \"support\").show(truncate=False)\n"
   ]
  },
  {
   "cell_type": "markdown",
   "id": "064d47a7-936e-4c00-8495-0703eca7ad9c",
   "metadata": {},
   "source": [
    "#### 4.2 A-Priori Algoritmhs"
   ]
  },
  {
   "cell_type": "markdown",
   "id": "2e372fec-d415-4ebc-af25-d579537f4ded",
   "metadata": {},
   "source": [
    "Breve introduction "
   ]
  },
  {
   "cell_type": "markdown",
   "id": "708a18b6-b45a-436a-bd0f-5e0f9b96480b",
   "metadata": {},
   "source": [
    "##### 4.2.1Prima implementazione usando la libreria mlxtend"
   ]
  },
  {
   "cell_type": "code",
   "execution_count": 38,
   "id": "f3aa0a00-dfa6-40fd-92e6-731b08e502b3",
   "metadata": {},
   "outputs": [],
   "source": [
    "from pyspark.sql.functions import collect_set\n",
    "from mlxtend.frequent_patterns import apriori, association_rules\n",
    "import pandas as pd\n",
    "from scipy.sparse import lil_matrix"
   ]
  },
  {
   "cell_type": "markdown",
   "id": "23f40bce-0093-409e-8a37-9e72310a2b41",
   "metadata": {},
   "source": [
    "- Creare basket "
   ]
  },
  {
   "cell_type": "code",
   "execution_count": 39,
   "id": "0edeceda-6343-45d3-98e7-1176fbcb4fe6",
   "metadata": {},
   "outputs": [],
   "source": [
    "# Raggruppare i libri per ogni utente\n",
    "transactions = df_filtered.groupBy(\"User_id\").agg(collect_set(\"Id\").alias(\"books\"))\n",
    "#transactions.show(5)"
   ]
  },
  {
   "cell_type": "markdown",
   "id": "c16f5db8-38b9-456e-b98f-cc1261536743",
   "metadata": {},
   "source": [
    "- Per applicare la libreria mlxtend è necessario convertire in pandas"
   ]
  },
  {
   "cell_type": "code",
   "execution_count": 40,
   "id": "c64c68fb-7bbc-427b-8d94-bddf35bcc6b5",
   "metadata": {},
   "outputs": [],
   "source": [
    "pandas_df = transactions.toPandas()"
   ]
  },
  {
   "cell_type": "code",
   "execution_count": 41,
   "id": "56475785-223e-455e-b831-04dea1b92a9d",
   "metadata": {},
   "outputs": [
    {
     "data": {
      "text/html": [
       "<div>\n",
       "<style scoped>\n",
       "    .dataframe tbody tr th:only-of-type {\n",
       "        vertical-align: middle;\n",
       "    }\n",
       "\n",
       "    .dataframe tbody tr th {\n",
       "        vertical-align: top;\n",
       "    }\n",
       "\n",
       "    .dataframe thead th {\n",
       "        text-align: right;\n",
       "    }\n",
       "</style>\n",
       "<table border=\"1\" class=\"dataframe\">\n",
       "  <thead>\n",
       "    <tr style=\"text-align: right;\">\n",
       "      <th></th>\n",
       "      <th>User_id</th>\n",
       "      <th>books</th>\n",
       "    </tr>\n",
       "  </thead>\n",
       "  <tbody>\n",
       "    <tr>\n",
       "      <th>0</th>\n",
       "      <td>A0236983QUCQMORABO03</td>\n",
       "      <td>[1587888432, 1587888408, 1593352077]</td>\n",
       "    </tr>\n",
       "    <tr>\n",
       "      <th>1</th>\n",
       "      <td>A025268923L497N34PUMH</td>\n",
       "      <td>[B000P0UDX4, B00005UVH9, B0006IU3EE]</td>\n",
       "    </tr>\n",
       "    <tr>\n",
       "      <th>2</th>\n",
       "      <td>A07084061WTSSXN6VLV92</td>\n",
       "      <td>[0808510002, B000Q34B8I, 0521639522, B000FC1BY...</td>\n",
       "    </tr>\n",
       "    <tr>\n",
       "      <th>3</th>\n",
       "      <td>A100Q4BGPV187I</td>\n",
       "      <td>[0743236017, 0743554884]</td>\n",
       "    </tr>\n",
       "    <tr>\n",
       "      <th>4</th>\n",
       "      <td>A100TQ7ZRE0W02</td>\n",
       "      <td>[0971237034, 0976325608, 0971237018, 0972800522]</td>\n",
       "    </tr>\n",
       "  </tbody>\n",
       "</table>\n",
       "</div>"
      ],
      "text/plain": [
       "                 User_id                                              books\n",
       "0   A0236983QUCQMORABO03               [1587888432, 1587888408, 1593352077]\n",
       "1  A025268923L497N34PUMH               [B000P0UDX4, B00005UVH9, B0006IU3EE]\n",
       "2  A07084061WTSSXN6VLV92  [0808510002, B000Q34B8I, 0521639522, B000FC1BY...\n",
       "3         A100Q4BGPV187I                           [0743236017, 0743554884]\n",
       "4         A100TQ7ZRE0W02   [0971237034, 0976325608, 0971237018, 0972800522]"
      ]
     },
     "execution_count": 41,
     "metadata": {},
     "output_type": "execute_result"
    }
   ],
   "source": [
    "pandas_df.head(5)"
   ]
  },
  {
   "cell_type": "markdown",
   "id": "029680fc-e36c-48b6-b57c-f53ef9219e00",
   "metadata": {},
   "source": [
    "- Creare mastrice sparsa"
   ]
  },
  {
   "cell_type": "code",
   "execution_count": 42,
   "id": "acec74e7-1068-4be6-b748-f57734461dd2",
   "metadata": {},
   "outputs": [],
   "source": [
    "unique_books = set(item for sublist in pandas_df[\"books\"] for item in sublist)\n",
    "\n",
    "book_index = {book: idx for idx, book in enumerate(unique_books)}  \n",
    "\n",
    "sparse_matrix = lil_matrix((len(pandas_df), len(unique_books)), dtype=bool)"
   ]
  },
  {
   "cell_type": "markdown",
   "id": "ce9a0eb1-ce42-430b-9cda-c27dbe87d31b",
   "metadata": {},
   "source": [
    "- check dimensione matrice:"
   ]
  },
  {
   "cell_type": "code",
   "execution_count": 43,
   "id": "98d630f4-b68a-43bb-983c-e6995e669228",
   "metadata": {},
   "outputs": [
    {
     "data": {
      "text/plain": [
       "(53950, 2)"
      ]
     },
     "execution_count": 43,
     "metadata": {},
     "output_type": "execute_result"
    }
   ],
   "source": [
    "pandas_df.shape"
   ]
  },
  {
   "cell_type": "code",
   "execution_count": 44,
   "id": "8cf76961-d06b-4fd8-b728-36b7cd052f3b",
   "metadata": {},
   "outputs": [
    {
     "data": {
      "text/plain": [
       "70168"
      ]
     },
     "execution_count": 44,
     "metadata": {},
     "output_type": "execute_result"
    }
   ],
   "source": [
    "len(unique_books)"
   ]
  },
  {
   "cell_type": "code",
   "execution_count": 45,
   "id": "1b5c32fd-ffa4-4056-b7db-53ea77d136df",
   "metadata": {},
   "outputs": [
    {
     "data": {
      "text/plain": [
       "<List of Lists sparse matrix of dtype 'bool'\n",
       "\twith 0 stored elements and shape (53950, 70168)>"
      ]
     },
     "execution_count": 45,
     "metadata": {},
     "output_type": "execute_result"
    }
   ],
   "source": [
    "sparse_matrix"
   ]
  },
  {
   "cell_type": "markdown",
   "id": "4c017984-b131-4651-baf4-76cb15b53600",
   "metadata": {},
   "source": [
    "-Popolare la matrice "
   ]
  },
  {
   "cell_type": "code",
   "execution_count": 46,
   "id": "ee470638-fc39-424d-bf08-d230203c38e4",
   "metadata": {},
   "outputs": [
    {
     "name": "stderr",
     "output_type": "stream",
     "text": [
      "C:\\Users\\melis\\AppData\\Local\\Temp\\ipykernel_9516\\374402561.py:6: FutureWarning: Allowing arbitrary scalar fill_value in SparseDtype is deprecated. In a future version, the fill_value must be a valid value for the SparseDtype.subtype.\n",
      "  encoded_df = pd.DataFrame.sparse.from_spmatrix(sparse_matrix, columns=book_index.keys())\n"
     ]
    },
    {
     "data": {
      "text/html": [
       "<div>\n",
       "<style scoped>\n",
       "    .dataframe tbody tr th:only-of-type {\n",
       "        vertical-align: middle;\n",
       "    }\n",
       "\n",
       "    .dataframe tbody tr th {\n",
       "        vertical-align: top;\n",
       "    }\n",
       "\n",
       "    .dataframe thead th {\n",
       "        text-align: right;\n",
       "    }\n",
       "</style>\n",
       "<table border=\"1\" class=\"dataframe\">\n",
       "  <thead>\n",
       "    <tr style=\"text-align: right;\">\n",
       "      <th></th>\n",
       "      <th>075730141X</th>\n",
       "      <th>0872204529</th>\n",
       "      <th>B0000891YC</th>\n",
       "      <th>B0006DCMD4</th>\n",
       "      <th>B000KYIFEY</th>\n",
       "      <th>B000GRB6CS</th>\n",
       "      <th>1929925700</th>\n",
       "      <th>0802789471</th>\n",
       "      <th>0976631067</th>\n",
       "      <th>0896891755</th>\n",
       "      <th>...</th>\n",
       "      <th>0393974065</th>\n",
       "      <th>007228661X</th>\n",
       "      <th>B000QA78L8</th>\n",
       "      <th>0838632629</th>\n",
       "      <th>B000FQ4JKQ</th>\n",
       "      <th>0671247476</th>\n",
       "      <th>0060090308</th>\n",
       "      <th>0867162406</th>\n",
       "      <th>0061059730</th>\n",
       "      <th>1413746209</th>\n",
       "    </tr>\n",
       "  </thead>\n",
       "  <tbody>\n",
       "    <tr>\n",
       "      <th>0</th>\n",
       "      <td>0</td>\n",
       "      <td>0</td>\n",
       "      <td>0</td>\n",
       "      <td>0</td>\n",
       "      <td>0</td>\n",
       "      <td>0</td>\n",
       "      <td>0</td>\n",
       "      <td>0</td>\n",
       "      <td>0</td>\n",
       "      <td>0</td>\n",
       "      <td>...</td>\n",
       "      <td>0</td>\n",
       "      <td>0</td>\n",
       "      <td>0</td>\n",
       "      <td>0</td>\n",
       "      <td>0</td>\n",
       "      <td>0</td>\n",
       "      <td>0</td>\n",
       "      <td>0</td>\n",
       "      <td>0</td>\n",
       "      <td>0</td>\n",
       "    </tr>\n",
       "    <tr>\n",
       "      <th>1</th>\n",
       "      <td>0</td>\n",
       "      <td>0</td>\n",
       "      <td>0</td>\n",
       "      <td>0</td>\n",
       "      <td>0</td>\n",
       "      <td>0</td>\n",
       "      <td>0</td>\n",
       "      <td>0</td>\n",
       "      <td>0</td>\n",
       "      <td>0</td>\n",
       "      <td>...</td>\n",
       "      <td>0</td>\n",
       "      <td>0</td>\n",
       "      <td>0</td>\n",
       "      <td>0</td>\n",
       "      <td>0</td>\n",
       "      <td>0</td>\n",
       "      <td>0</td>\n",
       "      <td>0</td>\n",
       "      <td>0</td>\n",
       "      <td>0</td>\n",
       "    </tr>\n",
       "    <tr>\n",
       "      <th>2</th>\n",
       "      <td>0</td>\n",
       "      <td>0</td>\n",
       "      <td>0</td>\n",
       "      <td>0</td>\n",
       "      <td>0</td>\n",
       "      <td>0</td>\n",
       "      <td>0</td>\n",
       "      <td>0</td>\n",
       "      <td>0</td>\n",
       "      <td>0</td>\n",
       "      <td>...</td>\n",
       "      <td>0</td>\n",
       "      <td>0</td>\n",
       "      <td>0</td>\n",
       "      <td>0</td>\n",
       "      <td>0</td>\n",
       "      <td>0</td>\n",
       "      <td>0</td>\n",
       "      <td>0</td>\n",
       "      <td>0</td>\n",
       "      <td>0</td>\n",
       "    </tr>\n",
       "    <tr>\n",
       "      <th>3</th>\n",
       "      <td>0</td>\n",
       "      <td>0</td>\n",
       "      <td>0</td>\n",
       "      <td>0</td>\n",
       "      <td>0</td>\n",
       "      <td>0</td>\n",
       "      <td>0</td>\n",
       "      <td>0</td>\n",
       "      <td>0</td>\n",
       "      <td>0</td>\n",
       "      <td>...</td>\n",
       "      <td>0</td>\n",
       "      <td>0</td>\n",
       "      <td>0</td>\n",
       "      <td>0</td>\n",
       "      <td>0</td>\n",
       "      <td>0</td>\n",
       "      <td>0</td>\n",
       "      <td>0</td>\n",
       "      <td>0</td>\n",
       "      <td>0</td>\n",
       "    </tr>\n",
       "    <tr>\n",
       "      <th>4</th>\n",
       "      <td>0</td>\n",
       "      <td>0</td>\n",
       "      <td>0</td>\n",
       "      <td>0</td>\n",
       "      <td>0</td>\n",
       "      <td>0</td>\n",
       "      <td>0</td>\n",
       "      <td>0</td>\n",
       "      <td>0</td>\n",
       "      <td>0</td>\n",
       "      <td>...</td>\n",
       "      <td>0</td>\n",
       "      <td>0</td>\n",
       "      <td>0</td>\n",
       "      <td>0</td>\n",
       "      <td>0</td>\n",
       "      <td>0</td>\n",
       "      <td>0</td>\n",
       "      <td>0</td>\n",
       "      <td>0</td>\n",
       "      <td>0</td>\n",
       "    </tr>\n",
       "    <tr>\n",
       "      <th>...</th>\n",
       "      <td>...</td>\n",
       "      <td>...</td>\n",
       "      <td>...</td>\n",
       "      <td>...</td>\n",
       "      <td>...</td>\n",
       "      <td>...</td>\n",
       "      <td>...</td>\n",
       "      <td>...</td>\n",
       "      <td>...</td>\n",
       "      <td>...</td>\n",
       "      <td>...</td>\n",
       "      <td>...</td>\n",
       "      <td>...</td>\n",
       "      <td>...</td>\n",
       "      <td>...</td>\n",
       "      <td>...</td>\n",
       "      <td>...</td>\n",
       "      <td>...</td>\n",
       "      <td>...</td>\n",
       "      <td>...</td>\n",
       "      <td>...</td>\n",
       "    </tr>\n",
       "    <tr>\n",
       "      <th>53945</th>\n",
       "      <td>0</td>\n",
       "      <td>0</td>\n",
       "      <td>0</td>\n",
       "      <td>0</td>\n",
       "      <td>0</td>\n",
       "      <td>0</td>\n",
       "      <td>0</td>\n",
       "      <td>0</td>\n",
       "      <td>0</td>\n",
       "      <td>0</td>\n",
       "      <td>...</td>\n",
       "      <td>0</td>\n",
       "      <td>0</td>\n",
       "      <td>0</td>\n",
       "      <td>0</td>\n",
       "      <td>0</td>\n",
       "      <td>0</td>\n",
       "      <td>0</td>\n",
       "      <td>0</td>\n",
       "      <td>0</td>\n",
       "      <td>0</td>\n",
       "    </tr>\n",
       "    <tr>\n",
       "      <th>53946</th>\n",
       "      <td>0</td>\n",
       "      <td>0</td>\n",
       "      <td>0</td>\n",
       "      <td>0</td>\n",
       "      <td>0</td>\n",
       "      <td>0</td>\n",
       "      <td>0</td>\n",
       "      <td>0</td>\n",
       "      <td>0</td>\n",
       "      <td>0</td>\n",
       "      <td>...</td>\n",
       "      <td>0</td>\n",
       "      <td>0</td>\n",
       "      <td>0</td>\n",
       "      <td>0</td>\n",
       "      <td>0</td>\n",
       "      <td>0</td>\n",
       "      <td>0</td>\n",
       "      <td>0</td>\n",
       "      <td>0</td>\n",
       "      <td>0</td>\n",
       "    </tr>\n",
       "    <tr>\n",
       "      <th>53947</th>\n",
       "      <td>0</td>\n",
       "      <td>0</td>\n",
       "      <td>0</td>\n",
       "      <td>0</td>\n",
       "      <td>0</td>\n",
       "      <td>0</td>\n",
       "      <td>0</td>\n",
       "      <td>0</td>\n",
       "      <td>0</td>\n",
       "      <td>0</td>\n",
       "      <td>...</td>\n",
       "      <td>0</td>\n",
       "      <td>0</td>\n",
       "      <td>0</td>\n",
       "      <td>0</td>\n",
       "      <td>0</td>\n",
       "      <td>0</td>\n",
       "      <td>0</td>\n",
       "      <td>0</td>\n",
       "      <td>0</td>\n",
       "      <td>0</td>\n",
       "    </tr>\n",
       "    <tr>\n",
       "      <th>53948</th>\n",
       "      <td>0</td>\n",
       "      <td>0</td>\n",
       "      <td>0</td>\n",
       "      <td>0</td>\n",
       "      <td>0</td>\n",
       "      <td>0</td>\n",
       "      <td>0</td>\n",
       "      <td>0</td>\n",
       "      <td>0</td>\n",
       "      <td>0</td>\n",
       "      <td>...</td>\n",
       "      <td>0</td>\n",
       "      <td>0</td>\n",
       "      <td>0</td>\n",
       "      <td>0</td>\n",
       "      <td>0</td>\n",
       "      <td>0</td>\n",
       "      <td>0</td>\n",
       "      <td>0</td>\n",
       "      <td>0</td>\n",
       "      <td>0</td>\n",
       "    </tr>\n",
       "    <tr>\n",
       "      <th>53949</th>\n",
       "      <td>0</td>\n",
       "      <td>0</td>\n",
       "      <td>0</td>\n",
       "      <td>0</td>\n",
       "      <td>0</td>\n",
       "      <td>0</td>\n",
       "      <td>0</td>\n",
       "      <td>0</td>\n",
       "      <td>0</td>\n",
       "      <td>0</td>\n",
       "      <td>...</td>\n",
       "      <td>0</td>\n",
       "      <td>0</td>\n",
       "      <td>0</td>\n",
       "      <td>0</td>\n",
       "      <td>0</td>\n",
       "      <td>0</td>\n",
       "      <td>0</td>\n",
       "      <td>0</td>\n",
       "      <td>0</td>\n",
       "      <td>0</td>\n",
       "    </tr>\n",
       "  </tbody>\n",
       "</table>\n",
       "<p>53950 rows × 70168 columns</p>\n",
       "</div>"
      ],
      "text/plain": [
       "       075730141X  0872204529  B0000891YC  B0006DCMD4  B000KYIFEY  B000GRB6CS  \\\n",
       "0               0           0           0           0           0           0   \n",
       "1               0           0           0           0           0           0   \n",
       "2               0           0           0           0           0           0   \n",
       "3               0           0           0           0           0           0   \n",
       "4               0           0           0           0           0           0   \n",
       "...           ...         ...         ...         ...         ...         ...   \n",
       "53945           0           0           0           0           0           0   \n",
       "53946           0           0           0           0           0           0   \n",
       "53947           0           0           0           0           0           0   \n",
       "53948           0           0           0           0           0           0   \n",
       "53949           0           0           0           0           0           0   \n",
       "\n",
       "       1929925700  0802789471  0976631067  0896891755  ...  0393974065  \\\n",
       "0               0           0           0           0  ...           0   \n",
       "1               0           0           0           0  ...           0   \n",
       "2               0           0           0           0  ...           0   \n",
       "3               0           0           0           0  ...           0   \n",
       "4               0           0           0           0  ...           0   \n",
       "...           ...         ...         ...         ...  ...         ...   \n",
       "53945           0           0           0           0  ...           0   \n",
       "53946           0           0           0           0  ...           0   \n",
       "53947           0           0           0           0  ...           0   \n",
       "53948           0           0           0           0  ...           0   \n",
       "53949           0           0           0           0  ...           0   \n",
       "\n",
       "       007228661X  B000QA78L8  0838632629  B000FQ4JKQ  0671247476  0060090308  \\\n",
       "0               0           0           0           0           0           0   \n",
       "1               0           0           0           0           0           0   \n",
       "2               0           0           0           0           0           0   \n",
       "3               0           0           0           0           0           0   \n",
       "4               0           0           0           0           0           0   \n",
       "...           ...         ...         ...         ...         ...         ...   \n",
       "53945           0           0           0           0           0           0   \n",
       "53946           0           0           0           0           0           0   \n",
       "53947           0           0           0           0           0           0   \n",
       "53948           0           0           0           0           0           0   \n",
       "53949           0           0           0           0           0           0   \n",
       "\n",
       "       0867162406  0061059730  1413746209  \n",
       "0               0           0           0  \n",
       "1               0           0           0  \n",
       "2               0           0           0  \n",
       "3               0           0           0  \n",
       "4               0           0           0  \n",
       "...           ...         ...         ...  \n",
       "53945           0           0           0  \n",
       "53946           0           0           0  \n",
       "53947           0           0           0  \n",
       "53948           0           0           0  \n",
       "53949           0           0           0  \n",
       "\n",
       "[53950 rows x 70168 columns]"
      ]
     },
     "execution_count": 46,
     "metadata": {},
     "output_type": "execute_result"
    }
   ],
   "source": [
    "for row_idx, books in enumerate(pandas_df[\"books\"]):\n",
    "    for book in books:\n",
    "        col_idx = book_index[book]\n",
    "        sparse_matrix[row_idx, col_idx] = 1\n",
    "\n",
    "encoded_df = pd.DataFrame.sparse.from_spmatrix(sparse_matrix, columns=book_index.keys())\n",
    "encoded_df"
   ]
  },
  {
   "cell_type": "markdown",
   "id": "eeddb83d-aeef-492b-a181-30871fdba17d",
   "metadata": {},
   "source": [
    "- Applicare l'algoritmo Apriori"
   ]
  },
  {
   "cell_type": "code",
   "execution_count": 47,
   "id": "83bde140-e5a1-4bf1-ab5f-921f657aae32",
   "metadata": {},
   "outputs": [
    {
     "name": "stdout",
     "output_type": "stream",
     "text": [
      "Itemset frequenti:\n"
     ]
    },
    {
     "data": {
      "text/html": [
       "<div>\n",
       "<style scoped>\n",
       "    .dataframe tbody tr th:only-of-type {\n",
       "        vertical-align: middle;\n",
       "    }\n",
       "\n",
       "    .dataframe tbody tr th {\n",
       "        vertical-align: top;\n",
       "    }\n",
       "\n",
       "    .dataframe thead th {\n",
       "        text-align: right;\n",
       "    }\n",
       "</style>\n",
       "<table border=\"1\" class=\"dataframe\">\n",
       "  <thead>\n",
       "    <tr style=\"text-align: right;\">\n",
       "      <th></th>\n",
       "      <th>support</th>\n",
       "      <th>itemsets</th>\n",
       "    </tr>\n",
       "  </thead>\n",
       "  <tbody>\n",
       "    <tr>\n",
       "      <th>0</th>\n",
       "      <td>0.012771</td>\n",
       "      <td>(B000ILIJE0)</td>\n",
       "    </tr>\n",
       "    <tr>\n",
       "      <th>1</th>\n",
       "      <td>0.012326</td>\n",
       "      <td>(B000GQG7D2)</td>\n",
       "    </tr>\n",
       "    <tr>\n",
       "      <th>2</th>\n",
       "      <td>0.012734</td>\n",
       "      <td>(B000NWU3I4)</td>\n",
       "    </tr>\n",
       "    <tr>\n",
       "      <th>3</th>\n",
       "      <td>0.012660</td>\n",
       "      <td>(B000NWQXBA)</td>\n",
       "    </tr>\n",
       "    <tr>\n",
       "      <th>4</th>\n",
       "      <td>0.012697</td>\n",
       "      <td>(B000PC54NG)</td>\n",
       "    </tr>\n",
       "    <tr>\n",
       "      <th>...</th>\n",
       "      <td>...</td>\n",
       "      <td>...</td>\n",
       "    </tr>\n",
       "    <tr>\n",
       "      <th>506</th>\n",
       "      <td>0.010936</td>\n",
       "      <td>(B000H9R1Q0, B000NDSX6C, B000ILIJE0, B000GQG5M...</td>\n",
       "    </tr>\n",
       "    <tr>\n",
       "      <th>507</th>\n",
       "      <td>0.010955</td>\n",
       "      <td>(B000H9R1Q0, B000NDSX6C, B000NWQXBA, B000ILIJE...</td>\n",
       "    </tr>\n",
       "    <tr>\n",
       "      <th>508</th>\n",
       "      <td>0.011270</td>\n",
       "      <td>(B000H9R1Q0, B000NDSX6C, B000NWQXBA, B000ILIJE...</td>\n",
       "    </tr>\n",
       "    <tr>\n",
       "      <th>509</th>\n",
       "      <td>0.010936</td>\n",
       "      <td>(B000H9R1Q0, B000NDSX6C, B000NWQXBA, B000GQG5M...</td>\n",
       "    </tr>\n",
       "    <tr>\n",
       "      <th>510</th>\n",
       "      <td>0.010936</td>\n",
       "      <td>(B000H9R1Q0, B000NDSX6C, B000NWQXBA, B000ILIJE...</td>\n",
       "    </tr>\n",
       "  </tbody>\n",
       "</table>\n",
       "<p>511 rows × 2 columns</p>\n",
       "</div>"
      ],
      "text/plain": [
       "      support                                           itemsets\n",
       "0    0.012771                                       (B000ILIJE0)\n",
       "1    0.012326                                       (B000GQG7D2)\n",
       "2    0.012734                                       (B000NWU3I4)\n",
       "3    0.012660                                       (B000NWQXBA)\n",
       "4    0.012697                                       (B000PC54NG)\n",
       "..        ...                                                ...\n",
       "506  0.010936  (B000H9R1Q0, B000NDSX6C, B000ILIJE0, B000GQG5M...\n",
       "507  0.010955  (B000H9R1Q0, B000NDSX6C, B000NWQXBA, B000ILIJE...\n",
       "508  0.011270  (B000H9R1Q0, B000NDSX6C, B000NWQXBA, B000ILIJE...\n",
       "509  0.010936  (B000H9R1Q0, B000NDSX6C, B000NWQXBA, B000GQG5M...\n",
       "510  0.010936  (B000H9R1Q0, B000NDSX6C, B000NWQXBA, B000ILIJE...\n",
       "\n",
       "[511 rows x 2 columns]"
      ]
     },
     "execution_count": 47,
     "metadata": {},
     "output_type": "execute_result"
    }
   ],
   "source": [
    "frequent_itemsets = apriori(encoded_df, min_support=0.01, use_colnames=True)\n",
    "\n",
    "rules = association_rules(frequent_itemsets, metric=\"confidence\", min_threshold=0.2)\n",
    "\n",
    "print(\"Itemset frequenti:\")\n",
    "frequent_itemsets\n"
   ]
  },
  {
   "cell_type": "code",
   "execution_count": 48,
   "id": "1ff8b5f2-be3d-441f-99c9-7d68ab0d0341",
   "metadata": {},
   "outputs": [
    {
     "name": "stdout",
     "output_type": "stream",
     "text": [
      "\n",
      "Regole di associazione:\n"
     ]
    },
    {
     "data": {
      "text/html": [
       "<div>\n",
       "<style scoped>\n",
       "    .dataframe tbody tr th:only-of-type {\n",
       "        vertical-align: middle;\n",
       "    }\n",
       "\n",
       "    .dataframe tbody tr th {\n",
       "        vertical-align: top;\n",
       "    }\n",
       "\n",
       "    .dataframe thead th {\n",
       "        text-align: right;\n",
       "    }\n",
       "</style>\n",
       "<table border=\"1\" class=\"dataframe\">\n",
       "  <thead>\n",
       "    <tr style=\"text-align: right;\">\n",
       "      <th></th>\n",
       "      <th>antecedents</th>\n",
       "      <th>consequents</th>\n",
       "      <th>support</th>\n",
       "      <th>confidence</th>\n",
       "      <th>lift</th>\n",
       "    </tr>\n",
       "  </thead>\n",
       "  <tbody>\n",
       "    <tr>\n",
       "      <th>0</th>\n",
       "      <td>(B000ILIJE0)</td>\n",
       "      <td>(B000GQG7D2)</td>\n",
       "      <td>0.012308</td>\n",
       "      <td>0.963716</td>\n",
       "      <td>78.184140</td>\n",
       "    </tr>\n",
       "    <tr>\n",
       "      <th>1</th>\n",
       "      <td>(B000GQG7D2)</td>\n",
       "      <td>(B000ILIJE0)</td>\n",
       "      <td>0.012308</td>\n",
       "      <td>0.998496</td>\n",
       "      <td>78.184140</td>\n",
       "    </tr>\n",
       "    <tr>\n",
       "      <th>2</th>\n",
       "      <td>(B000NWU3I4)</td>\n",
       "      <td>(B000ILIJE0)</td>\n",
       "      <td>0.012715</td>\n",
       "      <td>0.998544</td>\n",
       "      <td>78.187910</td>\n",
       "    </tr>\n",
       "    <tr>\n",
       "      <th>3</th>\n",
       "      <td>(B000ILIJE0)</td>\n",
       "      <td>(B000NWU3I4)</td>\n",
       "      <td>0.012715</td>\n",
       "      <td>0.995646</td>\n",
       "      <td>78.187910</td>\n",
       "    </tr>\n",
       "    <tr>\n",
       "      <th>4</th>\n",
       "      <td>(B000ILIJE0)</td>\n",
       "      <td>(B000NWQXBA)</td>\n",
       "      <td>0.012660</td>\n",
       "      <td>0.991292</td>\n",
       "      <td>78.301887</td>\n",
       "    </tr>\n",
       "    <tr>\n",
       "      <th>...</th>\n",
       "      <td>...</td>\n",
       "      <td>...</td>\n",
       "      <td>...</td>\n",
       "      <td>...</td>\n",
       "      <td>...</td>\n",
       "    </tr>\n",
       "    <tr>\n",
       "      <th>18655</th>\n",
       "      <td>(B000GQG5MA)</td>\n",
       "      <td>(B000H9R1Q0, B000NDSX6C, B000NWQXBA, B000ILIJE...</td>\n",
       "      <td>0.010936</td>\n",
       "      <td>0.895296</td>\n",
       "      <td>78.923552</td>\n",
       "    </tr>\n",
       "    <tr>\n",
       "      <th>18656</th>\n",
       "      <td>(B000PC54NG)</td>\n",
       "      <td>(B000H9R1Q0, B000NDSX6C, B000NWQXBA, B000ILIJE...</td>\n",
       "      <td>0.010936</td>\n",
       "      <td>0.861314</td>\n",
       "      <td>78.759124</td>\n",
       "    </tr>\n",
       "    <tr>\n",
       "      <th>18657</th>\n",
       "      <td>(B000Q032UY)</td>\n",
       "      <td>(B000H9R1Q0, B000NDSX6C, B000NWQXBA, B000ILIJE...</td>\n",
       "      <td>0.010936</td>\n",
       "      <td>0.870206</td>\n",
       "      <td>79.572271</td>\n",
       "    </tr>\n",
       "    <tr>\n",
       "      <th>18658</th>\n",
       "      <td>(B000NWU3I4)</td>\n",
       "      <td>(B000H9R1Q0, B000NDSX6C, B000NWQXBA, B000ILIJE...</td>\n",
       "      <td>0.010936</td>\n",
       "      <td>0.858806</td>\n",
       "      <td>78.396964</td>\n",
       "    </tr>\n",
       "    <tr>\n",
       "      <th>18659</th>\n",
       "      <td>(B000GQG7D2)</td>\n",
       "      <td>(B000H9R1Q0, B000NDSX6C, B000NWQXBA, B000ILIJE...</td>\n",
       "      <td>0.010936</td>\n",
       "      <td>0.887218</td>\n",
       "      <td>78.726009</td>\n",
       "    </tr>\n",
       "  </tbody>\n",
       "</table>\n",
       "<p>18660 rows × 5 columns</p>\n",
       "</div>"
      ],
      "text/plain": [
       "        antecedents                                        consequents  \\\n",
       "0      (B000ILIJE0)                                       (B000GQG7D2)   \n",
       "1      (B000GQG7D2)                                       (B000ILIJE0)   \n",
       "2      (B000NWU3I4)                                       (B000ILIJE0)   \n",
       "3      (B000ILIJE0)                                       (B000NWU3I4)   \n",
       "4      (B000ILIJE0)                                       (B000NWQXBA)   \n",
       "...             ...                                                ...   \n",
       "18655  (B000GQG5MA)  (B000H9R1Q0, B000NDSX6C, B000NWQXBA, B000ILIJE...   \n",
       "18656  (B000PC54NG)  (B000H9R1Q0, B000NDSX6C, B000NWQXBA, B000ILIJE...   \n",
       "18657  (B000Q032UY)  (B000H9R1Q0, B000NDSX6C, B000NWQXBA, B000ILIJE...   \n",
       "18658  (B000NWU3I4)  (B000H9R1Q0, B000NDSX6C, B000NWQXBA, B000ILIJE...   \n",
       "18659  (B000GQG7D2)  (B000H9R1Q0, B000NDSX6C, B000NWQXBA, B000ILIJE...   \n",
       "\n",
       "        support  confidence       lift  \n",
       "0      0.012308    0.963716  78.184140  \n",
       "1      0.012308    0.998496  78.184140  \n",
       "2      0.012715    0.998544  78.187910  \n",
       "3      0.012715    0.995646  78.187910  \n",
       "4      0.012660    0.991292  78.301887  \n",
       "...         ...         ...        ...  \n",
       "18655  0.010936    0.895296  78.923552  \n",
       "18656  0.010936    0.861314  78.759124  \n",
       "18657  0.010936    0.870206  79.572271  \n",
       "18658  0.010936    0.858806  78.396964  \n",
       "18659  0.010936    0.887218  78.726009  \n",
       "\n",
       "[18660 rows x 5 columns]"
      ]
     },
     "execution_count": 48,
     "metadata": {},
     "output_type": "execute_result"
    }
   ],
   "source": [
    "print(\"\\nRegole di associazione:\")\n",
    "rules[['antecedents', 'consequents', 'support', 'confidence', 'lift']]"
   ]
  },
  {
   "cell_type": "markdown",
   "id": "adbf503c-5329-469e-900a-6b90ca03987f",
   "metadata": {},
   "source": [
    "- solo un libro"
   ]
  },
  {
   "cell_type": "code",
   "execution_count": 49,
   "id": "caaeb72f-20ff-4f49-a01f-31347fd6d9cc",
   "metadata": {},
   "outputs": [
    {
     "name": "stdout",
     "output_type": "stream",
     "text": [
      "\n",
      "Regole di associazione:\n"
     ]
    },
    {
     "data": {
      "text/html": [
       "<div>\n",
       "<style scoped>\n",
       "    .dataframe tbody tr th:only-of-type {\n",
       "        vertical-align: middle;\n",
       "    }\n",
       "\n",
       "    .dataframe tbody tr th {\n",
       "        vertical-align: top;\n",
       "    }\n",
       "\n",
       "    .dataframe thead th {\n",
       "        text-align: right;\n",
       "    }\n",
       "</style>\n",
       "<table border=\"1\" class=\"dataframe\">\n",
       "  <thead>\n",
       "    <tr style=\"text-align: right;\">\n",
       "      <th></th>\n",
       "      <th>antecedents</th>\n",
       "      <th>consequents</th>\n",
       "      <th>support</th>\n",
       "      <th>confidence</th>\n",
       "      <th>lift</th>\n",
       "    </tr>\n",
       "  </thead>\n",
       "  <tbody>\n",
       "    <tr>\n",
       "      <th>0</th>\n",
       "      <td>(B000ILIJE0)</td>\n",
       "      <td>(B000GQG7D2)</td>\n",
       "      <td>0.012308</td>\n",
       "      <td>0.963716</td>\n",
       "      <td>78.184140</td>\n",
       "    </tr>\n",
       "    <tr>\n",
       "      <th>1</th>\n",
       "      <td>(B000GQG7D2)</td>\n",
       "      <td>(B000ILIJE0)</td>\n",
       "      <td>0.012308</td>\n",
       "      <td>0.998496</td>\n",
       "      <td>78.184140</td>\n",
       "    </tr>\n",
       "    <tr>\n",
       "      <th>2</th>\n",
       "      <td>(B000NWU3I4)</td>\n",
       "      <td>(B000ILIJE0)</td>\n",
       "      <td>0.012715</td>\n",
       "      <td>0.998544</td>\n",
       "      <td>78.187910</td>\n",
       "    </tr>\n",
       "    <tr>\n",
       "      <th>3</th>\n",
       "      <td>(B000ILIJE0)</td>\n",
       "      <td>(B000NWU3I4)</td>\n",
       "      <td>0.012715</td>\n",
       "      <td>0.995646</td>\n",
       "      <td>78.187910</td>\n",
       "    </tr>\n",
       "    <tr>\n",
       "      <th>4</th>\n",
       "      <td>(B000ILIJE0)</td>\n",
       "      <td>(B000NWQXBA)</td>\n",
       "      <td>0.012660</td>\n",
       "      <td>0.991292</td>\n",
       "      <td>78.301887</td>\n",
       "    </tr>\n",
       "    <tr>\n",
       "      <th>...</th>\n",
       "      <td>...</td>\n",
       "      <td>...</td>\n",
       "      <td>...</td>\n",
       "      <td>...</td>\n",
       "      <td>...</td>\n",
       "    </tr>\n",
       "    <tr>\n",
       "      <th>67</th>\n",
       "      <td>(B000GQG5MA)</td>\n",
       "      <td>(B000NDSX6C)</td>\n",
       "      <td>0.011437</td>\n",
       "      <td>0.936267</td>\n",
       "      <td>78.678518</td>\n",
       "    </tr>\n",
       "    <tr>\n",
       "      <th>68</th>\n",
       "      <td>(B000NDSX6C)</td>\n",
       "      <td>(B000Q032UY)</td>\n",
       "      <td>0.011715</td>\n",
       "      <td>0.984424</td>\n",
       "      <td>78.332828</td>\n",
       "    </tr>\n",
       "    <tr>\n",
       "      <th>69</th>\n",
       "      <td>(B000Q032UY)</td>\n",
       "      <td>(B000NDSX6C)</td>\n",
       "      <td>0.011715</td>\n",
       "      <td>0.932153</td>\n",
       "      <td>78.332828</td>\n",
       "    </tr>\n",
       "    <tr>\n",
       "      <th>70</th>\n",
       "      <td>(B000GQG5MA)</td>\n",
       "      <td>(B000Q032UY)</td>\n",
       "      <td>0.012030</td>\n",
       "      <td>0.984825</td>\n",
       "      <td>78.364801</td>\n",
       "    </tr>\n",
       "    <tr>\n",
       "      <th>71</th>\n",
       "      <td>(B000Q032UY)</td>\n",
       "      <td>(B000GQG5MA)</td>\n",
       "      <td>0.012030</td>\n",
       "      <td>0.957227</td>\n",
       "      <td>78.364801</td>\n",
       "    </tr>\n",
       "  </tbody>\n",
       "</table>\n",
       "<p>72 rows × 5 columns</p>\n",
       "</div>"
      ],
      "text/plain": [
       "     antecedents   consequents   support  confidence       lift\n",
       "0   (B000ILIJE0)  (B000GQG7D2)  0.012308    0.963716  78.184140\n",
       "1   (B000GQG7D2)  (B000ILIJE0)  0.012308    0.998496  78.184140\n",
       "2   (B000NWU3I4)  (B000ILIJE0)  0.012715    0.998544  78.187910\n",
       "3   (B000ILIJE0)  (B000NWU3I4)  0.012715    0.995646  78.187910\n",
       "4   (B000ILIJE0)  (B000NWQXBA)  0.012660    0.991292  78.301887\n",
       "..           ...           ...       ...         ...        ...\n",
       "67  (B000GQG5MA)  (B000NDSX6C)  0.011437    0.936267  78.678518\n",
       "68  (B000NDSX6C)  (B000Q032UY)  0.011715    0.984424  78.332828\n",
       "69  (B000Q032UY)  (B000NDSX6C)  0.011715    0.932153  78.332828\n",
       "70  (B000GQG5MA)  (B000Q032UY)  0.012030    0.984825  78.364801\n",
       "71  (B000Q032UY)  (B000GQG5MA)  0.012030    0.957227  78.364801\n",
       "\n",
       "[72 rows x 5 columns]"
      ]
     },
     "execution_count": 49,
     "metadata": {},
     "output_type": "execute_result"
    }
   ],
   "source": [
    "filtered_rules = rules[\n",
    "    (rules[\"antecedents\"].apply(lambda x: len(x) == 1)) &  # Solo 1 libro come antecedente\n",
    "    (rules[\"consequents\"].apply(lambda x: len(x) == 1))    # Solo 1 libro come conseguente\n",
    "]\n",
    "print(\"\\nRegole di associazione:\")\n",
    "filtered_rules[['antecedents', 'consequents', 'support', 'confidence', 'lift']]"
   ]
  },
  {
   "cell_type": "code",
   "execution_count": 50,
   "id": "df5a0305-e14e-4ba4-a606-8f43c086c01b",
   "metadata": {},
   "outputs": [
    {
     "data": {
      "text/html": [
       "<div>\n",
       "<style scoped>\n",
       "    .dataframe tbody tr th:only-of-type {\n",
       "        vertical-align: middle;\n",
       "    }\n",
       "\n",
       "    .dataframe tbody tr th {\n",
       "        vertical-align: top;\n",
       "    }\n",
       "\n",
       "    .dataframe thead th {\n",
       "        text-align: right;\n",
       "    }\n",
       "</style>\n",
       "<table border=\"1\" class=\"dataframe\">\n",
       "  <thead>\n",
       "    <tr style=\"text-align: right;\">\n",
       "      <th></th>\n",
       "      <th>antecedents</th>\n",
       "      <th>consequents</th>\n",
       "      <th>support</th>\n",
       "      <th>confidence</th>\n",
       "      <th>lift</th>\n",
       "    </tr>\n",
       "  </thead>\n",
       "  <tbody>\n",
       "    <tr>\n",
       "      <th>55</th>\n",
       "      <td>(B000PC54NG)</td>\n",
       "      <td>(B000NDSX6C)</td>\n",
       "      <td>0.011807</td>\n",
       "      <td>0.929927</td>\n",
       "      <td>78.145735</td>\n",
       "    </tr>\n",
       "    <tr>\n",
       "      <th>37</th>\n",
       "      <td>(B000NWU3I4)</td>\n",
       "      <td>(B000NDSX6C)</td>\n",
       "      <td>0.011844</td>\n",
       "      <td>0.930131</td>\n",
       "      <td>78.162878</td>\n",
       "    </tr>\n",
       "    <tr>\n",
       "      <th>25</th>\n",
       "      <td>(B000GQG7D2)</td>\n",
       "      <td>(B000NDSX6C)</td>\n",
       "      <td>0.011474</td>\n",
       "      <td>0.930827</td>\n",
       "      <td>78.221371</td>\n",
       "    </tr>\n",
       "    <tr>\n",
       "      <th>47</th>\n",
       "      <td>(B000NWQXBA)</td>\n",
       "      <td>(B000NDSX6C)</td>\n",
       "      <td>0.011789</td>\n",
       "      <td>0.931186</td>\n",
       "      <td>78.251529</td>\n",
       "    </tr>\n",
       "    <tr>\n",
       "      <th>11</th>\n",
       "      <td>(B000ILIJE0)</td>\n",
       "      <td>(B000NDSX6C)</td>\n",
       "      <td>0.011900</td>\n",
       "      <td>0.931785</td>\n",
       "      <td>78.301887</td>\n",
       "    </tr>\n",
       "    <tr>\n",
       "      <th>...</th>\n",
       "      <td>...</td>\n",
       "      <td>...</td>\n",
       "      <td>...</td>\n",
       "      <td>...</td>\n",
       "      <td>...</td>\n",
       "    </tr>\n",
       "    <tr>\n",
       "      <th>44</th>\n",
       "      <td>(B000H9R1Q0)</td>\n",
       "      <td>(B000NWQXBA)</td>\n",
       "      <td>0.012567</td>\n",
       "      <td>1.000000</td>\n",
       "      <td>78.989751</td>\n",
       "    </tr>\n",
       "    <tr>\n",
       "      <th>43</th>\n",
       "      <td>(B000NWQXBA)</td>\n",
       "      <td>(B000PC54NG)</td>\n",
       "      <td>0.012660</td>\n",
       "      <td>1.000000</td>\n",
       "      <td>78.759124</td>\n",
       "    </tr>\n",
       "    <tr>\n",
       "      <th>10</th>\n",
       "      <td>(B000NDSX6C)</td>\n",
       "      <td>(B000ILIJE0)</td>\n",
       "      <td>0.011900</td>\n",
       "      <td>1.000000</td>\n",
       "      <td>78.301887</td>\n",
       "    </tr>\n",
       "    <tr>\n",
       "      <th>64</th>\n",
       "      <td>(B000H9R1Q0)</td>\n",
       "      <td>(B000Q032UY)</td>\n",
       "      <td>0.012567</td>\n",
       "      <td>1.000000</td>\n",
       "      <td>79.572271</td>\n",
       "    </tr>\n",
       "    <tr>\n",
       "      <th>65</th>\n",
       "      <td>(B000Q032UY)</td>\n",
       "      <td>(B000H9R1Q0)</td>\n",
       "      <td>0.012567</td>\n",
       "      <td>1.000000</td>\n",
       "      <td>79.572271</td>\n",
       "    </tr>\n",
       "  </tbody>\n",
       "</table>\n",
       "<p>72 rows × 5 columns</p>\n",
       "</div>"
      ],
      "text/plain": [
       "     antecedents   consequents   support  confidence       lift\n",
       "55  (B000PC54NG)  (B000NDSX6C)  0.011807    0.929927  78.145735\n",
       "37  (B000NWU3I4)  (B000NDSX6C)  0.011844    0.930131  78.162878\n",
       "25  (B000GQG7D2)  (B000NDSX6C)  0.011474    0.930827  78.221371\n",
       "47  (B000NWQXBA)  (B000NDSX6C)  0.011789    0.931186  78.251529\n",
       "11  (B000ILIJE0)  (B000NDSX6C)  0.011900    0.931785  78.301887\n",
       "..           ...           ...       ...         ...        ...\n",
       "44  (B000H9R1Q0)  (B000NWQXBA)  0.012567    1.000000  78.989751\n",
       "43  (B000NWQXBA)  (B000PC54NG)  0.012660    1.000000  78.759124\n",
       "10  (B000NDSX6C)  (B000ILIJE0)  0.011900    1.000000  78.301887\n",
       "64  (B000H9R1Q0)  (B000Q032UY)  0.012567    1.000000  79.572271\n",
       "65  (B000Q032UY)  (B000H9R1Q0)  0.012567    1.000000  79.572271\n",
       "\n",
       "[72 rows x 5 columns]"
      ]
     },
     "execution_count": 50,
     "metadata": {},
     "output_type": "execute_result"
    }
   ],
   "source": [
    "sorted_rules = filtered_rules.sort_values(by=\"confidence\", ascending=True)\n",
    "sorted_rules[['antecedents', 'consequents', 'support', 'confidence', 'lift']]"
   ]
  },
  {
   "cell_type": "markdown",
   "id": "a8057fad-2cbd-4ed4-904d-f8a06d2936f9",
   "metadata": {},
   "source": [
    "##### 4.2.2 algoritmo a priori senza mlxtend"
   ]
  },
  {
   "cell_type": "code",
   "execution_count": 51,
   "id": "c4562891-3a5e-4798-9584-2eb8ccebb4e6",
   "metadata": {},
   "outputs": [],
   "source": [
    "#Apriori non è direttamente implementato in PySpark perché è meno scalabile rispetto a FP-Growth."
   ]
  },
  {
   "cell_type": "markdown",
   "id": "7a6a99e2-d68d-4037-9a96-ef80621ea0e9",
   "metadata": {},
   "source": [
    "The function takes in input an RDD and a threshold. The function is composed by the combination of the main Spark's functions: map, reduce and filter."
   ]
  },
  {
   "cell_type": "code",
   "execution_count": 52,
   "id": "6d959375-1ca9-44db-9546-8a96972390e0",
   "metadata": {},
   "outputs": [],
   "source": [
    "from itertools import combinations\n",
    "\n",
    "def apriori_frequent_books(rdd, threshold):\n",
    "    \"\"\"\n",
    "    Implementazione di Apriori per trovare coppie frequenti di libri letti dagli stessi utenti.\n",
    "    \n",
    "    :param rdd: RDD con liste di libri letti per ogni utente.\n",
    "    :param threshold: Frequenza minima per considerare una coppia frequente.\n",
    "    :return: RDD contenente le coppie frequenti di libri e il loro conteggio.\n",
    "    \"\"\"\n",
    "\n",
    "    # Step 1: Creare le coppie di libri per ogni utente\n",
    "    pairs_rdd = rdd.flatMap(lambda books: [tuple(sorted(pair)) for pair in combinations(books, 2)])\n",
    "\n",
    "    # Step 2: Contare la frequenza delle coppie\n",
    "    pair_counts_rdd = pairs_rdd.map(lambda pair: (pair, 1)).reduceByKey(lambda a, b: a + b)\n",
    "\n",
    "    # Step 3: Filtrare le coppie con supporto maggiore della soglia\n",
    "    frequent_pairs_rdd = pair_counts_rdd.filter(lambda pair_count: pair_count[1] >= threshold)\n",
    "\n",
    "    return frequent_pairs_rdd\n",
    "\n",
    "# Convertire df_filtered in un RDD con liste di libri per utente\n",
    "rdd = df_filtered.rdd.map(lambda row: (row[\"User_id\"], row[\"Id\"])) \\\n",
    "                     .groupByKey() \\\n",
    "                     .map(lambda x: list(set(x[1])))  # Lista di libri unici per utente\n",
    "\n",
    "# Imposta la soglia minima per la frequenza delle coppie\n",
    "threshold = 2\n",
    "\n",
    "# Esegui Apriori sui libri\n",
    "frequent_book_pairs = apriori_frequent_books(rdd, threshold)\n",
    "\n"
   ]
  },
  {
   "cell_type": "code",
   "execution_count": 53,
   "id": "6d58dd90-03d9-48d1-99ff-93b2b8f75ef6",
   "metadata": {},
   "outputs": [
    {
     "name": "stdout",
     "output_type": "stream",
     "text": [
      "[(('B000ILIJE0', 'B000NWU3I4'), 686), (('B000NWU3I4', 'B000PC54NG'), 684), (('B000ILIJE0', 'B000PC54NG'), 684), (('B000NWQXBA', 'B000PC54NG'), 683), (('B000ILIJE0', 'B000NWQXBA'), 683), (('B000NWQXBA', 'B000NWU3I4'), 682), (('B000H9R1Q0', 'B000PC54NG'), 678), (('B000NWQXBA', 'B000Q032UY'), 678), (('B000ILIJE0', 'B000Q032UY'), 678), (('B000H9R1Q0', 'B000Q032UY'), 678), (('B000H9R1Q0', 'B000ILIJE0'), 678), (('B000PC54NG', 'B000Q032UY'), 678), (('B000H9R1Q0', 'B000NWQXBA'), 678), (('B000H9R1Q0', 'B000NWU3I4'), 677), (('B000NWU3I4', 'B000Q032UY'), 677)]\n"
     ]
    }
   ],
   "source": [
    "print(frequent_book_pairs.sortBy(lambda x: -x[1]).take(15))\n"
   ]
  },
  {
   "cell_type": "code",
   "execution_count": 54,
   "id": "c3255784-9c7c-421f-8a63-291dc454f35c",
   "metadata": {},
   "outputs": [],
   "source": [
    "frequent_df = frequent_book_pairs.toDF([\"pair\", \"count\"])"
   ]
  },
  {
   "cell_type": "code",
   "execution_count": 55,
   "id": "9a3ba0cd-a7d1-4bdb-8a4c-b18dc5ec4738",
   "metadata": {},
   "outputs": [],
   "source": [
    "book_counts = rdd.flatMap(lambda books: [(book, 1) for book in books]) \\\n",
    "                 .reduceByKey(lambda a, b: a + b) \\\n",
    "                 .toDF([\"book\", \"count\"])\n"
   ]
  },
  {
   "cell_type": "code",
   "execution_count": 56,
   "id": "c0f0ecdf-712b-46e9-b66a-57314e3b0065",
   "metadata": {},
   "outputs": [
    {
     "name": "stdout",
     "output_type": "stream",
     "text": [
      "+--------------------+-----+\n",
      "|                pair|count|\n",
      "+--------------------+-----+\n",
      "|{0486417786, B000...|  108|\n",
      "|{B0006D70HW, B000...|    7|\n",
      "|{B000HVR6KY, B000...|  256|\n",
      "|{068983375X, 0747...|  127|\n",
      "|{0340283947, 0904...|  127|\n",
      "+--------------------+-----+\n",
      "only showing top 5 rows\n",
      "\n"
     ]
    }
   ],
   "source": [
    "frequent_df.show(5)"
   ]
  },
  {
   "cell_type": "code",
   "execution_count": 57,
   "id": "211c1285-ca67-41f0-8a8c-6e2bececee88",
   "metadata": {},
   "outputs": [],
   "source": [
    "rules_df = frequent_df.select(\n",
    "    col(\"pair\").getField(\"_1\").alias(\"book_A\"),\n",
    "    col(\"pair\").getField(\"_2\").alias(\"book_B\"),\n",
    "    col(\"count\").alias(\"pair_count\")\n",
    ")"
   ]
  },
  {
   "cell_type": "code",
   "execution_count": 58,
   "id": "cb97219c-4bfd-4283-8266-7d8fc7cf4f3d",
   "metadata": {},
   "outputs": [],
   "source": [
    "# Join con il conteggio dei singoli libri per calcolare la confidenza\n",
    "rules_df = rules_df.join(book_counts.withColumnRenamed(\"book\", \"book_A\"), \"book_A\") \\\n",
    "                   .withColumnRenamed(\"count\", \"count_A\") \\\n",
    "                   .join(book_counts.withColumnRenamed(\"book\", \"book_B\"), \"book_B\") \\\n",
    "                   .withColumnRenamed(\"count\", \"count_B\")"
   ]
  },
  {
   "cell_type": "code",
   "execution_count": 59,
   "id": "6ef60458-549d-4885-a246-55a8361483de",
   "metadata": {},
   "outputs": [
    {
     "name": "stdout",
     "output_type": "stream",
     "text": [
      "+----------+----------+----------+-------+-------+--------------------+---------------+---------------+-------+\n",
      "|book_B    |book_A    |pair_count|count_A|count_B|support             |confidence_AtoB|confidence_BtoA|lift   |\n",
      "+----------+----------+----------+-------+-------+--------------------+---------------+---------------+-------+\n",
      "|B000HKIICA|0132126052|2         |2      |2      |3.707136237256719E-5|1.0            |1.0            |26975.0|\n",
      "|B000PMQ1F6|B000FOZ632|2         |2      |2      |3.707136237256719E-5|1.0            |1.0            |26975.0|\n",
      "|B000NB04WU|B000NAKPQ6|2         |2      |2      |3.707136237256719E-5|1.0            |1.0            |26975.0|\n",
      "|B000I10HRM|B0008ARAPA|2         |2      |2      |3.707136237256719E-5|1.0            |1.0            |26975.0|\n",
      "|0943497809|087552379X|2         |2      |2      |3.707136237256719E-5|1.0            |1.0            |26975.0|\n",
      "|B0007HT3L8|B0007G22K8|2         |2      |2      |3.707136237256719E-5|1.0            |1.0            |26975.0|\n",
      "|B000PKC0QM|0749704594|2         |2      |2      |3.707136237256719E-5|1.0            |1.0            |26975.0|\n",
      "|B000LAW3JK|0345252861|2         |2      |2      |3.707136237256719E-5|1.0            |1.0            |26975.0|\n",
      "|B000JD9T8C|B00085ZGL0|2         |2      |2      |3.707136237256719E-5|1.0            |1.0            |26975.0|\n",
      "|B000HTUMNO|B000885HXE|2         |2      |2      |3.707136237256719E-5|1.0            |1.0            |26975.0|\n",
      "|B0006C2TPG|B00005VQH8|2         |2      |2      |3.707136237256719E-5|1.0            |1.0            |26975.0|\n",
      "|B00086Q5TQ|B00071CTW4|2         |2      |2      |3.707136237256719E-5|1.0            |1.0            |26975.0|\n",
      "|B000IQ87GA|B0008AKH9G|2         |2      |2      |3.707136237256719E-5|1.0            |1.0            |26975.0|\n",
      "|B000O02KEU|0764222155|2         |2      |2      |3.707136237256719E-5|1.0            |1.0            |26975.0|\n",
      "|B000PIAXOA|B000HJ57DE|2         |2      |2      |3.707136237256719E-5|1.0            |1.0            |26975.0|\n",
      "+----------+----------+----------+-------+-------+--------------------+---------------+---------------+-------+\n",
      "only showing top 15 rows\n",
      "\n"
     ]
    }
   ],
   "source": [
    "# Calcolo di supporto, confidenza e lift\n",
    "rules_df = rules_df.withColumn(\"support\", col(\"pair_count\") / rdd.count()) \\\n",
    "                   .withColumn(\"confidence_AtoB\", col(\"pair_count\") / col(\"count_A\")) \\\n",
    "                   .withColumn(\"confidence_BtoA\", col(\"pair_count\") / col(\"count_B\")) \\\n",
    "                   .withColumn(\"lift\", col(\"confidence_AtoB\") / (col(\"count_B\") / rdd.count()))\n",
    "\n",
    "# Mostriamo le regole ordinate per lift decrescente\n",
    "rules_df.orderBy(col(\"lift\").desc()).show(15, False)"
   ]
  },
  {
   "cell_type": "code",
   "execution_count": 60,
   "id": "88970a89-15aa-49c2-9a10-377d9a48219a",
   "metadata": {
    "scrolled": true
   },
   "outputs": [
    {
     "name": "stdout",
     "output_type": "stream",
     "text": [
      "+----------+----------+----------+-------+-------+---------------------+---------------------+---------------------+-------------------+\n",
      "|book_B    |book_A    |pair_count|count_A|count_B|support              |confidence_AtoB      |confidence_BtoA      |lift               |\n",
      "+----------+----------+----------+-------+-------+---------------------+---------------------+---------------------+-------------------+\n",
      "|B000PCESRE|B000GQG5MA|2         |659    |340    |3.707136237256719E-5 |0.0030349013657056147|0.0058823529411764705|0.4815674372935821 |\n",
      "|B000PMCF1A|B000GQG5MA|2         |659    |339    |3.707136237256719E-5 |0.0030349013657056147|0.0058997050147492625|0.48298799020595257|\n",
      "|B000I3NFKG|B000GQG5MA|2         |659    |338    |3.707136237256719E-5 |0.0030349013657056147|0.005917159763313609 |0.48441694875685776|\n",
      "|B000MOOAJG|B000ILIJE0|3         |689    |434    |5.5607043558850786E-5|0.0043541364296081275|0.0069124423963133645|0.5412572819754804 |\n",
      "|B000PWMT1G|B000ILIJE0|3         |689    |434    |5.5607043558850786E-5|0.0043541364296081275|0.0069124423963133645|0.5412572819754804 |\n",
      "|B000PWMT1G|B000NWU3I4|3         |687    |434    |5.5607043558850786E-5|0.004366812227074236 |0.0069124423963133645|0.5428329945867627 |\n",
      "|B000NWU3I4|B000MOOAJG|3         |434    |687    |5.5607043558850786E-5|0.0069124423963133645|0.004366812227074236 |0.5428329945867628 |\n",
      "|B000PWMT1G|B000PC54NG|3         |685    |434    |5.5607043558850786E-5|0.004379562043795621 |0.0069124423963133645|0.5444179084395708 |\n",
      "|B000PC54NG|B000MOOAJG|3         |434    |685    |5.5607043558850786E-5|0.0069124423963133645|0.004379562043795621 |0.5444179084395708 |\n",
      "|B000NWQXBA|B000MOOAJG|3         |434    |683    |5.5607043558850786E-5|0.0069124423963133645|0.004392386530014641 |0.5460121043647232 |\n",
      "|B000PWMT1G|B000NWQXBA|3         |683    |434    |5.5607043558850786E-5|0.004392386530014641 |0.0069124423963133645|0.5460121043647234 |\n",
      "|B000Q032UY|B000MOOAJG|3         |434    |678    |5.5607043558850786E-5|0.0069124423963133645|0.004424778761061947 |0.5500387423025163 |\n",
      "|B000MOOAJG|B000H9R1Q0|3         |678    |434    |5.5607043558850786E-5|0.004424778761061947 |0.0069124423963133645|0.5500387423025163 |\n",
      "|B000PWMT1G|B000H9R1Q0|3         |678    |434    |5.5607043558850786E-5|0.004424778761061947 |0.0069124423963133645|0.5500387423025163 |\n",
      "|B000Q032UY|B000PWMT1G|3         |434    |678    |5.5607043558850786E-5|0.0069124423963133645|0.004424778761061947 |0.5500387423025163 |\n",
      "+----------+----------+----------+-------+-------+---------------------+---------------------+---------------------+-------------------+\n",
      "only showing top 15 rows\n",
      "\n"
     ]
    }
   ],
   "source": [
    "# Mostriamo le regole ordinate per lift decrescente\n",
    "rules_df.orderBy(col(\"lift\").asc()).show(15, False)"
   ]
  },
  {
   "cell_type": "markdown",
   "id": "b0a388ad-d9f9-40fd-a3d0-451915f5271f",
   "metadata": {},
   "source": [
    "#### 4.3 SON Algorithms"
   ]
  },
  {
   "cell_type": "code",
   "execution_count": 65,
   "id": "803cf35a-3ba2-45c2-90f5-3e50967c7217",
   "metadata": {},
   "outputs": [],
   "source": [
    "from itertools import combinations\n",
    "\n",
    "def generate_candidates(basket, k):\n",
    "    \"\"\"\n",
    "    Genera combinazioni di itemset di lunghezza k.\n",
    "    \"\"\"\n",
    "    return list(combinations(sorted(basket), k))\n"
   ]
  },
  {
   "cell_type": "code",
   "execution_count": 66,
   "id": "456690cd-12f5-4c48-8504-318f63ff05ad",
   "metadata": {},
   "outputs": [],
   "source": [
    "from collections import defaultdict\n",
    "\n",
    "def find_frequent_itemsets(partition, min_support, k):\n",
    "    \"\"\"\n",
    "    Trova gli itemset frequenti locali in una partizione.\n",
    "    \"\"\"\n",
    "    baskets = list(partition)\n",
    "    local_counts = defaultdict(int)\n",
    "    \n",
    "    # Conta gli itemset di lunghezza k\n",
    "    for basket in baskets:\n",
    "        for candidate in generate_candidates(basket, k):\n",
    "            local_counts[candidate] += 1\n",
    "    \n",
    "    # Filtra per supporto minimo locale\n",
    "    partition_size = len(baskets)\n",
    "    local_frequent_itemsets = {itemset for itemset, count in local_counts.items() if count / partition_size >= min_support}\n",
    "    \n",
    "    return list(local_frequent_itemsets)\n"
   ]
  },
  {
   "cell_type": "code",
   "execution_count": 67,
   "id": "ff20c946-f8d8-4c1d-abf0-364197bc0d4f",
   "metadata": {},
   "outputs": [],
   "source": [
    "def count_global_frequencies(df_basket, candidates):\n",
    "    \"\"\"\n",
    "    Conta le frequenze globali degli itemset candidati.\n",
    "    \"\"\"\n",
    "    global_counts = defaultdict(int)\n",
    "    \n",
    "    for row in df_basket.collect():\n",
    "        basket = set(row[\"items\"])\n",
    "        for candidate in candidates:\n",
    "            if set(candidate).issubset(basket):\n",
    "                global_counts[candidate] += 1\n",
    "    \n",
    "    return global_counts\n"
   ]
  },
  {
   "cell_type": "code",
   "execution_count": 70,
   "id": "fae0a334-e59c-4a5b-b835-14979899c7f5",
   "metadata": {},
   "outputs": [],
   "source": [
    "min_support = 0.5\n",
    "k = 2  # Per cercare coppie di itemset frequenti"
   ]
  },
  {
   "cell_type": "code",
   "execution_count": 71,
   "id": "f1bf2903-80d0-4da8-9b4f-e7ae7cad5838",
   "metadata": {},
   "outputs": [],
   "source": [
    "local_frequent_itemsets = df_basket.rdd.mapPartitions(lambda partition: find_frequent_itemsets(partition, min_support, k))"
   ]
  },
  {
   "cell_type": "code",
   "execution_count": null,
   "id": "a3be8099-0787-456c-8538-73ca70a1c0d3",
   "metadata": {},
   "outputs": [],
   "source": []
  }
 ],
 "metadata": {
  "kernelspec": {
   "display_name": "Python 3 (ipykernel)",
   "language": "python",
   "name": "python3"
  },
  "language_info": {
   "codemirror_mode": {
    "name": "ipython",
    "version": 3
   },
   "file_extension": ".py",
   "mimetype": "text/x-python",
   "name": "python",
   "nbconvert_exporter": "python",
   "pygments_lexer": "ipython3",
   "version": "3.10.4"
  }
 },
 "nbformat": 4,
 "nbformat_minor": 5
}
