{
 "cells": [
  {
   "cell_type": "markdown",
   "id": "d7d6d54f-dae5-43b3-ad40-b7b201bd17d5",
   "metadata": {},
   "source": [
    "\n",
    "\n",
    "\n",
    "\n",
    "---"
   ]
  },
  {
   "cell_type": "markdown",
   "id": "763d2238-35cd-4998-bb8f-7c907af6818c",
   "metadata": {},
   "source": [
    "# MARKET-BASKET ANALYSIS"
   ]
  },
  {
   "cell_type": "markdown",
   "id": "89d58f04-d2e4-4e30-b041-e04f5ca4abeb",
   "metadata": {},
   "source": [
    "## Massive Algorithm \n",
    "### Data Science for Economics"
   ]
  },
  {
   "cell_type": "markdown",
   "id": "bb30d303-7b2d-4f77-9f60-7dfda5adc634",
   "metadata": {},
   "source": [
    "##### Angelica Longo, Melissa Rizzi"
   ]
  },
  {
   "cell_type": "markdown",
   "id": "1758f691-8d9b-44be-84c5-4e58d70505f3",
   "metadata": {},
   "source": [
    "The goal of this project is to implement a system for **detecting frequent itemsets**, commonly known as **market-basket analysis**.\n",
    "In this notebook, the detector treats each user’s reviewed books as a basket, with books serving as items.\n",
    "\n",
    "The project is based on the **[Amazon Books Review](https://www.kaggle.com/datasets/mohamedbakhet/amazon-books-reviews)** dataset, published on Kaggle under the public domain CC0 license. Data is downloaded during the execution of the scripts via an API and contains variables related to users and their reviews of purchased books.\n",
    "\n",
    "Given the large volume of data (3 million rows), a reasonable subsample is created using **PySpark**, consisting of approximately 500,000 rows, while ensuring scalability for the full dataset.\n",
    "\n",
    "The project is structured as follows:\n",
    "\n",
    "- **Preprocessing** – This phase includes data cleaning, checking data integrity, handling null values, removing duplicates, and computing the overall mean to verify consistency with the selected subsample.\n",
    "- **Subsampling** – A subset of data is created while maintaining a representative distribution of user choices and ratings.\n",
    "- **Frequent Itemset Mining** – The final step involves implementing an algorithm to identify frequent itemsets within the dataset.\n",
    "\n",
    "This structured approach ensures both **efficiency** and **scalability** while maintaining **data integrity**."
   ]
  },
  {
   "cell_type": "markdown",
   "id": "f731e154-e05f-47b4-8401-fbf00ac84f77",
   "metadata": {
    "jp-MarkdownHeadingCollapsed": true
   },
   "source": [
    "### Table of Contents\n",
    "- [1. Data Import](#1-Data-Import)\n",
    "- [2. Data PreProcessing](#2-data-preprocessing)\n",
    "  - [2.1 Data Integrity](#21-data-integrity)\n",
    "  - [2.2 Missing Data](#22-missing-data)\n",
    "  - [2.3 Data Duplicates](#22-data-duplicates)\n",
    "  - [2.4 Rating Means](#22-rating-means)\n",
    "- [3. Subsample Creation](#3-subsample-creation)\n",
    "- [4. Frequent Itemset Mining](#4-frequent-itemset-mining)\n"
   ]
  },
  {
   "cell_type": "markdown",
   "id": "fa12e9da-54f1-4dd0-bfbc-9682eaae02f1",
   "metadata": {},
   "source": [
    "---\n",
    "### 1. Data Import"
   ]
  },
  {
   "cell_type": "code",
   "execution_count": 1,
   "id": "2a2f9470-ba56-462f-9829-388832253f32",
   "metadata": {},
   "outputs": [],
   "source": [
    "import os\n",
    "import zipfile"
   ]
  },
  {
   "cell_type": "code",
   "execution_count": 2,
   "id": "ec451398-739e-49be-8a9a-e76f18bdaa61",
   "metadata": {},
   "outputs": [],
   "source": [
    "os.environ['KAGGLE_USERNAME'] = \"melissarizzi\"\n",
    "os.environ['KAGGLE_KEY'] = \"3ed913e7329a3117a254e67179c0f8bb\""
   ]
  },
  {
   "cell_type": "code",
   "execution_count": 3,
   "id": "0e692ed4-ac60-4982-90dc-48ab6dd3797b",
   "metadata": {},
   "outputs": [],
   "source": [
    "#!pip install kaggle"
   ]
  },
  {
   "cell_type": "code",
   "execution_count": 12,
   "id": "a2d6b5c9-0837-4d38-a26c-7afc7acdf129",
   "metadata": {},
   "outputs": [
    {
     "name": "stdout",
     "output_type": "stream",
     "text": [
      "^C\n",
      "Dataset URL: https://www.kaggle.com/datasets/mohamedbakhet/amazon-books-reviews\n",
      "License(s): CC0-1.0\n",
      "('Connection broken: IncompleteRead(111699986 bytes read, 1028583775 more expected)', IncompleteRead(111699986 bytes read, 1028583775 more expected))\n"
     ]
    }
   ],
   "source": [
    "#!kaggle datasets download -d mohamedbakhet/amazon-books-reviews"
   ]
  },
  {
   "cell_type": "code",
   "execution_count": 14,
   "id": "ff6576e7-9231-41bf-b56e-eb4c073650dc",
   "metadata": {},
   "outputs": [],
   "source": [
    "with zipfile.ZipFile(\"amazon-books-reviews.zip\", 'r') as zip_ref:\n",
    "    zip_ref.extractall(\"amazon_books_data\")"
   ]
  },
  {
   "cell_type": "markdown",
   "id": "0f666223-9b9b-48fb-b264-9e895cddc5d4",
   "metadata": {},
   "source": [
    "---\n",
    "### 2. Data PreProcessing"
   ]
  },
  {
   "cell_type": "code",
   "execution_count": 15,
   "id": "8516ec6a-2fc2-45db-8a19-29787ca5437b",
   "metadata": {},
   "outputs": [],
   "source": [
    "# Import necessary libraries\n",
    "from pyspark.sql import SparkSession\n",
    "from pyspark.sql.functions import col, min, max, sum, when, collect_set,count\n",
    "from pyspark.sql.types import DoubleType\n",
    "from pyspark.sql import functions as F\n",
    "from pyspark.ml.fpm import FPGrowth"
   ]
  },
  {
   "cell_type": "code",
   "execution_count": 16,
   "id": "7fedb1a1-5a11-482a-982a-e2b4794efee3",
   "metadata": {},
   "outputs": [],
   "source": [
    "# Create Spark Session\n",
    "spark = SparkSession.builder.appName(\"MapReduce\").getOrCreate()"
   ]
  },
  {
   "cell_type": "code",
   "execution_count": 17,
   "id": "ff4170ba-faf9-427d-8cd6-37d6e11af3af",
   "metadata": {},
   "outputs": [],
   "source": [
    "# Import data\n",
    "data = spark.read.csv(\"amazon_books_data/Books_rating.csv\", header=True, inferSchema=True)\n",
    "#data.show(5)"
   ]
  },
  {
   "cell_type": "code",
   "execution_count": 19,
   "id": "89825f6b-49b7-441f-99f4-b6c2e8312289",
   "metadata": {},
   "outputs": [
    {
     "name": "stdout",
     "output_type": "stream",
     "text": [
      "+----------+--------------------+--------------+-----+--------------------+\n",
      "|        Id|               Title|       User_id|score|         review/text|\n",
      "+----------+--------------------+--------------+-----+--------------------+\n",
      "|1882931173|Its Only Art If I...| AVCGYZL8FQQTD|  4.0|This is only for ...|\n",
      "|0826414346|Dr. Seuss: Americ...|A30TK6U7DNS82R|  5.0|I don't care much...|\n",
      "|0826414346|Dr. Seuss: Americ...|A3UH4UZ4RSVO82|  5.0|\"If people become...|\n",
      "|0826414346|Dr. Seuss: Americ...|A2MVUWT453QH61|  4.0|Theodore Seuss Ge...|\n",
      "|0826414346|Dr. Seuss: Americ...|A22X4XUPKF66MR|  4.0|\"Philip Nel - Dr....|\n",
      "+----------+--------------------+--------------+-----+--------------------+\n",
      "only showing top 5 rows\n",
      "\n"
     ]
    }
   ],
   "source": [
    "#Select only useful columns\n",
    "df = data.select(\"Id\", 'Title', \"User_id\", \"review/score\",'review/text').withColumnRenamed(\"review/score\", \"score\")\n",
    "df.show(5)"
   ]
  },
  {
   "cell_type": "markdown",
   "id": "689a5990-8e66-46ba-b901-e2512c7588e7",
   "metadata": {},
   "source": [
    "#### 2.1 Data Integrity"
   ]
  },
  {
   "cell_type": "code",
   "execution_count": 20,
   "id": "4aba7801-26bb-4ede-b4e0-9d8b86872faf",
   "metadata": {},
   "outputs": [
    {
     "name": "stdout",
     "output_type": "stream",
     "text": [
      "root\n",
      " |-- Id: string (nullable = true)\n",
      " |-- Title: string (nullable = true)\n",
      " |-- User_id: string (nullable = true)\n",
      " |-- score: string (nullable = true)\n",
      " |-- review/text: string (nullable = true)\n",
      "\n"
     ]
    }
   ],
   "source": [
    "df.printSchema()"
   ]
  },
  {
   "cell_type": "code",
   "execution_count": 21,
   "id": "b338f85d-630b-4d4f-8bc8-2c0d7bc843c8",
   "metadata": {},
   "outputs": [
    {
     "name": "stdout",
     "output_type": "stream",
     "text": [
      "root\n",
      " |-- Id: string (nullable = true)\n",
      " |-- Title: string (nullable = true)\n",
      " |-- User_id: string (nullable = true)\n",
      " |-- score: double (nullable = true)\n",
      " |-- review/text: string (nullable = true)\n",
      "\n"
     ]
    }
   ],
   "source": [
    "# Transform 'score' variable in double type\n",
    "df = df.withColumn(\"score\", col(\"score\").cast(DoubleType()))\n",
    "df.printSchema()"
   ]
  },
  {
   "cell_type": "code",
   "execution_count": 22,
   "id": "0f19f6eb-d07a-488c-a051-daec53e43aff",
   "metadata": {},
   "outputs": [
    {
     "name": "stdout",
     "output_type": "stream",
     "text": [
      "+---------+----------+\n",
      "|min_score| max_score|\n",
      "+---------+----------+\n",
      "|      1.0|1.295568E9|\n",
      "+---------+----------+\n",
      "\n"
     ]
    }
   ],
   "source": [
    "# Check score range\n",
    "df.select(min(col(\"score\")).alias(\"min_score\"), max(col(\"score\")).alias(\"max_score\")).show()"
   ]
  },
  {
   "cell_type": "code",
   "execution_count": 23,
   "id": "55593ded-7fa4-402a-b75c-e813567c3987",
   "metadata": {},
   "outputs": [
    {
     "name": "stdout",
     "output_type": "stream",
     "text": [
      "+---------+---------+\n",
      "|min_score|max_score|\n",
      "+---------+---------+\n",
      "|      1.0|      5.0|\n",
      "+---------+---------+\n",
      "\n"
     ]
    }
   ],
   "source": [
    "# Keep just data with the 'score' values in the correct range [1, 5]\n",
    "df = df.filter((col(\"score\") >= 1) & (col(\"score\") <= 5))\n",
    "df.select(min(\"score\").alias(\"min_score\"), max(\"score\").alias(\"max_score\")).show()"
   ]
  },
  {
   "cell_type": "markdown",
   "id": "045d1899-4dea-41f1-ac47-5a885e93d370",
   "metadata": {},
   "source": [
    "#### 2.2 Missing Data"
   ]
  },
  {
   "cell_type": "code",
   "execution_count": 24,
   "id": "696f1305-282a-48ed-823a-eb518e19d8dd",
   "metadata": {},
   "outputs": [],
   "source": [
    "# Count null values for each variable\n",
    "null_counts = df.select(\n",
    "    [sum(when(col(c).isNull(), 1).otherwise(0)).alias(c) for c in df.columns]\n",
    ")\n",
    "\n",
    "#null_counts.show()"
   ]
  },
  {
   "cell_type": "markdown",
   "id": "6ddd56cd-47dd-454c-8222-1b69d34c40c0",
   "metadata": {},
   "source": [
    "What stands out right away, especially for the purpose of our analysis, is that there are many missing values in the User_id variable. One possible reason for this could be that users who leave reviews but are not registered don’t have a user ID. Our goal is to identify baskets of items purchased by the same users, but without the user ID, this analysis cannot be conducted. We explored the possibility of using profile names instead, by assigning a dummy ID to users with the same name. However, we were aware that this might not provide accurate results due to potential name duplication. Moreover, there were more missing profile names than missing user IDs, which made this solution unfeasible. After considering our options, we ultimately decided to **drop the missing values**, as we couldn’t identify a suitable method to replace them."
   ]
  },
  {
   "cell_type": "code",
   "execution_count": 25,
   "id": "178c2f35-40a7-4a64-9e64-11634befd3c2",
   "metadata": {},
   "outputs": [],
   "source": [
    "# Remove null values\n",
    "df_clean = df.dropna()\n",
    "#df_clean.show(5)"
   ]
  },
  {
   "cell_type": "code",
   "execution_count": 26,
   "id": "792236e6-bcae-4999-9c02-3a79a618e555",
   "metadata": {},
   "outputs": [
    {
     "name": "stdout",
     "output_type": "stream",
     "text": [
      "Number of Rows - Before cleaning: 2981912\n",
      "Number of Rows - After cleaning: 2420235\n"
     ]
    }
   ],
   "source": [
    "# Check data size\n",
    "n_rows = df.count()\n",
    "n_rows_clean = df_clean.count()\n",
    "print(f\"Number of Rows - Before cleaning: {n_rows}\")\n",
    "print(f\"Number of Rows - After cleaning: {n_rows_clean}\")"
   ]
  },
  {
   "cell_type": "markdown",
   "id": "8d8eca9a-a340-44b9-8721-8f50635c574f",
   "metadata": {},
   "source": [
    "#### 2.3 Data Duplicates"
   ]
  },
  {
   "cell_type": "code",
   "execution_count": 27,
   "id": "b58a5aca-1373-48a0-825a-1fc589a19843",
   "metadata": {},
   "outputs": [],
   "source": [
    "# Remove duplicated rows\n",
    "df_clean = df_clean.dropDuplicates()\n",
    "\n",
    "#n_rows_clean = df_clean.count()\n",
    "#print(f\"Number of Rows - After duplicates removal: {n_rows_clean}\")"
   ]
  },
  {
   "cell_type": "markdown",
   "id": "1db8a113-16f5-4ab7-a08d-38ebc3257acb",
   "metadata": {},
   "source": [
    "Up until now, we’ve performed a general cleaning of the dataset. From here on, we’ll focus exclusively on the three columns that are relevant to our analysis (Id, User_id, and score), forming a new dataset: df_short."
   ]
  },
  {
   "cell_type": "code",
   "execution_count": 28,
   "id": "1bd6df60-8224-4062-8083-f351ae6564c7",
   "metadata": {},
   "outputs": [],
   "source": [
    "# Remove useless columns\n",
    "df_short = df_clean.select(\"Id\", \"User_id\",\"score\")\n",
    "#df_short.show(5)"
   ]
  },
  {
   "cell_type": "code",
   "execution_count": 29,
   "id": "36ce2b8f-8fea-4242-bfcd-79b4c2cf08d4",
   "metadata": {},
   "outputs": [],
   "source": [
    "# Check and remove duplicated rows for the three considered variables\n",
    "df_short= df_short.dropDuplicates()"
   ]
  },
  {
   "cell_type": "markdown",
   "id": "01e30303-5bc3-4aa8-a1f4-3b0aeb9a757f",
   "metadata": {},
   "source": [
    "Given that the same user could have rated the same book twice, we want to compute the mean of the different scores given by the same user to the same book."
   ]
  },
  {
   "cell_type": "code",
   "execution_count": 30,
   "id": "7088e5e5-defb-4e04-a380-8ba5402126d1",
   "metadata": {},
   "outputs": [],
   "source": [
    "# Find duplicates considering only 'Id' and 'User_id'\n",
    "duplicati = df_short.groupBy(\"Id\", \"User_id\").count().filter(\"count > 1\")"
   ]
  },
  {
   "cell_type": "code",
   "execution_count": 31,
   "id": "4695327d-85fe-4038-a0c8-3692f2dd5524",
   "metadata": {},
   "outputs": [],
   "source": [
    "# Compute average score for every (Id, User_id)\n",
    "score_mean = df_short.groupBy('Id', 'User_id').agg(F.mean('score').alias('mean_score'))\n",
    "df_final = df_short.join(score_mean, on=['Id', 'User_id'], how='left')\n",
    "\n",
    "# Creation of the final preprocessed dataset\n",
    "df_final = df_final.select('Id','User_id', 'mean_score')\n",
    "df_final = df_final.dropDuplicates()\n",
    "#df_final.show(5)"
   ]
  },
  {
   "cell_type": "code",
   "execution_count": 32,
   "id": "ff19bedb-5e69-46f1-9d61-06d2f882e6b5",
   "metadata": {},
   "outputs": [
    {
     "name": "stdout",
     "output_type": "stream",
     "text": [
      "Number of Rows - Final dataset: 2380153\n"
     ]
    }
   ],
   "source": [
    "n_rows_final = df_final.count()\n",
    "print(f\"Number of Rows - Final dataset: {n_rows_final}\")"
   ]
  },
  {
   "cell_type": "markdown",
   "id": "8433c56b-d689-47f5-9909-fef27f4ccb77",
   "metadata": {},
   "source": [
    "#### 2.4 Rating Means"
   ]
  },
  {
   "cell_type": "markdown",
   "id": "f5bc304d-8f56-4051-815d-49ff13645eb9",
   "metadata": {},
   "source": [
    "We want to calculate the overall average score to see if consistency is maintained after creating the subsample."
   ]
  },
  {
   "cell_type": "markdown",
   "id": "a3d55063-645d-49bf-a292-18707abbb343",
   "metadata": {},
   "source": [
    "- Overall mean score:"
   ]
  },
  {
   "cell_type": "code",
   "execution_count": 33,
   "id": "165372fe-dcaa-47ce-a264-3bbf09c6d651",
   "metadata": {},
   "outputs": [
    {
     "name": "stdout",
     "output_type": "stream",
     "text": [
      "Overall mean score - Final dataset: 4.22386130919595\n"
     ]
    }
   ],
   "source": [
    "df_final = df_final.withColumn(\"mean_score\", F.col(\"mean_score\").cast(\"double\"))\n",
    "\n",
    "overall_mean = df_final.agg(F.avg(\"mean_score\")).collect()[0][0]\n",
    "print(f\"Overall mean score - Final dataset: {overall_mean}\")"
   ]
  },
  {
   "cell_type": "markdown",
   "id": "9dacaa7a-69df-4f0f-b974-35e01a859238",
   "metadata": {},
   "source": [
    "- Mean score for each item:"
   ]
  },
  {
   "cell_type": "code",
   "execution_count": 34,
   "id": "29ae5ae6-01ef-4f19-a09e-67c65d13c94e",
   "metadata": {},
   "outputs": [],
   "source": [
    "#score_per_id = df_final.groupBy(\"Id\").agg(F.avg(\"mean_score\").alias(\"avg_score_pre\"))\n",
    "#score_per_id.show(5)"
   ]
  },
  {
   "cell_type": "code",
   "execution_count": 35,
   "id": "a1f45fa9-1ac1-4e42-a7d9-61c358cfc9f0",
   "metadata": {},
   "outputs": [],
   "source": [
    "# Check data integrity\n",
    "#score_per_id_above_5 = score_per_id.filter(F.col(\"avg_score_pre\") > 5)\n",
    "#score_per_id_above_5.show(5)"
   ]
  },
  {
   "cell_type": "markdown",
   "id": "294ea9f6-42b3-4586-ae5a-f06239029d1b",
   "metadata": {},
   "source": [
    "---\n",
    "### 3. Subsample Creation"
   ]
  },
  {
   "cell_type": "markdown",
   "id": "21056f28-3e8c-44f4-a835-609c111f028b",
   "metadata": {},
   "source": [
    "We aim to create a subsample that remains consistent with the original dataset. To achieve this, we select a fraction of users while ensuring that all their reviews are included. This approach allows us to better represent their purchasing behavior and rating patterns, preserving the integrity of the data."
   ]
  },
  {
   "cell_type": "code",
   "execution_count": 36,
   "id": "d1f2591d-06d3-4f9c-a6ee-06f4103590a4",
   "metadata": {},
   "outputs": [
    {
     "name": "stdout",
     "output_type": "stream",
     "text": [
      "Total number of different users - Original dataset: 1004214\n"
     ]
    }
   ],
   "source": [
    "num_users = df_final.select(\"User_id\").distinct().count()\n",
    "print(f\"Total number of different users - Original dataset: {num_users}\")"
   ]
  },
  {
   "cell_type": "code",
   "execution_count": 37,
   "id": "94cee6f8-b6c5-4a3b-a5f8-4caffdd9f22c",
   "metadata": {},
   "outputs": [],
   "source": [
    "# Keep just 20% of the users\n",
    "sample_fraction = 0.2\n",
    "user_sample = df_final.select(\"User_id\").distinct().sample(fraction=sample_fraction, seed=42)"
   ]
  },
  {
   "cell_type": "code",
   "execution_count": 38,
   "id": "b97d58b5-6af5-43c1-9aa7-7f5651c51363",
   "metadata": {},
   "outputs": [],
   "source": [
    "# Create the subsample with the selected users\n",
    "df_sampled = df_final.join(user_sample, on=\"User_id\", how=\"inner\")\n",
    "#df_sampled.show(5)"
   ]
  },
  {
   "cell_type": "code",
   "execution_count": 39,
   "id": "7f48b9e1-b2f5-4014-91ef-2f1308b39929",
   "metadata": {},
   "outputs": [
    {
     "name": "stdout",
     "output_type": "stream",
     "text": [
      "Number of Rows - Sample: 471573\n"
     ]
    }
   ],
   "source": [
    "# Check subsample size\n",
    "n_rows_sample = df_sampled.count()\n",
    "print(f\"Number of Rows - Sample: {n_rows_sample}\")"
   ]
  },
  {
   "cell_type": "code",
   "execution_count": 40,
   "id": "0869e35a-d2c5-4a99-b25f-dfd385438b32",
   "metadata": {},
   "outputs": [
    {
     "name": "stdout",
     "output_type": "stream",
     "text": [
      "root\n",
      " |-- User_id: string (nullable = true)\n",
      " |-- Id: string (nullable = true)\n",
      " |-- mean_score: double (nullable = true)\n",
      "\n"
     ]
    }
   ],
   "source": [
    "# Check data integrity\n",
    "df_sampled.printSchema()"
   ]
  },
  {
   "cell_type": "code",
   "execution_count": 42,
   "id": "dc93f259-0a98-47bd-99d6-5510a467fd96",
   "metadata": {},
   "outputs": [
    {
     "name": "stdout",
     "output_type": "stream",
     "text": [
      "Overall mean - Sample: 4.221354205322752\n"
     ]
    }
   ],
   "source": [
    "# Check mean coherence with the original dataset\n",
    "overall_mean_sample = df_sampled.agg(F.avg(\"mean_score\")).collect()[0][0]\n",
    "print(f\"Overall mean - Sample: {overall_mean_sample}\")"
   ]
  },
  {
   "cell_type": "markdown",
   "id": "ecf3291f-03c3-43fe-9f01-2a27374cf616",
   "metadata": {},
   "source": [
    "The overall mean of the subsample is coherent with the overall mean of the original final dataset."
   ]
  },
  {
   "cell_type": "markdown",
   "id": "73a4bba1-1e78-4823-9144-166150aa1e88",
   "metadata": {},
   "source": [
    "---\n",
    "### 4. Algorithm Implementation"
   ]
  },
  {
   "cell_type": "markdown",
   "id": "c7221f0e-72c4-402b-960d-709c9944073f",
   "metadata": {},
   "source": [
    "#### 4.1 FP-Growth Algorithm"
   ]
  },
  {
   "cell_type": "markdown",
   "id": "e6333ecd-fbfb-4250-97cd-3ca9600550d5",
   "metadata": {},
   "source": [
    "We considered only books that received a score above 3"
   ]
  },
  {
   "cell_type": "code",
   "execution_count": 43,
   "id": "b2720c41-7770-4fff-8ec0-08c7e8724311",
   "metadata": {},
   "outputs": [],
   "source": [
    "# Filter and keep just rows with rating >= 3\n",
    "df_filtered = df_sampled.filter(col(\"mean_score\") >= 3)"
   ]
  },
  {
   "cell_type": "code",
   "execution_count": 44,
   "id": "71930433-d387-4cfb-8313-f9543340efb0",
   "metadata": {},
   "outputs": [],
   "source": [
    "# Filter and keep just users who rated > 1 book\n",
    "user_counts = df_filtered.groupBy(\"User_id\").agg(count(\"Id\").alias(\"book_count\"))\n",
    "users_with_multiple_books = user_counts.filter(col(\"book_count\") > 1).select(\"User_id\")\n",
    "\n",
    "df_filtered = df_filtered.join(users_with_multiple_books, on=\"User_id\", how=\"inner\")"
   ]
  },
  {
   "cell_type": "markdown",
   "id": "c51b03cb-f56a-4a54-9437-fd6551e71513",
   "metadata": {},
   "source": [
    "- Creation od Baskets of items "
   ]
  },
  {
   "cell_type": "code",
   "execution_count": 45,
   "id": "2037cac7-7b56-4bf0-ba27-00692d940305",
   "metadata": {},
   "outputs": [],
   "source": [
    "# Create baskets of items for every user\n",
    "df_basket = df_filtered.groupBy(\"User_id\").agg(collect_set(\"Id\").alias(\"items\"))"
   ]
  },
  {
   "cell_type": "markdown",
   "id": "f3e8eb0f-6d91-4127-a998-a9567fadf9ca",
   "metadata": {},
   "source": [
    "- Algorithm application"
   ]
  },
  {
   "cell_type": "code",
   "execution_count": 46,
   "id": "40008658-82a6-409f-9cf1-4234c6fa80a8",
   "metadata": {},
   "outputs": [],
   "source": [
    "# Apply FP-Growth\n",
    "fpGrowth = FPGrowth(itemsCol=\"items\", minSupport=0.01, minConfidence=0.2)\n",
    "model = fpGrowth.fit(df_basket)\n",
    "\n",
    "                        # Support: probabilità di acquisto di tutto il basket\n",
    "                        # Confidence: probabilità che se compro un basket compro anche l'altro libro\n"
   ]
  },
  {
   "cell_type": "code",
   "execution_count": 47,
   "id": "6f6985f1-0c3f-4ffd-ae9b-98634b670524",
   "metadata": {},
   "outputs": [
    {
     "name": "stdout",
     "output_type": "stream",
     "text": [
      "Frequent Itemsets:\n",
      "+------------------------------------------------+----+\n",
      "|items                                           |freq|\n",
      "+------------------------------------------------+----+\n",
      "|[B000ILIJE0]                                    |689 |\n",
      "|[B000NWU3I4]                                    |687 |\n",
      "|[B000NWU3I4, B000ILIJE0]                        |686 |\n",
      "|[B000PC54NG]                                    |685 |\n",
      "|[B000PC54NG, B000NWU3I4]                        |684 |\n",
      "|[B000PC54NG, B000NWU3I4, B000ILIJE0]            |683 |\n",
      "|[B000PC54NG, B000ILIJE0]                        |684 |\n",
      "|[B000NWQXBA]                                    |683 |\n",
      "|[B000NWQXBA, B000PC54NG]                        |683 |\n",
      "|[B000NWQXBA, B000PC54NG, B000NWU3I4]            |682 |\n",
      "|[B000NWQXBA, B000PC54NG, B000NWU3I4, B000ILIJE0]|682 |\n",
      "|[B000NWQXBA, B000PC54NG, B000ILIJE0]            |683 |\n",
      "|[B000NWQXBA, B000NWU3I4]                        |682 |\n",
      "|[B000NWQXBA, B000NWU3I4, B000ILIJE0]            |682 |\n",
      "|[B000NWQXBA, B000ILIJE0]                        |683 |\n",
      "|[B000Q032UY]                                    |678 |\n",
      "|[B000Q032UY, B000PC54NG]                        |678 |\n",
      "|[B000Q032UY, B000PC54NG, B000NWU3I4]            |677 |\n",
      "|[B000Q032UY, B000PC54NG, B000NWU3I4, B000ILIJE0]|677 |\n",
      "|[B000Q032UY, B000PC54NG, B000ILIJE0]            |678 |\n",
      "+------------------------------------------------+----+\n",
      "only showing top 20 rows\n",
      "\n"
     ]
    }
   ],
   "source": [
    "print(\"Frequent Itemsets:\")\n",
    "model.freqItemsets.show(truncate=False)\n",
    "\n",
    "# Count number of Frequent Itemsets\n",
    "#num_freq_itemsets = model.freqItemsets.count()\n",
    "#print(f\"Number of rows of Frequent Itemsets: {num_freq_itemsets}\")"
   ]
  },
  {
   "cell_type": "markdown",
   "id": "2f6d37d0-ac34-4b56-99d0-8e692725d0d8",
   "metadata": {},
   "source": [
    "- Alta confidenza e lift elevato: Se vedi una regola con alta confidenza (vicina a 1.0) e un valore di lift molto alto, significa che c'è una forte correlazione tra gli articoli dell'antecedente e quelli del conseguente. Queste sono regole particolarmente utili per le raccomandazioni di prodotto.\n",
    "\n",
    "- Basso supporto, alta confidenza e lift alto: Anche se il supporto è basso (ad esempio, 1% delle transazioni), un lift elevato e una confidenza vicina a 1.0 indicano che la regola è molto significativa per un numero ridotto di transazioni."
   ]
  },
  {
   "cell_type": "code",
   "execution_count": 59,
   "id": "263048da-7825-4c9c-9a1b-394b300bf962",
   "metadata": {},
   "outputs": [
    {
     "name": "stdout",
     "output_type": "stream",
     "text": [
      "Association Rules:\n",
      "+------------------------------------------------------------------------+------------+------------------+-----------------+--------------------+\n",
      "|antecedent                                                              |consequent  |confidence        |lift             |support             |\n",
      "+------------------------------------------------------------------------+------------+------------------+-----------------+--------------------+\n",
      "|[B000NDSX6C, B000GQG7D2, B000H9R1Q0, B000PC54NG, B000NWU3I4, B000ILIJE0]|[B000GQG5MA]|0.9640522875816994|78.92355222311484|0.010936051899907321|\n",
      "|[B000NDSX6C, B000GQG7D2, B000H9R1Q0, B000PC54NG, B000NWU3I4, B000ILIJE0]|[B000Q032UY]|1.0               |79.57227138643069|0.01134383688600556 |\n",
      "|[B000NDSX6C, B000GQG7D2, B000H9R1Q0, B000PC54NG, B000NWU3I4, B000ILIJE0]|[B000NWQXBA]|1.0               |78.98975109809663|0.01134383688600556 |\n",
      "|[B000GQG7D2, B000Q032UY, B000PC54NG, B000NWU3I4, B000ILIJE0]            |[B000H9R1Q0]|1.0               |79.57227138643069|0.012159406858202038|\n",
      "|[B000GQG7D2, B000Q032UY, B000PC54NG, B000NWU3I4, B000ILIJE0]            |[B000NWQXBA]|1.0               |78.98975109809663|0.012159406858202038|\n",
      "|[B000GQG7D2, B000Q032UY, B000PC54NG, B000NWU3I4, B000ILIJE0]            |[B000GQG5MA]|0.9588414634146342|78.49696047226026|0.011658943466172382|\n",
      "|[B000GQG7D2, B000Q032UY, B000PC54NG, B000NWU3I4, B000ILIJE0]            |[B000NDSX6C]|0.9329268292682927|78.39782311374516|0.01134383688600556 |\n",
      "|[B000GQG7D2, B000NWQXBA, B000ILIJE0]                                    |[B000H9R1Q0]|0.9939485627836612|79.09074478197422|0.012177942539388323|\n",
      "|[B000GQG7D2, B000NWQXBA, B000ILIJE0]                                    |[B000Q032UY]|0.9939485627836612|79.09074478197422|0.012177942539388323|\n",
      "|[B000GQG7D2, B000NWQXBA, B000ILIJE0]                                    |[B000PC54NG]|1.0               |78.75912408759123|0.012252085264133458|\n",
      "|[B000GQG7D2, B000NWQXBA, B000ILIJE0]                                    |[B000NWU3I4]|0.9984871406959153|78.41103528463556|0.012233549582947173|\n",
      "|[B000GQG7D2, B000NWQXBA, B000ILIJE0]                                    |[B000GQG5MA]|0.9591527987897126|78.52244839864187|0.0117516218721038  |\n",
      "|[B000GQG7D2, B000NWQXBA, B000ILIJE0]                                    |[B000NDSX6C]|0.9319213313161876|78.31332682945221|0.011417979610750695|\n",
      "|[B000NDSX6C, B000GQG7D2, B000PC54NG, B000NWU3I4, B000ILIJE0]            |[B000GQG5MA]|0.9642276422764228|78.93790789197725|0.010991658943466173|\n",
      "|[B000NDSX6C, B000GQG7D2, B000PC54NG, B000NWU3I4, B000ILIJE0]            |[B000H9R1Q0]|0.9951219512195122|79.18411396503346|0.01134383688600556 |\n",
      "|[B000NDSX6C, B000GQG7D2, B000PC54NG, B000NWU3I4, B000ILIJE0]            |[B000Q032UY]|0.9951219512195122|79.18411396503346|0.01134383688600556 |\n",
      "|[B000NDSX6C, B000GQG7D2, B000PC54NG, B000NWU3I4, B000ILIJE0]            |[B000NWQXBA]|1.0               |78.98975109809663|0.011399443929564412|\n",
      "|[B000GQG5MA, B000ILIJE0]                                                |[B000PC54NG]|0.9954407294832827|78.4000399352162 |0.012140871177015755|\n",
      "|[B000GQG5MA, B000ILIJE0]                                                |[B000H9R1Q0]|0.986322188449848 |78.48389685378953|0.012029657089898053|\n",
      "|[B000GQG5MA, B000ILIJE0]                                                |[B000Q032UY]|0.986322188449848 |78.48389685378953|0.012029657089898053|\n",
      "+------------------------------------------------------------------------+------------+------------------+-----------------+--------------------+\n",
      "only showing top 20 rows\n",
      "\n",
      "Number of rows of Association Rules: 2295\n"
     ]
    }
   ],
   "source": [
    "print(\"Association Rules:\")\n",
    "model.associationRules.show(truncate=False)\n",
    "\n",
    "# Count number of Association Rules\n",
    "num_association_rules = model.associationRules.count()\n",
    "print(f\"Number of rows of Association Rules: {num_association_rules}\")"
   ]
  },
  {
   "cell_type": "markdown",
   "id": "0eaa35f8-a718-4ce8-b20f-1881b1f3bac1",
   "metadata": {},
   "source": [
    "- Considering association rules with antecedent and precedent a single book"
   ]
  },
  {
   "cell_type": "code",
   "execution_count": null,
   "id": "3be86e41-b31d-458d-8943-34a186b24621",
   "metadata": {},
   "outputs": [],
   "source": [
    "association_rules = model.associationRules\n",
    "\n",
    "association_rules_single = association_rules.withColumn(\n",
    "    \"antecedent_single\", \n",
    "    F.explode(association_rules.antecedent)\n",
    ").withColumn(\n",
    "    \"consequent_single\", \n",
    "    F.explode(association_rules.consequent)\n",
    ")\n",
    "\n",
    "association_rules_single.select(\"antecedent_single\", \"consequent_single\", \"confidence\", \"lift\", \"support\").show(truncate=False)\n"
   ]
  },
  {
   "cell_type": "code",
   "execution_count": null,
   "id": "8a193e9b-8840-4921-8671-13a69b99ba95",
   "metadata": {},
   "outputs": [],
   "source": [
    "######################################àà"
   ]
  },
  {
   "cell_type": "code",
   "execution_count": 48,
   "id": "c7bb7228-f863-4f7f-9350-3cfb5bf21e6f",
   "metadata": {},
   "outputs": [],
   "source": [
    "#A PRIORI ALGORITHMS "
   ]
  },
  {
   "cell_type": "code",
   "execution_count": 49,
   "id": "5f5eefcf-4598-44d0-9e38-8016c8aa4157",
   "metadata": {},
   "outputs": [],
   "source": [
    "#!pip install mlxtend"
   ]
  },
  {
   "cell_type": "code",
   "execution_count": 50,
   "id": "0edeceda-6343-45d3-98e7-1176fbcb4fe6",
   "metadata": {},
   "outputs": [],
   "source": [
    "# Raggruppare i libri per ogni utente\n",
    "transactions = df_filtered.groupBy(\"User_id\").agg(collect_set(\"Id\").alias(\"books\"))"
   ]
  },
  {
   "cell_type": "code",
   "execution_count": 51,
   "id": "06aecb69-01dc-4136-bd49-31481f3a4314",
   "metadata": {},
   "outputs": [],
   "source": [
    "from pyspark.sql import SparkSession\n",
    "from pyspark.sql.functions import collect_set\n",
    "from mlxtend.frequent_patterns import apriori, association_rules\n",
    "import pandas as pd"
   ]
  },
  {
   "cell_type": "code",
   "execution_count": 52,
   "id": "c64c68fb-7bbc-427b-8d94-bddf35bcc6b5",
   "metadata": {},
   "outputs": [],
   "source": [
    "pandas_df = transactions.toPandas()"
   ]
  },
  {
   "cell_type": "code",
   "execution_count": 53,
   "id": "56475785-223e-455e-b831-04dea1b92a9d",
   "metadata": {},
   "outputs": [
    {
     "data": {
      "text/html": [
       "<div>\n",
       "<style scoped>\n",
       "    .dataframe tbody tr th:only-of-type {\n",
       "        vertical-align: middle;\n",
       "    }\n",
       "\n",
       "    .dataframe tbody tr th {\n",
       "        vertical-align: top;\n",
       "    }\n",
       "\n",
       "    .dataframe thead th {\n",
       "        text-align: right;\n",
       "    }\n",
       "</style>\n",
       "<table border=\"1\" class=\"dataframe\">\n",
       "  <thead>\n",
       "    <tr style=\"text-align: right;\">\n",
       "      <th></th>\n",
       "      <th>User_id</th>\n",
       "      <th>books</th>\n",
       "    </tr>\n",
       "  </thead>\n",
       "  <tbody>\n",
       "    <tr>\n",
       "      <th>0</th>\n",
       "      <td>A0236983QUCQMORABO03</td>\n",
       "      <td>[1587888432, 1587888408, 1593352077]</td>\n",
       "    </tr>\n",
       "    <tr>\n",
       "      <th>1</th>\n",
       "      <td>A025268923L497N34PUMH</td>\n",
       "      <td>[B000P0UDX4, B00005UVH9, B0006IU3EE]</td>\n",
       "    </tr>\n",
       "    <tr>\n",
       "      <th>2</th>\n",
       "      <td>A07084061WTSSXN6VLV92</td>\n",
       "      <td>[0808510002, B000Q34B8I, 0521639522, B000FC1BY...</td>\n",
       "    </tr>\n",
       "    <tr>\n",
       "      <th>3</th>\n",
       "      <td>A100Q4BGPV187I</td>\n",
       "      <td>[0743236017, 0743554884]</td>\n",
       "    </tr>\n",
       "    <tr>\n",
       "      <th>4</th>\n",
       "      <td>A100TQ7ZRE0W02</td>\n",
       "      <td>[0971237034, 0976325608, 0971237018, 0972800522]</td>\n",
       "    </tr>\n",
       "  </tbody>\n",
       "</table>\n",
       "</div>"
      ],
      "text/plain": [
       "                 User_id                                              books\n",
       "0   A0236983QUCQMORABO03               [1587888432, 1587888408, 1593352077]\n",
       "1  A025268923L497N34PUMH               [B000P0UDX4, B00005UVH9, B0006IU3EE]\n",
       "2  A07084061WTSSXN6VLV92  [0808510002, B000Q34B8I, 0521639522, B000FC1BY...\n",
       "3         A100Q4BGPV187I                           [0743236017, 0743554884]\n",
       "4         A100TQ7ZRE0W02   [0971237034, 0976325608, 0971237018, 0972800522]"
      ]
     },
     "execution_count": 53,
     "metadata": {},
     "output_type": "execute_result"
    }
   ],
   "source": [
    "pandas_df.head(5)"
   ]
  },
  {
   "cell_type": "code",
   "execution_count": 54,
   "id": "1b388702-defd-4621-9db6-f68649200520",
   "metadata": {},
   "outputs": [],
   "source": [
    "#!pip install scipy"
   ]
  },
  {
   "cell_type": "code",
   "execution_count": 55,
   "id": "233e59a1-4b45-4b99-b0e6-2684aba15b6c",
   "metadata": {},
   "outputs": [],
   "source": [
    "from scipy.sparse import lil_matrix"
   ]
  },
  {
   "cell_type": "code",
   "execution_count": 56,
   "id": "acec74e7-1068-4be6-b748-f57734461dd2",
   "metadata": {},
   "outputs": [],
   "source": [
    "# Crea una lista unica di libri\n",
    "unique_books = set(item for sublist in pandas_df[\"books\"] for item in sublist)\n",
    "\n",
    "# Creare una matrice sparsa\n",
    "book_index = {book: idx for idx, book in enumerate(unique_books)}  # Mappa tra libro e indice\n",
    "\n",
    "# Creiamo una matrice sparsa (Sparse Matrix) in formato LIL\n",
    "sparse_matrix = lil_matrix((len(pandas_df), len(unique_books)), dtype=bool)"
   ]
  },
  {
   "cell_type": "code",
   "execution_count": 57,
   "id": "ee470638-fc39-424d-bf08-d230203c38e4",
   "metadata": {},
   "outputs": [
    {
     "name": "stderr",
     "output_type": "stream",
     "text": [
      "C:\\Users\\melis\\AppData\\Local\\Temp\\ipykernel_688\\2631987355.py:8: FutureWarning: Allowing arbitrary scalar fill_value in SparseDtype is deprecated. In a future version, the fill_value must be a valid value for the SparseDtype.subtype.\n",
      "  encoded_df = pd.DataFrame.sparse.from_spmatrix(sparse_matrix, columns=book_index.keys())\n"
     ]
    }
   ],
   "source": [
    "# Popolare la matrice sparsa\n",
    "for row_idx, books in enumerate(pandas_df[\"books\"]):\n",
    "    for book in books:\n",
    "        col_idx = book_index[book]\n",
    "        sparse_matrix[row_idx, col_idx] = 1\n",
    "\n",
    "# Convertire la matrice sparsa in un DataFrame Pandas\n",
    "encoded_df = pd.DataFrame.sparse.from_spmatrix(sparse_matrix, columns=book_index.keys())\n"
   ]
  },
  {
   "cell_type": "code",
   "execution_count": 58,
   "id": "83bde140-e5a1-4bf1-ab5f-921f657aae32",
   "metadata": {},
   "outputs": [
    {
     "name": "stdout",
     "output_type": "stream",
     "text": [
      "Itemset frequenti:\n",
      "\n",
      "Regole di associazione:\n"
     ]
    },
    {
     "data": {
      "text/html": [
       "<div>\n",
       "<style scoped>\n",
       "    .dataframe tbody tr th:only-of-type {\n",
       "        vertical-align: middle;\n",
       "    }\n",
       "\n",
       "    .dataframe tbody tr th {\n",
       "        vertical-align: top;\n",
       "    }\n",
       "\n",
       "    .dataframe thead th {\n",
       "        text-align: right;\n",
       "    }\n",
       "</style>\n",
       "<table border=\"1\" class=\"dataframe\">\n",
       "  <thead>\n",
       "    <tr style=\"text-align: right;\">\n",
       "      <th></th>\n",
       "      <th>antecedents</th>\n",
       "      <th>consequents</th>\n",
       "      <th>support</th>\n",
       "      <th>confidence</th>\n",
       "      <th>lift</th>\n",
       "    </tr>\n",
       "  </thead>\n",
       "  <tbody>\n",
       "    <tr>\n",
       "      <th>0</th>\n",
       "      <td>(B000ILIJE0)</td>\n",
       "      <td>(B000NWU3I4)</td>\n",
       "      <td>0.012715</td>\n",
       "      <td>0.995646</td>\n",
       "      <td>78.187910</td>\n",
       "    </tr>\n",
       "    <tr>\n",
       "      <th>1</th>\n",
       "      <td>(B000NWU3I4)</td>\n",
       "      <td>(B000ILIJE0)</td>\n",
       "      <td>0.012715</td>\n",
       "      <td>0.998544</td>\n",
       "      <td>78.187910</td>\n",
       "    </tr>\n",
       "    <tr>\n",
       "      <th>2</th>\n",
       "      <td>(B000ILIJE0)</td>\n",
       "      <td>(B000NDSX6C)</td>\n",
       "      <td>0.011900</td>\n",
       "      <td>0.931785</td>\n",
       "      <td>78.301887</td>\n",
       "    </tr>\n",
       "    <tr>\n",
       "      <th>3</th>\n",
       "      <td>(B000NDSX6C)</td>\n",
       "      <td>(B000ILIJE0)</td>\n",
       "      <td>0.011900</td>\n",
       "      <td>1.000000</td>\n",
       "      <td>78.301887</td>\n",
       "    </tr>\n",
       "    <tr>\n",
       "      <th>4</th>\n",
       "      <td>(B000ILIJE0)</td>\n",
       "      <td>(B000GQG5MA)</td>\n",
       "      <td>0.012196</td>\n",
       "      <td>0.955007</td>\n",
       "      <td>78.183068</td>\n",
       "    </tr>\n",
       "    <tr>\n",
       "      <th>...</th>\n",
       "      <td>...</td>\n",
       "      <td>...</td>\n",
       "      <td>...</td>\n",
       "      <td>...</td>\n",
       "      <td>...</td>\n",
       "    </tr>\n",
       "    <tr>\n",
       "      <th>18655</th>\n",
       "      <td>(B000NDSX6C)</td>\n",
       "      <td>(B000Q032UY, B000ILIJE0, B000H9R1Q0, B000NWU3I...</td>\n",
       "      <td>0.010936</td>\n",
       "      <td>0.919003</td>\n",
       "      <td>78.823876</td>\n",
       "    </tr>\n",
       "    <tr>\n",
       "      <th>18656</th>\n",
       "      <td>(B000GQG5MA)</td>\n",
       "      <td>(B000Q032UY, B000ILIJE0, B000H9R1Q0, B000NWU3I...</td>\n",
       "      <td>0.010936</td>\n",
       "      <td>0.895296</td>\n",
       "      <td>78.923552</td>\n",
       "    </tr>\n",
       "    <tr>\n",
       "      <th>18657</th>\n",
       "      <td>(B000GQG7D2)</td>\n",
       "      <td>(B000Q032UY, B000ILIJE0, B000H9R1Q0, B000NWU3I...</td>\n",
       "      <td>0.010936</td>\n",
       "      <td>0.887218</td>\n",
       "      <td>78.726009</td>\n",
       "    </tr>\n",
       "    <tr>\n",
       "      <th>18658</th>\n",
       "      <td>(B000PC54NG)</td>\n",
       "      <td>(B000Q032UY, B000ILIJE0, B000H9R1Q0, B000NWU3I...</td>\n",
       "      <td>0.010936</td>\n",
       "      <td>0.861314</td>\n",
       "      <td>78.759124</td>\n",
       "    </tr>\n",
       "    <tr>\n",
       "      <th>18659</th>\n",
       "      <td>(B000NWQXBA)</td>\n",
       "      <td>(B000Q032UY, B000ILIJE0, B000H9R1Q0, B000NWU3I...</td>\n",
       "      <td>0.010936</td>\n",
       "      <td>0.863836</td>\n",
       "      <td>78.989751</td>\n",
       "    </tr>\n",
       "  </tbody>\n",
       "</table>\n",
       "<p>18660 rows × 5 columns</p>\n",
       "</div>"
      ],
      "text/plain": [
       "        antecedents                                        consequents  \\\n",
       "0      (B000ILIJE0)                                       (B000NWU3I4)   \n",
       "1      (B000NWU3I4)                                       (B000ILIJE0)   \n",
       "2      (B000ILIJE0)                                       (B000NDSX6C)   \n",
       "3      (B000NDSX6C)                                       (B000ILIJE0)   \n",
       "4      (B000ILIJE0)                                       (B000GQG5MA)   \n",
       "...             ...                                                ...   \n",
       "18655  (B000NDSX6C)  (B000Q032UY, B000ILIJE0, B000H9R1Q0, B000NWU3I...   \n",
       "18656  (B000GQG5MA)  (B000Q032UY, B000ILIJE0, B000H9R1Q0, B000NWU3I...   \n",
       "18657  (B000GQG7D2)  (B000Q032UY, B000ILIJE0, B000H9R1Q0, B000NWU3I...   \n",
       "18658  (B000PC54NG)  (B000Q032UY, B000ILIJE0, B000H9R1Q0, B000NWU3I...   \n",
       "18659  (B000NWQXBA)  (B000Q032UY, B000ILIJE0, B000H9R1Q0, B000NWU3I...   \n",
       "\n",
       "        support  confidence       lift  \n",
       "0      0.012715    0.995646  78.187910  \n",
       "1      0.012715    0.998544  78.187910  \n",
       "2      0.011900    0.931785  78.301887  \n",
       "3      0.011900    1.000000  78.301887  \n",
       "4      0.012196    0.955007  78.183068  \n",
       "...         ...         ...        ...  \n",
       "18655  0.010936    0.919003  78.823876  \n",
       "18656  0.010936    0.895296  78.923552  \n",
       "18657  0.010936    0.887218  78.726009  \n",
       "18658  0.010936    0.861314  78.759124  \n",
       "18659  0.010936    0.863836  78.989751  \n",
       "\n",
       "[18660 rows x 5 columns]"
      ]
     },
     "execution_count": 58,
     "metadata": {},
     "output_type": "execute_result"
    }
   ],
   "source": [
    "# Applicare l'algoritmo Apriori\n",
    "frequent_itemsets = apriori(encoded_df, min_support=0.01, use_colnames=True)\n",
    "\n",
    "# Generare le regole di associazione\n",
    "rules = association_rules(frequent_itemsets, metric=\"confidence\", min_threshold=0.2)\n",
    "\n",
    "# Stampare i risultati\n",
    "print(\"Itemset frequenti:\")\n",
    "frequent_itemsets\n",
    "\n",
    "print(\"\\nRegole di associazione:\")\n",
    "rules[['antecedents', 'consequents', 'support', 'confidence', 'lift']]"
   ]
  },
  {
   "cell_type": "code",
   "execution_count": null,
   "id": "7ca9b3a9-35de-4390-a773-837c1e6183d3",
   "metadata": {},
   "outputs": [],
   "source": [
    "# Chiude la sessione Spark\n",
    "#spark.stop()"
   ]
  },
  {
   "cell_type": "code",
   "execution_count": null,
   "id": "d8c9383f-1de3-4246-b1f2-84d3151ff38e",
   "metadata": {},
   "outputs": [],
   "source": []
  }
 ],
 "metadata": {
  "kernelspec": {
   "display_name": "Python 3 (ipykernel)",
   "language": "python",
   "name": "python3"
  },
  "language_info": {
   "codemirror_mode": {
    "name": "ipython",
    "version": 3
   },
   "file_extension": ".py",
   "mimetype": "text/x-python",
   "name": "python",
   "nbconvert_exporter": "python",
   "pygments_lexer": "ipython3",
   "version": "3.10.4"
  }
 },
 "nbformat": 4,
 "nbformat_minor": 5
}
