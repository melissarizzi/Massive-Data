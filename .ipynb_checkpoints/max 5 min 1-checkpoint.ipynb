{
 "cells": [
  {
   "cell_type": "markdown",
   "id": "763d2238-35cd-4998-bb8f-7c907af6818c",
   "metadata": {},
   "source": [
    "## MASSIVE ALGORITHMS"
   ]
  },
  {
   "cell_type": "markdown",
   "id": "fa12e9da-54f1-4dd0-bfbc-9682eaae02f1",
   "metadata": {},
   "source": [
    "### 1. Data Import"
   ]
  },
  {
   "cell_type": "code",
   "execution_count": 1,
   "id": "2a2f9470-ba56-462f-9829-388832253f32",
   "metadata": {},
   "outputs": [],
   "source": [
    "#import os\n",
    "#import zipfile"
   ]
  },
  {
   "cell_type": "code",
   "execution_count": 2,
   "id": "ec451398-739e-49be-8a9a-e76f18bdaa61",
   "metadata": {},
   "outputs": [],
   "source": [
    "#os.environ['KAGGLE_USERNAME'] = \"melissarizzi\"\n",
    "#os.environ['KAGGLE_KEY'] = \"3ed913e7329a3117a254e67179c0f8bb\""
   ]
  },
  {
   "cell_type": "code",
   "execution_count": 3,
   "id": "0e692ed4-ac60-4982-90dc-48ab6dd3797b",
   "metadata": {},
   "outputs": [],
   "source": [
    "#!pip install kaggle"
   ]
  },
  {
   "cell_type": "code",
   "execution_count": 4,
   "id": "a2d6b5c9-0837-4d38-a26c-7afc7acdf129",
   "metadata": {},
   "outputs": [],
   "source": [
    "#!kaggle datasets download -d mohamedbakhet/amazon-books-reviews"
   ]
  },
  {
   "cell_type": "code",
   "execution_count": 5,
   "id": "ff6576e7-9231-41bf-b56e-eb4c073650dc",
   "metadata": {},
   "outputs": [],
   "source": [
    "#with zipfile.ZipFile(\"amazon-books-reviews.zip\", 'r') as zip_ref:\n",
    "#    zip_ref.extractall(\"amazon_books_data\")"
   ]
  },
  {
   "cell_type": "markdown",
   "id": "0f666223-9b9b-48fb-b264-9e895cddc5d4",
   "metadata": {},
   "source": [
    "### 2. Data PreProcessing"
   ]
  },
  {
   "cell_type": "code",
   "execution_count": 1,
   "id": "8516ec6a-2fc2-45db-8a19-29787ca5437b",
   "metadata": {},
   "outputs": [],
   "source": [
    "from pyspark.sql import SparkSession"
   ]
  },
  {
   "cell_type": "code",
   "execution_count": 2,
   "id": "7fedb1a1-5a11-482a-982a-e2b4794efee3",
   "metadata": {},
   "outputs": [],
   "source": [
    "spark = SparkSession.builder.appName(\"MapReduce\").getOrCreate()"
   ]
  },
  {
   "cell_type": "code",
   "execution_count": 3,
   "id": "ff4170ba-faf9-427d-8cd6-37d6e11af3af",
   "metadata": {},
   "outputs": [],
   "source": [
    "data = spark.read.csv(\"amazon_books_data/Books_rating.csv\", header=True, inferSchema=True)"
   ]
  },
  {
   "cell_type": "code",
   "execution_count": 4,
   "id": "66b7cebc-910d-41e3-83bd-f1fc0218609f",
   "metadata": {},
   "outputs": [
    {
     "name": "stdout",
     "output_type": "stream",
     "text": [
      "+----------+--------------------+-----+--------------+--------------------+------------------+------------+-----------+--------------------+--------------------+\n",
      "|        Id|               Title|Price|       User_id|         profileName|review/helpfulness|review/score|review/time|      review/summary|         review/text|\n",
      "+----------+--------------------+-----+--------------+--------------------+------------------+------------+-----------+--------------------+--------------------+\n",
      "|1882931173|Its Only Art If I...| NULL| AVCGYZL8FQQTD|\"Jim of Oz \"\"jim-...|               7/7|         4.0|  940636800|Nice collection o...|This is only for ...|\n",
      "|0826414346|Dr. Seuss: Americ...| NULL|A30TK6U7DNS82R|       Kevin Killian|             10/10|         5.0| 1095724800|   Really Enjoyed It|I don't care much...|\n",
      "|0826414346|Dr. Seuss: Americ...| NULL|A3UH4UZ4RSVO82|        John Granger|             10/11|         5.0| 1078790400|Essential for eve...|\"If people become...|\n",
      "|0826414346|Dr. Seuss: Americ...| NULL|A2MVUWT453QH61|\"Roy E. Perry \"\"a...|               7/7|         4.0| 1090713600|Phlip Nel gives s...|Theodore Seuss Ge...|\n",
      "|0826414346|Dr. Seuss: Americ...| NULL|A22X4XUPKF66MR|\"D. H. Richards \"...|               3/3|         4.0| 1107993600|Good academic ove...|\"Philip Nel - Dr....|\n",
      "+----------+--------------------+-----+--------------+--------------------+------------------+------------+-----------+--------------------+--------------------+\n",
      "only showing top 5 rows\n",
      "\n"
     ]
    }
   ],
   "source": [
    "data.show(5)"
   ]
  },
  {
   "cell_type": "code",
   "execution_count": 5,
   "id": "89825f6b-49b7-441f-99f4-b6c2e8312289",
   "metadata": {},
   "outputs": [],
   "source": [
    "df = data.select(\"Id\", 'Title', \"User_id\", \"review/score\",'review/text').withColumnRenamed(\"review/score\", \"score\")"
   ]
  },
  {
   "cell_type": "code",
   "execution_count": 6,
   "id": "63e06c4c-a53f-4961-af34-e73b25db1de2",
   "metadata": {},
   "outputs": [
    {
     "name": "stdout",
     "output_type": "stream",
     "text": [
      "+----------+--------------------+--------------+-----+--------------------+\n",
      "|        Id|               Title|       User_id|score|         review/text|\n",
      "+----------+--------------------+--------------+-----+--------------------+\n",
      "|1882931173|Its Only Art If I...| AVCGYZL8FQQTD|  4.0|This is only for ...|\n",
      "|0826414346|Dr. Seuss: Americ...|A30TK6U7DNS82R|  5.0|I don't care much...|\n",
      "|0826414346|Dr. Seuss: Americ...|A3UH4UZ4RSVO82|  5.0|\"If people become...|\n",
      "|0826414346|Dr. Seuss: Americ...|A2MVUWT453QH61|  4.0|Theodore Seuss Ge...|\n",
      "|0826414346|Dr. Seuss: Americ...|A22X4XUPKF66MR|  4.0|\"Philip Nel - Dr....|\n",
      "|0826414346|Dr. Seuss: Americ...|A2F6NONFUDB6UK|  4.0|\"\"\"Dr. Seuss: Ame...|\n",
      "|0826414346|Dr. Seuss: Americ...|A14OJS0VWMOSWO|  5.0|Theodor Seuss Gie...|\n",
      "|0826414346|Dr. Seuss: Americ...|A2RSSXTDZDUSH4|  5.0|\"When I recieved ...|\n",
      "|0826414346|Dr. Seuss: Americ...|A25MD5I2GUIW6W|  5.0|\"Trams (or any pu...|\n",
      "|0826414346|Dr. Seuss: Americ...|A3VA4XFS5WNJO3|  4.0|As far as I am aw...|\n",
      "|0829814000|Wonderful Worship...| AZ0IOBU20TBOP|  5.0|I just finished t...|\n",
      "|0829814000|Wonderful Worship...|A373VVEU6Z9M0N|  5.0|\"Many small churc...|\n",
      "|0829814000|Wonderful Worship...| AGKGOH65VTRR4|  5.0|I just finished r...|\n",
      "|0829814000|Wonderful Worship...| A3OQWLU31BU1Y|  5.0|\"I hadn't been a ...|\n",
      "|0595344550|Whispers of the W...|A3Q12RK71N74LB|  1.0|I bought this boo...|\n",
      "|0595344550|Whispers of the W...|A1E9M6APK30ZAU|  4.0|\"I have to admit,...|\n",
      "|0595344550|Whispers of the W...| AUR0VA5H0C66C|  1.0|\"This is a self-p...|\n",
      "|0595344550|Whispers of the W...|A1YLDZ3VHR6QPZ|  5.0|When I first read...|\n",
      "|0595344550|Whispers of the W...| ACO23CG8K8T77|  5.0|I read the review...|\n",
      "|0595344550|Whispers of the W...|A1VK81CRRC7MLM|  5.0|\"I really enjoyed...|\n",
      "+----------+--------------------+--------------+-----+--------------------+\n",
      "only showing top 20 rows\n",
      "\n"
     ]
    }
   ],
   "source": [
    "df.show()"
   ]
  },
  {
   "cell_type": "code",
   "execution_count": 7,
   "id": "4aba7801-26bb-4ede-b4e0-9d8b86872faf",
   "metadata": {},
   "outputs": [
    {
     "name": "stdout",
     "output_type": "stream",
     "text": [
      "root\n",
      " |-- Id: string (nullable = true)\n",
      " |-- Title: string (nullable = true)\n",
      " |-- User_id: string (nullable = true)\n",
      " |-- score: string (nullable = true)\n",
      " |-- review/text: string (nullable = true)\n",
      "\n"
     ]
    }
   ],
   "source": [
    "df.printSchema()"
   ]
  },
  {
   "cell_type": "code",
   "execution_count": 8,
   "id": "b338f85d-630b-4d4f-8bc8-2c0d7bc843c8",
   "metadata": {},
   "outputs": [
    {
     "name": "stdout",
     "output_type": "stream",
     "text": [
      "root\n",
      " |-- Id: string (nullable = true)\n",
      " |-- Title: string (nullable = true)\n",
      " |-- User_id: string (nullable = true)\n",
      " |-- score: double (nullable = true)\n",
      " |-- review/text: string (nullable = true)\n",
      "\n"
     ]
    }
   ],
   "source": [
    "from pyspark.sql.functions import col\n",
    "from pyspark.sql.types import DoubleType\n",
    "\n",
    "df = df.withColumn(\"score\", col(\"score\").cast(DoubleType()))\n",
    "df.printSchema()"
   ]
  },
  {
   "cell_type": "code",
   "execution_count": 10,
   "id": "0f19f6eb-d07a-488c-a051-daec53e43aff",
   "metadata": {},
   "outputs": [
    {
     "name": "stdout",
     "output_type": "stream",
     "text": [
      "+---------+----------+\n",
      "|min_score| max_score|\n",
      "+---------+----------+\n",
      "|      1.0|1.295568E9|\n",
      "+---------+----------+\n",
      "\n"
     ]
    }
   ],
   "source": [
    "from pyspark.sql.functions import min, max\n",
    "\n",
    "df.select(min(col(\"score\")).alias(\"min_score\"), max(col(\"score\")).alias(\"max_score\")).show()"
   ]
  },
  {
   "cell_type": "code",
   "execution_count": 11,
   "id": "65e6c255-85cf-4bcb-a75d-3bcbd8a65d67",
   "metadata": {},
   "outputs": [
    {
     "name": "stdout",
     "output_type": "stream",
     "text": [
      "+-----------+\n",
      "|      score|\n",
      "+-----------+\n",
      "|        1.0|\n",
      "|        4.0|\n",
      "|      19.95|\n",
      "|       NULL|\n",
      "|        3.0|\n",
      "|        2.0|\n",
      "|        5.0|\n",
      "|      327.0|\n",
      "| 1.295568E9|\n",
      "|1.2089952E9|\n",
      "|  1.21176E9|\n",
      "+-----------+\n",
      "\n"
     ]
    }
   ],
   "source": [
    "df.select(\"score\").distinct().show(100)"
   ]
  },
  {
   "cell_type": "code",
   "execution_count": 12,
   "id": "55593ded-7fa4-402a-b75c-e813567c3987",
   "metadata": {},
   "outputs": [
    {
     "name": "stdout",
     "output_type": "stream",
     "text": [
      "+---------+---------+\n",
      "|min_score|max_score|\n",
      "+---------+---------+\n",
      "|      1.0|      5.0|\n",
      "+---------+---------+\n",
      "\n"
     ]
    }
   ],
   "source": [
    "df = df.filter((col(\"score\") >= 1) & (col(\"score\") <= 5))\n",
    "df.select(min(\"score\").alias(\"min_score\"), max(\"score\").alias(\"max_score\")).show()"
   ]
  },
  {
   "cell_type": "markdown",
   "id": "045d1899-4dea-41f1-ac47-5a885e93d370",
   "metadata": {},
   "source": [
    "#### 2.1 Missing data"
   ]
  },
  {
   "cell_type": "code",
   "execution_count": 32,
   "id": "178c2f35-40a7-4a64-9e64-11634befd3c2",
   "metadata": {},
   "outputs": [
    {
     "name": "stdout",
     "output_type": "stream",
     "text": [
      "+----------+--------------------+--------------+-----+--------------------+\n",
      "|        Id|               Title|       User_id|score|         review/text|\n",
      "+----------+--------------------+--------------+-----+--------------------+\n",
      "|1882931173|Its Only Art If I...| AVCGYZL8FQQTD|  4.0|This is only for ...|\n",
      "|0826414346|Dr. Seuss: Americ...|A30TK6U7DNS82R|  5.0|I don't care much...|\n",
      "|0826414346|Dr. Seuss: Americ...|A3UH4UZ4RSVO82|  5.0|\"If people become...|\n",
      "|0826414346|Dr. Seuss: Americ...|A2MVUWT453QH61|  4.0|Theodore Seuss Ge...|\n",
      "|0826414346|Dr. Seuss: Americ...|A22X4XUPKF66MR|  4.0|\"Philip Nel - Dr....|\n",
      "|0826414346|Dr. Seuss: Americ...|A2F6NONFUDB6UK|  4.0|\"\"\"Dr. Seuss: Ame...|\n",
      "|0826414346|Dr. Seuss: Americ...|A14OJS0VWMOSWO|  5.0|Theodor Seuss Gie...|\n",
      "|0826414346|Dr. Seuss: Americ...|A2RSSXTDZDUSH4|  5.0|\"When I recieved ...|\n",
      "|0826414346|Dr. Seuss: Americ...|A25MD5I2GUIW6W|  5.0|\"Trams (or any pu...|\n",
      "|0826414346|Dr. Seuss: Americ...|A3VA4XFS5WNJO3|  4.0|As far as I am aw...|\n",
      "|0829814000|Wonderful Worship...| AZ0IOBU20TBOP|  5.0|I just finished t...|\n",
      "|0829814000|Wonderful Worship...|A373VVEU6Z9M0N|  5.0|\"Many small churc...|\n",
      "|0829814000|Wonderful Worship...| AGKGOH65VTRR4|  5.0|I just finished r...|\n",
      "|0829814000|Wonderful Worship...| A3OQWLU31BU1Y|  5.0|\"I hadn't been a ...|\n",
      "|0595344550|Whispers of the W...|A3Q12RK71N74LB|  1.0|I bought this boo...|\n",
      "|0595344550|Whispers of the W...|A1E9M6APK30ZAU|  4.0|\"I have to admit,...|\n",
      "|0595344550|Whispers of the W...| AUR0VA5H0C66C|  1.0|\"This is a self-p...|\n",
      "|0595344550|Whispers of the W...|A1YLDZ3VHR6QPZ|  5.0|When I first read...|\n",
      "|0595344550|Whispers of the W...| ACO23CG8K8T77|  5.0|I read the review...|\n",
      "|0595344550|Whispers of the W...|A1VK81CRRC7MLM|  5.0|\"I really enjoyed...|\n",
      "+----------+--------------------+--------------+-----+--------------------+\n",
      "only showing top 20 rows\n",
      "\n"
     ]
    }
   ],
   "source": [
    "df_clean = df.dropna()\n",
    "\n",
    "# Mostra il risultato\n",
    "df_clean.show()\n"
   ]
  },
  {
   "cell_type": "markdown",
   "id": "6ddd56cd-47dd-454c-8222-1b69d34c40c0",
   "metadata": {},
   "source": [
    "What stands out right away, especially for the purpose of our analysis, is that there are many missing values in the User_id variable. One possible reason for this could be that users who leave reviews but are not registered don’t have a user ID. Our goal is to identify baskets of items purchased by the same users, but without the user ID, this analysis cannot be conducted. We explored the possibility of using profile names instead, by assigning a dummy ID to users with the same name. However, we were aware that this might not provide accurate results due to potential name duplication. Moreover, there were more missing profile names than missing user IDs, which made this solution unfeasible. After considering our options, we ultimately decided to **drop the missing values**, as we couldn’t identify a suitable method to replace them."
   ]
  },
  {
   "cell_type": "code",
   "execution_count": 33,
   "id": "792236e6-bcae-4999-9c02-3a79a618e555",
   "metadata": {},
   "outputs": [
    {
     "name": "stdout",
     "output_type": "stream",
     "text": [
      "Numero di righe: 2981912\n",
      "Numero di righe post cleaning: 2420235\n",
      "Numero di colonne: 5\n",
      "Numero di colonne post cleaning : 5\n"
     ]
    }
   ],
   "source": [
    "# Ottieni il numero di righe\n",
    "num_righe1 = df.count()\n",
    "num_righe = df_clean.count()\n",
    "print(f\"Numero di righe: {num_righe1}\")\n",
    "print(f\"Numero di righe post cleaning: {num_righe}\")\n",
    "\n",
    "# Ottieni il numero di colonne\n",
    "num_colonne = len(df_clean.columns)\n",
    "num_colonne1 = len(df.columns)\n",
    "# Mostra le dimensioni del dataset\n",
    "print(f\"Numero di colonne: {num_colonne1}\")\n",
    "print(f\"Numero di colonne post cleaning : {num_colonne}\")\n"
   ]
  },
  {
   "cell_type": "markdown",
   "id": "8d8eca9a-a340-44b9-8721-8f50635c574f",
   "metadata": {},
   "source": [
    "#### 2.2 Data Duplicates"
   ]
  },
  {
   "cell_type": "code",
   "execution_count": 34,
   "id": "b58a5aca-1373-48a0-825a-1fc589a19843",
   "metadata": {},
   "outputs": [
    {
     "name": "stdout",
     "output_type": "stream",
     "text": [
      "Numero di righe post no duplicati: 2398220\n"
     ]
    }
   ],
   "source": [
    "# Rimuovi righe duplicate su tutte le colonne\n",
    "df_clean = df_clean.dropDuplicates()\n",
    "\n",
    "num_righe2 = df_clean.count()\n",
    "print(f\"Numero di righe post no duplicati: {num_righe2}\")"
   ]
  },
  {
   "cell_type": "markdown",
   "id": "1db8a113-16f5-4ab7-a08d-38ebc3257acb",
   "metadata": {},
   "source": [
    "Up until now, we’ve performed a general cleaning of the dataset. From here on, we’ll focus exclusively on the three columns that are relevant to our analysis (Id, User_id, and score), forming a new dataset: df_short."
   ]
  },
  {
   "cell_type": "code",
   "execution_count": 35,
   "id": "1bd6df60-8224-4062-8083-f351ae6564c7",
   "metadata": {},
   "outputs": [],
   "source": [
    "# Remove useless columns\n",
    "df_short = df_clean.select(\"Id\", \"User_id\",\"score\")"
   ]
  },
  {
   "cell_type": "code",
   "execution_count": 36,
   "id": "5600280e-a6c5-4e8f-85ac-89c8ce0697b4",
   "metadata": {},
   "outputs": [
    {
     "name": "stdout",
     "output_type": "stream",
     "text": [
      "+----------+--------------+-----+\n",
      "|        Id|       User_id|score|\n",
      "+----------+--------------+-----+\n",
      "|0809080699|A29LG535LJRITI|  5.0|\n",
      "|0671551345|A3CLKX8W3F1L1D|  3.0|\n",
      "|0671551345| A4FX5YCJA630V|  3.0|\n",
      "|B000MCKQRS| A1237ROTM7659|  4.0|\n",
      "|B000890HE2|A2JYUAIAUYXCQN|  5.0|\n",
      "+----------+--------------+-----+\n",
      "only showing top 5 rows\n",
      "\n"
     ]
    }
   ],
   "source": [
    "df_short.show(5)"
   ]
  },
  {
   "cell_type": "code",
   "execution_count": 37,
   "id": "36ce2b8f-8fea-4242-bfcd-79b4c2cf08d4",
   "metadata": {},
   "outputs": [],
   "source": [
    "# Check duplicated rows for the three considered variables\n",
    "df_short= df_short.dropDuplicates()"
   ]
  },
  {
   "cell_type": "code",
   "execution_count": 38,
   "id": "7088e5e5-defb-4e04-a380-8ba5402126d1",
   "metadata": {},
   "outputs": [
    {
     "name": "stdout",
     "output_type": "stream",
     "text": [
      "+----------+--------------+-----+\n",
      "|        Id|       User_id|count|\n",
      "+----------+--------------+-----+\n",
      "|0451518713|A2TZZQUHX0PVN4|    2|\n",
      "|B000K0DB8I|A2OJH3S0SUNVGE|    2|\n",
      "|B000Q56SO6|A23LDF7TIIKTCY|    2|\n",
      "|B000GSKM2M|A1RJD10TTI568L|    2|\n",
      "|B0006W43TQ| A81F0YW06W5VQ|    2|\n",
      "|B000PEC9LO| AESOLJBO0EK6M|    2|\n",
      "|185723569X|A2E87TFJLKP87Y|    2|\n",
      "|B000NGSJ36| ATFXX7NGPHA7N|    2|\n",
      "|0451521196|A3PWVRILWO2SCH|    2|\n",
      "|0613175719|A1FDV3WPOHREY9|    2|\n",
      "|B000JGUH3A|A1DVZR8EYXFK8K|    2|\n",
      "|B000ILIJE0| ACFOTAO0A7E3Y|    2|\n",
      "|B000JPCAFO| AMG5L1IFX5BNB|    2|\n",
      "|1558321527| A2C27IQUH9N1Z|    2|\n",
      "|B000N6R3FG|A2QAOP52OEB5EV|    2|\n",
      "|1594862265|A33FY1547CZHHF|    2|\n",
      "|0791051323| A5O5SDU4HCYPX|    2|\n",
      "|0774033096|A1D2C0WDCSHUWZ|    2|\n",
      "|B000MTRTTE|A2FTHCGH06O4Y5|    2|\n",
      "|1581127197|A3I8IYYQEC39T9|    2|\n",
      "+----------+--------------+-----+\n",
      "only showing top 20 rows\n",
      "\n"
     ]
    }
   ],
   "source": [
    "from pyspark.sql import functions as F\n",
    "\n",
    "# Trova i duplicati basati su Id e User_id\n",
    "duplicati = df_short.groupBy(\"Id\", \"User_id\").count().filter(\"count > 1\")\n",
    "\n",
    "# Mostra i duplicati\n",
    "duplicati.show()\n"
   ]
  },
  {
   "cell_type": "code",
   "execution_count": 39,
   "id": "4695327d-85fe-4038-a0c8-3692f2dd5524",
   "metadata": {},
   "outputs": [
    {
     "name": "stdout",
     "output_type": "stream",
     "text": [
      "+----------+--------------+-----+----------+\n",
      "|        Id|       User_id|score|mean_score|\n",
      "+----------+--------------+-----+----------+\n",
      "|1597400602|A3DKP67DK28RUB|  5.0|       5.0|\n",
      "|B0007H4QBK|A3MVU8X8EC9VRT|  5.0|       5.0|\n",
      "|B0007H4QBK| AFP82QXWXAG2V|  5.0|       5.0|\n",
      "|B000MCKQRS|A1TQL7XMTVF4JG|  3.0|       3.0|\n",
      "|B000O3QCH8|A1T97PDD7JYCUA|  1.0|       1.0|\n",
      "+----------+--------------+-----+----------+\n",
      "only showing top 5 rows\n",
      "\n"
     ]
    }
   ],
   "source": [
    "from pyspark.sql import functions as F\n",
    "\n",
    "# Calcola la media del punteggio per ogni (Id, User_id)\n",
    "score_mean = df_short.groupBy('Id', 'User_id').agg(F.mean('score').alias('mean_score'))\n",
    "\n",
    "# Unisci la media calcolata al dataframe originale\n",
    "df_final = df_short.join(score_mean, on=['Id', 'User_id'], how='left')\n",
    "\n",
    "# Mostra i primi 5 record\n",
    "df_final.show(5)\n"
   ]
  },
  {
   "cell_type": "code",
   "execution_count": 40,
   "id": "0e6f1cb8-b266-40e3-acc3-1eb27016eeb0",
   "metadata": {},
   "outputs": [],
   "source": [
    "df_final = df_final.select('Id','User_id', 'mean_score')"
   ]
  },
  {
   "cell_type": "code",
   "execution_count": 41,
   "id": "81f71a03-e910-4b29-866b-5255cff87000",
   "metadata": {},
   "outputs": [],
   "source": [
    "df_final = df_final.dropDuplicates()"
   ]
  },
  {
   "cell_type": "code",
   "execution_count": 42,
   "id": "bdc2a65b-1f61-4499-b32b-df5be4dae927",
   "metadata": {},
   "outputs": [
    {
     "name": "stdout",
     "output_type": "stream",
     "text": [
      "+----------+--------------+----------+\n",
      "|        Id|       User_id|mean_score|\n",
      "+----------+--------------+----------+\n",
      "|0001047604|A1ZQ1LUQ9R6JHZ|       5.0|\n",
      "|0001047655|A12N9YU5K516JF|       4.0|\n",
      "|0001047655|A1EB4FLIXNX0LK|       2.0|\n",
      "|0001047655|A1NS4974T51EU1|       5.0|\n",
      "|0001047655|A2C8IVS3AEH96R|       1.0|\n",
      "+----------+--------------+----------+\n",
      "only showing top 5 rows\n",
      "\n"
     ]
    }
   ],
   "source": [
    "df_final.show(5)"
   ]
  },
  {
   "cell_type": "markdown",
   "id": "8433c56b-d689-47f5-9909-fef27f4ccb77",
   "metadata": {},
   "source": [
    "#### 2.3 Rating means"
   ]
  },
  {
   "cell_type": "code",
   "execution_count": 43,
   "id": "7130f1ee-67b2-4568-ae8c-ec4b3cca4e2d",
   "metadata": {},
   "outputs": [
    {
     "name": "stdout",
     "output_type": "stream",
     "text": [
      "+---------+---------+\n",
      "|min_score|max_score|\n",
      "+---------+---------+\n",
      "|      1.0|      5.0|\n",
      "+---------+---------+\n",
      "\n"
     ]
    }
   ],
   "source": [
    "# Check integrity of data\n",
    "from pyspark.sql.functions import min, max\n",
    "\n",
    "df.select(min(\"score\").alias(\"min_score\"), max(\"score\").alias(\"max_score\")).show()"
   ]
  },
  {
   "cell_type": "markdown",
   "id": "f5bc304d-8f56-4051-815d-49ff13645eb9",
   "metadata": {},
   "source": [
    "We want to calculate the average score for each book (Id) to see if consistency is maintained after creating the subsample."
   ]
  },
  {
   "cell_type": "markdown",
   "id": "a3d55063-645d-49bf-a292-18707abbb343",
   "metadata": {},
   "source": [
    "- Overall mean score:"
   ]
  },
  {
   "cell_type": "code",
   "execution_count": 44,
   "id": "165372fe-dcaa-47ce-a264-3bbf09c6d651",
   "metadata": {},
   "outputs": [
    {
     "name": "stdout",
     "output_type": "stream",
     "text": [
      "La media della colonna 'score' è: 4.22386130919595\n"
     ]
    }
   ],
   "source": [
    "# Converti la colonna 'score' in tipo numerico (Double)\n",
    "df_final = df_final.withColumn(\"mean_score\", F.col(\"mean_score\").cast(\"double\"))\n",
    "\n",
    "# Calcola la media della colonna 'score'\n",
    "media_score = df_final.agg(F.avg(\"mean_score\")).collect()[0][0]\n",
    "\n",
    "# Stampa il risultato\n",
    "print(f\"La media della colonna 'score' è: {media_score}\")"
   ]
  },
  {
   "cell_type": "markdown",
   "id": "9dacaa7a-69df-4f0f-b974-35e01a859238",
   "metadata": {},
   "source": [
    "- Mean score for each item:"
   ]
  },
  {
   "cell_type": "code",
   "execution_count": 46,
   "id": "29ae5ae6-01ef-4f19-a09e-67c65d13c94e",
   "metadata": {},
   "outputs": [
    {
     "name": "stdout",
     "output_type": "stream",
     "text": [
      "+----------+------------------+\n",
      "|        Id|         avg_score|\n",
      "+----------+------------------+\n",
      "|0027861317|             4.625|\n",
      "|0028622480|               4.0|\n",
      "|0029267358|               4.0|\n",
      "|0060929081|              4.24|\n",
      "|0071409807|              3.75|\n",
      "|0132414074|               4.0|\n",
      "|0140187855|               4.5|\n",
      "|0140440488|4.2631578947368425|\n",
      "|0192801996|            4.3125|\n",
      "|0192892355|3.4285714285714284|\n",
      "|0195047672| 4.714285714285714|\n",
      "|0195142853|             4.875|\n",
      "|0198661886|               4.5|\n",
      "|0201180758| 4.615384615384615|\n",
      "|0201433206|               4.5|\n",
      "|0201700344|2.5714285714285716|\n",
      "|0271019441|               4.5|\n",
      "|0281054657|               4.4|\n",
      "|0300083238|            3.8125|\n",
      "|0304352616|               5.0|\n",
      "+----------+------------------+\n",
      "only showing top 20 rows\n",
      "\n"
     ]
    }
   ],
   "source": [
    "# Raggruppa per 'Id' e calcola la media della colonna 'score'\n",
    "score_per_id = df_final.groupBy(\"Id\").agg(F.avg(\"mean_score\").alias(\"avg_score\"))\n",
    "\n",
    "# Mostra il risultato\n",
    "score_per_id.show()"
   ]
  },
  {
   "cell_type": "code",
   "execution_count": 47,
   "id": "a1f45fa9-1ac1-4e42-a7d9-61c358cfc9f0",
   "metadata": {},
   "outputs": [
    {
     "name": "stdout",
     "output_type": "stream",
     "text": [
      "+---+---------+\n",
      "| Id|avg_score|\n",
      "+---+---------+\n",
      "+---+---------+\n",
      "\n"
     ]
    }
   ],
   "source": [
    "# Filtra gli Id con una media maggiore di 5\n",
    "score_per_id_above_5 = score_per_id.filter(F.col(\"avg_score\") > 5)\n",
    "\n",
    "# Mostra il risultato\n",
    "score_per_id_above_5.show()\n"
   ]
  }
 ],
 "metadata": {
  "kernelspec": {
   "display_name": "Python 3 (ipykernel)",
   "language": "python",
   "name": "python3"
  },
  "language_info": {
   "codemirror_mode": {
    "name": "ipython",
    "version": 3
   },
   "file_extension": ".py",
   "mimetype": "text/x-python",
   "name": "python",
   "nbconvert_exporter": "python",
   "pygments_lexer": "ipython3",
   "version": "3.12.6"
  }
 },
 "nbformat": 4,
 "nbformat_minor": 5
}
