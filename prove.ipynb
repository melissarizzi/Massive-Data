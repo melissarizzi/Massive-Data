{
 "cells": [
  {
   "cell_type": "code",
   "execution_count": 35,
   "id": "0816b802-8271-4fef-b817-df5ae99ce156",
   "metadata": {},
   "outputs": [],
   "source": [
    "#PROVE"
   ]
  },
  {
   "cell_type": "code",
   "execution_count": 36,
   "id": "c93fcb90-69a8-424f-a414-6678a10f3b98",
   "metadata": {},
   "outputs": [],
   "source": [
    "import pandas as pd"
   ]
  },
  {
   "cell_type": "code",
   "execution_count": 52,
   "id": "f922cc6f-dd93-4625-990d-ff965a87e616",
   "metadata": {},
   "outputs": [],
   "source": [
    "df = pd.read_csv('amazon_books_data/subsample.csv')"
   ]
  },
  {
   "cell_type": "code",
   "execution_count": 53,
   "id": "fabab659-da76-48a1-a8ef-a6fcebce73f6",
   "metadata": {},
   "outputs": [],
   "source": [
    "df = df.drop(['Price', 'profileName', 'review/helpfulness', 'review/time'] ,axis=1)"
   ]
  },
  {
   "cell_type": "code",
   "execution_count": 54,
   "id": "7bab707a-cc58-49b4-8c01-7f5c9e1b6ad2",
   "metadata": {},
   "outputs": [],
   "source": [
    "df_new = df.dropna()"
   ]
  },
  {
   "cell_type": "code",
   "execution_count": 55,
   "id": "11e557d5-e661-4c95-a54e-65970c58f806",
   "metadata": {},
   "outputs": [
    {
     "data": {
      "text/html": [
       "<div>\n",
       "<style scoped>\n",
       "    .dataframe tbody tr th:only-of-type {\n",
       "        vertical-align: middle;\n",
       "    }\n",
       "\n",
       "    .dataframe tbody tr th {\n",
       "        vertical-align: top;\n",
       "    }\n",
       "\n",
       "    .dataframe thead th {\n",
       "        text-align: right;\n",
       "    }\n",
       "</style>\n",
       "<table border=\"1\" class=\"dataframe\">\n",
       "  <thead>\n",
       "    <tr style=\"text-align: right;\">\n",
       "      <th></th>\n",
       "      <th>Id</th>\n",
       "      <th>Title</th>\n",
       "      <th>User_id</th>\n",
       "      <th>review/score</th>\n",
       "      <th>review/summary</th>\n",
       "      <th>review/text</th>\n",
       "    </tr>\n",
       "  </thead>\n",
       "  <tbody>\n",
       "    <tr>\n",
       "      <th>0</th>\n",
       "      <td>0791051323</td>\n",
       "      <td>Toni Morrison's Beloved (Modern Critical Inter...</td>\n",
       "      <td>NaN</td>\n",
       "      <td>5.0</td>\n",
       "      <td>Read and challenge yourself!!</td>\n",
       "      <td>This is, in my opinion, one of the most magnif...</td>\n",
       "    </tr>\n",
       "    <tr>\n",
       "      <th>1</th>\n",
       "      <td>B0006RF0ZM</td>\n",
       "      <td>A Painted house: A novel (The Oxford American)</td>\n",
       "      <td>AV15ETY1JJIGG</td>\n",
       "      <td>4.0</td>\n",
       "      <td>Cotton-picking good!</td>\n",
       "      <td>At the time I was reading, I thought, &amp;quot;Th...</td>\n",
       "    </tr>\n",
       "    <tr>\n",
       "      <th>2</th>\n",
       "      <td>B000JQXNSQ</td>\n",
       "      <td>ANIMAL FARM - A Fairy Story (Time Reading Prog...</td>\n",
       "      <td>A3DO2725BRHBEQ</td>\n",
       "      <td>5.0</td>\n",
       "      <td>awesome book</td>\n",
       "      <td>This story is brilliant yet simple and easy to...</td>\n",
       "    </tr>\n",
       "    <tr>\n",
       "      <th>3</th>\n",
       "      <td>B000JJMHEE</td>\n",
       "      <td>Little Me</td>\n",
       "      <td>A2G935GMRAUIRW</td>\n",
       "      <td>5.0</td>\n",
       "      <td>Dear Publisher- PLEASE Bring This One Back!</td>\n",
       "      <td>You think Patrick Dennis' 'Auntie Mame' is fun...</td>\n",
       "    </tr>\n",
       "    <tr>\n",
       "      <th>4</th>\n",
       "      <td>9684581149</td>\n",
       "      <td>El Clan Del Oso Cavernario/the Clan of the Cav...</td>\n",
       "      <td>NaN</td>\n",
       "      <td>5.0</td>\n",
       "      <td>great and fascinating book</td>\n",
       "      <td>the minutely description of the landscape, the...</td>\n",
       "    </tr>\n",
       "    <tr>\n",
       "      <th>...</th>\n",
       "      <td>...</td>\n",
       "      <td>...</td>\n",
       "      <td>...</td>\n",
       "      <td>...</td>\n",
       "      <td>...</td>\n",
       "      <td>...</td>\n",
       "    </tr>\n",
       "    <tr>\n",
       "      <th>4995</th>\n",
       "      <td>0819567507</td>\n",
       "      <td>The Red Gaze (Wesleyan Poetry Series)</td>\n",
       "      <td>A2ZOMCXGO82G7R</td>\n",
       "      <td>5.0</td>\n",
       "      <td>Precise nostalgic modernism</td>\n",
       "      <td>Guest offers us an eliptical vision of artisti...</td>\n",
       "    </tr>\n",
       "    <tr>\n",
       "      <th>4996</th>\n",
       "      <td>B000QAA98W</td>\n",
       "      <td>Stranger in a Strange Land</td>\n",
       "      <td>A2AHF3SGOI4NG3</td>\n",
       "      <td>3.0</td>\n",
       "      <td>Predictable. Dated. Not nearly as good as expe...</td>\n",
       "      <td>I've been reading hard SF since I was eight so...</td>\n",
       "    </tr>\n",
       "    <tr>\n",
       "      <th>4997</th>\n",
       "      <td>076191725X</td>\n",
       "      <td>The Art and Craft of Case Writing</td>\n",
       "      <td>A1DLDC7D76HCC6</td>\n",
       "      <td>5.0</td>\n",
       "      <td>A must for beginners</td>\n",
       "      <td>As a beginner in case writing I have found thi...</td>\n",
       "    </tr>\n",
       "    <tr>\n",
       "      <th>4998</th>\n",
       "      <td>B000PGTEVK</td>\n",
       "      <td>GIMP: When Life Deals You a Crappy Hand, You C...</td>\n",
       "      <td>A1W6X7G5255K39</td>\n",
       "      <td>5.0</td>\n",
       "      <td>Highly Recommended</td>\n",
       "      <td>A truly moving and inspirational story. In les...</td>\n",
       "    </tr>\n",
       "    <tr>\n",
       "      <th>4999</th>\n",
       "      <td>9993183709</td>\n",
       "      <td>A Wizard of Earthsea (The Earthsea Cycle, Book 1)</td>\n",
       "      <td>A1HYVS8CY7FASY</td>\n",
       "      <td>4.0</td>\n",
       "      <td>Earth, Sea, and Shadow</td>\n",
       "      <td>A Wizard of Earthsea by Ursula LeGuin begins t...</td>\n",
       "    </tr>\n",
       "  </tbody>\n",
       "</table>\n",
       "<p>5000 rows × 6 columns</p>\n",
       "</div>"
      ],
      "text/plain": [
       "              Id                                              Title  \\\n",
       "0     0791051323  Toni Morrison's Beloved (Modern Critical Inter...   \n",
       "1     B0006RF0ZM     A Painted house: A novel (The Oxford American)   \n",
       "2     B000JQXNSQ  ANIMAL FARM - A Fairy Story (Time Reading Prog...   \n",
       "3     B000JJMHEE                                          Little Me   \n",
       "4     9684581149  El Clan Del Oso Cavernario/the Clan of the Cav...   \n",
       "...          ...                                                ...   \n",
       "4995  0819567507              The Red Gaze (Wesleyan Poetry Series)   \n",
       "4996  B000QAA98W                         Stranger in a Strange Land   \n",
       "4997  076191725X                  The Art and Craft of Case Writing   \n",
       "4998  B000PGTEVK  GIMP: When Life Deals You a Crappy Hand, You C...   \n",
       "4999  9993183709  A Wizard of Earthsea (The Earthsea Cycle, Book 1)   \n",
       "\n",
       "             User_id  review/score  \\\n",
       "0                NaN           5.0   \n",
       "1      AV15ETY1JJIGG           4.0   \n",
       "2     A3DO2725BRHBEQ           5.0   \n",
       "3     A2G935GMRAUIRW           5.0   \n",
       "4                NaN           5.0   \n",
       "...              ...           ...   \n",
       "4995  A2ZOMCXGO82G7R           5.0   \n",
       "4996  A2AHF3SGOI4NG3           3.0   \n",
       "4997  A1DLDC7D76HCC6           5.0   \n",
       "4998  A1W6X7G5255K39           5.0   \n",
       "4999  A1HYVS8CY7FASY           4.0   \n",
       "\n",
       "                                         review/summary  \\\n",
       "0                         Read and challenge yourself!!   \n",
       "1                                  Cotton-picking good!   \n",
       "2                                          awesome book   \n",
       "3           Dear Publisher- PLEASE Bring This One Back!   \n",
       "4                            great and fascinating book   \n",
       "...                                                 ...   \n",
       "4995                        Precise nostalgic modernism   \n",
       "4996  Predictable. Dated. Not nearly as good as expe...   \n",
       "4997                               A must for beginners   \n",
       "4998                                 Highly Recommended   \n",
       "4999                             Earth, Sea, and Shadow   \n",
       "\n",
       "                                            review/text  \n",
       "0     This is, in my opinion, one of the most magnif...  \n",
       "1     At the time I was reading, I thought, &quot;Th...  \n",
       "2     This story is brilliant yet simple and easy to...  \n",
       "3     You think Patrick Dennis' 'Auntie Mame' is fun...  \n",
       "4     the minutely description of the landscape, the...  \n",
       "...                                                 ...  \n",
       "4995  Guest offers us an eliptical vision of artisti...  \n",
       "4996  I've been reading hard SF since I was eight so...  \n",
       "4997  As a beginner in case writing I have found thi...  \n",
       "4998  A truly moving and inspirational story. In les...  \n",
       "4999  A Wizard of Earthsea by Ursula LeGuin begins t...  \n",
       "\n",
       "[5000 rows x 6 columns]"
      ]
     },
     "execution_count": 55,
     "metadata": {},
     "output_type": "execute_result"
    }
   ],
   "source": [
    "df"
   ]
  },
  {
   "cell_type": "code",
   "execution_count": 59,
   "id": "a9883681-e4a3-461d-bce5-340bb2ad0ea7",
   "metadata": {},
   "outputs": [],
   "source": [
    "books_per_user = df_new.groupby('User_id')['Id'].count()"
   ]
  },
  {
   "cell_type": "code",
   "execution_count": 60,
   "id": "cce5b173-208c-4cf5-8563-e04baf822725",
   "metadata": {},
   "outputs": [
    {
     "data": {
      "text/plain": [
       "89"
      ]
     },
     "execution_count": 60,
     "metadata": {},
     "output_type": "execute_result"
    }
   ],
   "source": [
    "sum(books_per_user >1)"
   ]
  },
  {
   "cell_type": "code",
   "execution_count": 63,
   "id": "d5424c59-c494-456d-ab4a-f373f5a80313",
   "metadata": {},
   "outputs": [],
   "source": [
    "df_sorted = books_per_user.sort_values(ascending=False)"
   ]
  },
  {
   "cell_type": "code",
   "execution_count": 64,
   "id": "61646a1f-c65a-4997-aff2-72e29f0440e1",
   "metadata": {},
   "outputs": [
    {
     "data": {
      "text/plain": [
       "User_id\n",
       "A14OJS0VWMOSWO    13\n",
       "AFVQZQ8PW0L        5\n",
       "A2YXRT2XIJIO57     4\n",
       "A1X8VZWTOG8IS6     4\n",
       "A2VCGJLKGK2WJJ     4\n",
       "                  ..\n",
       "A29OSY4CSFSJ1L     1\n",
       "A29QFADBN3M0V4     1\n",
       "A29SX99TJV810      1\n",
       "A29T1J69I5SH2U     1\n",
       "AZYIHKBD3FZBI      1\n",
       "Name: Id, Length: 3949, dtype: int64"
      ]
     },
     "execution_count": 64,
     "metadata": {},
     "output_type": "execute_result"
    }
   ],
   "source": [
    "df_sorted"
   ]
  },
  {
   "cell_type": "code",
   "execution_count": null,
   "id": "16718f0f-c773-490d-b49f-8b89cc07a3aa",
   "metadata": {},
   "outputs": [],
   "source": []
  }
 ],
 "metadata": {
  "kernelspec": {
   "display_name": "Python 3 (ipykernel)",
   "language": "python",
   "name": "python3"
  },
  "language_info": {
   "codemirror_mode": {
    "name": "ipython",
    "version": 3
   },
   "file_extension": ".py",
   "mimetype": "text/x-python",
   "name": "python",
   "nbconvert_exporter": "python",
   "pygments_lexer": "ipython3",
   "version": "3.10.4"
  }
 },
 "nbformat": 4,
 "nbformat_minor": 5
}
