{
 "cells": [
  {
   "cell_type": "markdown",
   "id": "d7d6d54f-dae5-43b3-ad40-b7b201bd17d5",
   "metadata": {},
   "source": [
    "\n",
    "\n",
    "\n",
    "\n",
    "---"
   ]
  },
  {
   "cell_type": "markdown",
   "id": "763d2238-35cd-4998-bb8f-7c907af6818c",
   "metadata": {},
   "source": [
    "# MARKET-BASKET ANALYSIS"
   ]
  },
  {
   "cell_type": "markdown",
   "id": "89d58f04-d2e4-4e30-b041-e04f5ca4abeb",
   "metadata": {},
   "source": [
    "## Massive Algorithm \n",
    "### Data Science for Economics"
   ]
  },
  {
   "cell_type": "markdown",
   "id": "bb30d303-7b2d-4f77-9f60-7dfda5adc634",
   "metadata": {},
   "source": [
    "##### Angelica Longo, Melissa Rizzi"
   ]
  },
  {
   "cell_type": "markdown",
   "id": "1758f691-8d9b-44be-84c5-4e58d70505f3",
   "metadata": {},
   "source": [
    "The goal of this project is to implement a system for **detecting frequent itemsets**, commonly known as **market-basket analysis**.\n",
    "In this notebook, the detector treats each user’s reviewed books as a basket, with books serving as items.\n",
    "\n",
    "The project is based on the **[Amazon Books Review](https://www.kaggle.com/datasets/mohamedbakhet/amazon-books-reviews)** dataset, published on Kaggle under the public domain CC0 license. Data is downloaded during the execution of the scripts via an API and contains variables related to users and their reviews of purchased books.\n",
    "\n",
    "Given the large volume of data (3 million rows), a reasonable subsample is created using **PySpark**, consisting of approximately 500,000 rows, while ensuring scalability for the full dataset.\n",
    "\n",
    "The project is structured as follows:\n",
    "\n",
    "- **Preprocessing** – This phase includes data cleaning, checking data integrity, handling null values, removing duplicates, and computing the overall mean to verify consistency with the selected subsample.\n",
    "- **Subsampling** – A subset of data is created while maintaining a representative distribution of user choices and ratings.\n",
    "- **Frequent Itemset Mining** – The final step involves implementing an algorithm to identify frequent itemsets within the dataset.\n",
    "\n",
    "This structured approach ensures both **efficiency** and **scalability** while maintaining **data integrity**."
   ]
  },
  {
   "cell_type": "markdown",
   "id": "f731e154-e05f-47b4-8401-fbf00ac84f77",
   "metadata": {
    "jp-MarkdownHeadingCollapsed": true
   },
   "source": [
    "### Table of Contents\n",
    "- [1. Data Import](#1-Data-Import)\n",
    "- [2. Data PreProcessing](#2-data-preprocessing)\n",
    "  - [2.1 Data Integrity](#21-data-integrity)\n",
    "  - [2.2 Missing Data](#22-missing-data)\n",
    "  - [2.3 Data Duplicates](#22-data-duplicates)\n",
    "  - [2.4 Rating Means](#22-rating-means)\n",
    "- [3. Subsample Creation](#3-subsample-creation)\n",
    "- [4. Frequent Itemset Mining](#4-frequent-itemset-mining)\n"
   ]
  },
  {
   "cell_type": "markdown",
   "id": "fa12e9da-54f1-4dd0-bfbc-9682eaae02f1",
   "metadata": {},
   "source": [
    "---\n",
    "### 1. Data Import"
   ]
  },
  {
   "cell_type": "code",
   "execution_count": 1,
   "id": "2a2f9470-ba56-462f-9829-388832253f32",
   "metadata": {},
   "outputs": [],
   "source": [
    "#import os\n",
    "#import zipfile"
   ]
  },
  {
   "cell_type": "code",
   "execution_count": 2,
   "id": "ec451398-739e-49be-8a9a-e76f18bdaa61",
   "metadata": {},
   "outputs": [],
   "source": [
    "#os.environ['KAGGLE_USERNAME'] = \"melissarizzi\"\n",
    "#os.environ['KAGGLE_KEY'] = \"3ed913e7329a3117a254e67179c0f8bb\""
   ]
  },
  {
   "cell_type": "code",
   "execution_count": 3,
   "id": "0e692ed4-ac60-4982-90dc-48ab6dd3797b",
   "metadata": {},
   "outputs": [
    {
     "name": "stdout",
     "output_type": "stream",
     "text": [
      "Requirement already satisfied: kaggle in c:\\users\\angel\\appdata\\local\\programs\\python\\python312\\lib\\site-packages (1.6.17)\n",
      "Requirement already satisfied: six>=1.10 in c:\\users\\angel\\appdata\\local\\programs\\python\\python312\\lib\\site-packages (from kaggle) (1.16.0)\n",
      "Requirement already satisfied: certifi>=2023.7.22 in c:\\users\\angel\\appdata\\local\\programs\\python\\python312\\lib\\site-packages (from kaggle) (2024.8.30)\n",
      "Requirement already satisfied: python-dateutil in c:\\users\\angel\\appdata\\local\\programs\\python\\python312\\lib\\site-packages (from kaggle) (2.9.0.post0)\n",
      "Requirement already satisfied: requests in c:\\users\\angel\\appdata\\local\\programs\\python\\python312\\lib\\site-packages (from kaggle) (2.32.3)\n",
      "Requirement already satisfied: tqdm in c:\\users\\angel\\appdata\\local\\programs\\python\\python312\\lib\\site-packages (from kaggle) (4.67.1)\n",
      "Requirement already satisfied: python-slugify in c:\\users\\angel\\appdata\\local\\programs\\python\\python312\\lib\\site-packages (from kaggle) (8.0.4)\n",
      "Requirement already satisfied: urllib3 in c:\\users\\angel\\appdata\\local\\programs\\python\\python312\\lib\\site-packages (from kaggle) (2.2.3)\n",
      "Requirement already satisfied: bleach in c:\\users\\angel\\appdata\\local\\programs\\python\\python312\\lib\\site-packages (from kaggle) (6.1.0)\n",
      "Requirement already satisfied: webencodings in c:\\users\\angel\\appdata\\local\\programs\\python\\python312\\lib\\site-packages (from bleach->kaggle) (0.5.1)\n",
      "Requirement already satisfied: text-unidecode>=1.3 in c:\\users\\angel\\appdata\\local\\programs\\python\\python312\\lib\\site-packages (from python-slugify->kaggle) (1.3)\n",
      "Requirement already satisfied: charset-normalizer<4,>=2 in c:\\users\\angel\\appdata\\local\\programs\\python\\python312\\lib\\site-packages (from requests->kaggle) (3.4.0)\n",
      "Requirement already satisfied: idna<4,>=2.5 in c:\\users\\angel\\appdata\\local\\programs\\python\\python312\\lib\\site-packages (from requests->kaggle) (3.10)\n",
      "Requirement already satisfied: colorama in c:\\users\\angel\\appdata\\local\\programs\\python\\python312\\lib\\site-packages (from tqdm->kaggle) (0.4.6)\n"
     ]
    }
   ],
   "source": [
    "#!pip install kaggle"
   ]
  },
  {
   "cell_type": "code",
   "execution_count": 4,
   "id": "a2d6b5c9-0837-4d38-a26c-7afc7acdf129",
   "metadata": {},
   "outputs": [
    {
     "name": "stdout",
     "output_type": "stream",
     "text": [
      "Warning: Looks like you're using an outdated API Version, please consider updating (server 1.7.4 / client 1.6.17)\n",
      "Dataset URL: https://www.kaggle.com/datasets/mohamedbakhet/amazon-books-reviews\n",
      "License(s): CC0-1.0\n",
      "Downloading amazon-books-reviews.zip to C:\\Users\\angel\\Desktop\\GitHub\\Massive-Data\n",
      "\n"
     ]
    },
    {
     "name": "stderr",
     "output_type": "stream",
     "text": [
      "\n",
      "  0%|          | 0.00/1.06G [00:00<?, ?B/s]\n",
      "  0%|          | 1.00M/1.06G [00:01<23:06, 822kB/s]\n",
      "  0%|          | 4.00M/1.06G [00:01<04:55, 3.85MB/s]\n",
      "  1%|          | 7.00M/1.06G [00:01<02:37, 7.20MB/s]\n",
      "  1%|          | 10.0M/1.06G [00:01<01:44, 10.8MB/s]\n",
      "  1%|1         | 13.0M/1.06G [00:01<01:18, 14.4MB/s]\n",
      "  2%|1         | 17.0M/1.06G [00:01<00:58, 19.3MB/s]\n",
      "  2%|1         | 21.0M/1.06G [00:01<00:48, 22.9MB/s]\n",
      "  2%|2         | 25.0M/1.06G [00:02<00:43, 25.8MB/s]\n",
      "  3%|2         | 29.0M/1.06G [00:02<00:40, 27.6MB/s]\n",
      "  3%|3         | 33.0M/1.06G [00:02<00:38, 29.0MB/s]\n",
      "  3%|3         | 37.0M/1.06G [00:02<00:39, 28.0MB/s]\n",
      "  4%|3         | 40.0M/1.06G [00:02<00:40, 27.1MB/s]\n",
      "  4%|3         | 43.0M/1.06G [00:02<00:39, 27.7MB/s]\n",
      "  4%|4         | 46.0M/1.06G [00:02<00:39, 27.5MB/s]\n",
      "  5%|4         | 49.0M/1.06G [00:02<00:40, 27.0MB/s]\n",
      "  5%|4         | 52.0M/1.06G [00:03<00:40, 27.0MB/s]\n",
      "  5%|5         | 56.0M/1.06G [00:03<00:37, 29.2MB/s]\n",
      "  6%|5         | 60.0M/1.06G [00:03<00:34, 31.0MB/s]\n",
      "  6%|5         | 63.0M/1.06G [00:03<00:34, 30.9MB/s]\n",
      "  6%|6         | 67.0M/1.06G [00:03<00:34, 31.3MB/s]\n",
      "  7%|6         | 71.0M/1.06G [00:03<00:33, 31.6MB/s]\n",
      "  7%|6         | 75.0M/1.06G [00:03<00:33, 31.3MB/s]\n",
      "  7%|7         | 79.0M/1.06G [00:03<00:33, 31.4MB/s]\n",
      "  8%|7         | 82.0M/1.06G [00:04<00:33, 31.4MB/s]\n",
      "  8%|7         | 85.0M/1.06G [00:04<00:33, 31.4MB/s]\n",
      "  8%|8         | 88.0M/1.06G [00:04<00:33, 30.9MB/s]\n",
      "  8%|8         | 92.0M/1.06G [00:04<00:33, 30.9MB/s]\n",
      "  9%|8         | 96.0M/1.06G [00:04<00:31, 32.5MB/s]\n",
      "  9%|9         | 100M/1.06G [00:04<00:31, 33.3MB/s] \n",
      " 10%|9         | 104M/1.06G [00:04<00:30, 33.4MB/s]\n",
      " 10%|9         | 108M/1.06G [00:04<00:31, 32.9MB/s]\n",
      " 10%|#         | 112M/1.06G [00:04<00:30, 34.1MB/s]\n",
      " 11%|#         | 116M/1.06G [00:05<00:28, 35.4MB/s]\n",
      " 11%|#1        | 120M/1.06G [00:05<00:38, 26.0MB/s]\n",
      " 11%|#1        | 124M/1.06G [00:05<00:36, 27.9MB/s]\n",
      " 12%|#1        | 128M/1.06G [00:05<00:33, 29.9MB/s]\n",
      " 12%|#2        | 132M/1.06G [00:05<00:31, 31.6MB/s]\n",
      " 13%|#2        | 136M/1.06G [00:05<00:35, 28.0MB/s]\n",
      " 13%|#2        | 139M/1.06G [00:06<00:35, 28.1MB/s]\n",
      " 13%|#3        | 143M/1.06G [00:06<00:34, 28.5MB/s]\n",
      " 13%|#3        | 146M/1.06G [00:06<00:34, 28.2MB/s]\n",
      " 14%|#3        | 150M/1.06G [00:06<00:33, 29.5MB/s]\n",
      " 14%|#4        | 153M/1.06G [00:06<00:33, 29.6MB/s]\n",
      " 14%|#4        | 156M/1.06G [00:06<00:32, 29.9MB/s]\n",
      " 15%|#4        | 160M/1.06G [00:06<00:30, 31.4MB/s]\n",
      " 15%|#5        | 164M/1.06G [00:06<00:30, 31.7MB/s]\n",
      " 15%|#5        | 168M/1.06G [00:06<00:28, 33.6MB/s]\n",
      " 16%|#5        | 172M/1.06G [00:07<00:28, 33.8MB/s]\n",
      " 16%|#6        | 176M/1.06G [00:07<00:27, 34.3MB/s]\n",
      " 17%|#6        | 180M/1.06G [00:07<00:28, 33.7MB/s]\n",
      " 17%|#6        | 184M/1.06G [00:07<00:27, 34.7MB/s]\n",
      " 17%|#7        | 188M/1.06G [00:07<00:28, 33.0MB/s]\n",
      " 18%|#7        | 192M/1.06G [00:07<00:29, 32.2MB/s]\n",
      " 18%|#8        | 196M/1.06G [00:07<00:29, 31.8MB/s]\n",
      " 18%|#8        | 200M/1.06G [00:08<00:29, 31.9MB/s]\n",
      " 19%|#8        | 204M/1.06G [00:08<00:28, 32.7MB/s]\n",
      " 19%|#9        | 208M/1.06G [00:08<00:27, 33.9MB/s]\n",
      " 19%|#9        | 212M/1.06G [00:08<00:27, 33.3MB/s]\n",
      " 20%|#9        | 216M/1.06G [00:08<00:28, 31.8MB/s]\n",
      " 20%|##        | 220M/1.06G [00:08<00:27, 33.5MB/s]\n",
      " 21%|##        | 224M/1.06G [00:08<00:26, 33.9MB/s]\n",
      " 21%|##        | 228M/1.06G [00:08<00:27, 33.0MB/s]\n",
      " 21%|##1       | 232M/1.06G [00:09<00:28, 32.0MB/s]\n",
      " 22%|##1       | 236M/1.06G [00:09<00:28, 31.0MB/s]\n",
      " 22%|##2       | 240M/1.06G [00:09<00:26, 33.1MB/s]\n",
      " 22%|##2       | 244M/1.06G [00:09<00:26, 33.8MB/s]\n",
      " 23%|##2       | 248M/1.06G [00:09<00:26, 33.1MB/s]\n",
      " 23%|##3       | 252M/1.06G [00:09<00:27, 32.4MB/s]\n",
      " 24%|##3       | 256M/1.06G [00:09<00:27, 32.3MB/s]\n",
      " 24%|##3       | 260M/1.06G [00:09<00:26, 32.8MB/s]\n",
      " 24%|##4       | 264M/1.06G [00:10<00:25, 33.6MB/s]\n",
      " 25%|##4       | 268M/1.06G [00:10<00:24, 34.8MB/s]\n",
      " 25%|##5       | 272M/1.06G [00:10<00:25, 34.2MB/s]\n",
      " 25%|##5       | 276M/1.06G [00:10<00:27, 31.2MB/s]\n",
      " 26%|##5       | 280M/1.06G [00:10<00:32, 26.1MB/s]\n",
      " 26%|##6       | 284M/1.06G [00:10<00:30, 27.8MB/s]\n",
      " 26%|##6       | 287M/1.06G [00:10<00:31, 26.6MB/s]\n",
      " 27%|##6       | 290M/1.06G [00:11<00:35, 23.7MB/s]\n",
      " 27%|##6       | 293M/1.06G [00:11<00:33, 25.2MB/s]\n",
      " 27%|##7       | 297M/1.06G [00:11<00:29, 28.0MB/s]\n",
      " 28%|##7       | 300M/1.06G [00:11<00:37, 21.8MB/s]\n",
      " 28%|##8       | 307M/1.06G [00:11<00:25, 31.5MB/s]\n",
      " 29%|##8       | 311M/1.06G [00:11<00:24, 32.9MB/s]\n",
      " 29%|##8       | 315M/1.06G [00:11<00:24, 33.6MB/s]\n",
      " 29%|##9       | 319M/1.06G [00:12<00:23, 33.9MB/s]\n",
      " 30%|##9       | 323M/1.06G [00:12<00:23, 34.7MB/s]\n",
      " 30%|###       | 327M/1.06G [00:12<00:22, 35.3MB/s]\n",
      " 30%|###       | 331M/1.06G [00:12<00:22, 35.5MB/s]\n",
      " 31%|###       | 335M/1.06G [00:15<03:27, 3.80MB/s]\n",
      " 31%|###1      | 338M/1.06G [00:16<02:59, 4.38MB/s]\n",
      " 31%|###1      | 340M/1.06G [00:16<02:33, 5.09MB/s]\n",
      " 31%|###1      | 342M/1.06G [00:16<02:09, 6.04MB/s]\n",
      " 32%|###1      | 344M/1.06G [00:16<01:49, 7.11MB/s]\n",
      " 32%|###1      | 346M/1.06G [00:16<01:33, 8.35MB/s]\n",
      " 32%|###2      | 348M/1.06G [00:16<01:18, 9.82MB/s]\n",
      " 32%|###2      | 350M/1.06G [00:16<01:10, 11.0MB/s]\n",
      " 32%|###2      | 352M/1.06G [00:16<01:04, 12.0MB/s]\n",
      " 33%|###2      | 354M/1.06G [00:17<01:03, 12.1MB/s]\n",
      " 33%|###2      | 356M/1.06G [00:17<01:01, 12.6MB/s]\n",
      " 33%|###2      | 358M/1.06G [00:17<01:01, 12.5MB/s]\n",
      " 33%|###3      | 360M/1.06G [00:17<00:59, 12.8MB/s]\n",
      " 33%|###3      | 362M/1.06G [00:17<00:54, 13.9MB/s]\n",
      " 33%|###3      | 364M/1.06G [00:17<00:54, 14.0MB/s]\n",
      " 34%|###3      | 366M/1.06G [00:18<00:50, 15.1MB/s]\n",
      " 34%|###3      | 368M/1.06G [00:18<00:49, 15.2MB/s]\n",
      " 34%|###4      | 371M/1.06G [00:18<00:43, 17.4MB/s]\n",
      " 34%|###4      | 374M/1.06G [00:18<00:39, 19.1MB/s]\n",
      " 35%|###4      | 377M/1.06G [00:18<00:35, 20.8MB/s]\n",
      " 35%|###4      | 380M/1.06G [00:18<00:33, 21.9MB/s]\n",
      " 35%|###5      | 383M/1.06G [00:18<00:31, 23.3MB/s]\n",
      " 35%|###5      | 386M/1.06G [00:18<00:30, 24.3MB/s]\n",
      " 36%|###5      | 389M/1.06G [00:19<00:31, 23.3MB/s]\n",
      " 36%|###6      | 392M/1.06G [00:19<00:29, 24.3MB/s]\n",
      " 36%|###6      | 395M/1.06G [00:19<00:28, 25.2MB/s]\n",
      " 37%|###6      | 398M/1.06G [00:19<00:27, 26.2MB/s]\n",
      " 37%|###6      | 401M/1.06G [00:19<00:27, 26.6MB/s]\n",
      " 37%|###7      | 404M/1.06G [00:19<00:26, 27.3MB/s]\n",
      " 37%|###7      | 407M/1.06G [00:19<00:25, 27.5MB/s]\n",
      " 38%|###7      | 410M/1.06G [00:19<00:25, 27.9MB/s]\n",
      " 38%|###7      | 413M/1.06G [00:19<00:25, 27.7MB/s]\n",
      " 38%|###8      | 417M/1.06G [00:20<00:24, 29.1MB/s]\n",
      " 39%|###8      | 420M/1.06G [00:20<00:23, 29.3MB/s]\n",
      " 39%|###8      | 423M/1.06G [00:20<00:23, 29.5MB/s]\n",
      " 39%|###9      | 426M/1.06G [00:20<00:23, 30.0MB/s]\n",
      " 39%|###9      | 429M/1.06G [00:20<00:23, 29.1MB/s]\n",
      " 40%|###9      | 432M/1.06G [00:20<00:23, 29.5MB/s]\n",
      " 40%|####      | 435M/1.06G [00:20<00:24, 27.6MB/s]\n",
      " 40%|####      | 438M/1.06G [00:20<00:25, 27.0MB/s]\n",
      " 41%|####      | 441M/1.06G [00:20<00:24, 28.1MB/s]\n",
      " 41%|####      | 444M/1.06G [00:21<00:23, 28.8MB/s]\n",
      " 41%|####1     | 448M/1.06G [00:21<00:23, 28.6MB/s]\n",
      " 41%|####1     | 451M/1.06G [00:21<00:23, 28.6MB/s]\n",
      " 42%|####1     | 456M/1.06G [00:21<00:19, 33.4MB/s]\n",
      " 42%|####2     | 460M/1.06G [00:21<00:20, 32.7MB/s]\n",
      " 43%|####2     | 464M/1.06G [00:21<00:20, 31.2MB/s]\n",
      " 43%|####3     | 468M/1.06G [00:21<00:20, 31.5MB/s]\n",
      " 43%|####3     | 472M/1.06G [00:22<00:20, 32.0MB/s]\n",
      " 44%|####3     | 476M/1.06G [00:22<00:26, 24.6MB/s]\n",
      " 44%|####4     | 479M/1.06G [00:22<00:25, 25.1MB/s]\n",
      " 44%|####4     | 482M/1.06G [00:22<00:24, 25.4MB/s]\n",
      " 45%|####4     | 485M/1.06G [00:22<00:25, 25.2MB/s]\n",
      " 45%|####4     | 488M/1.06G [00:22<00:24, 25.8MB/s]\n",
      " 45%|####5     | 492M/1.06G [00:22<00:21, 28.6MB/s]\n",
      " 46%|####5     | 496M/1.06G [00:22<00:20, 30.6MB/s]\n",
      " 46%|####5     | 500M/1.06G [00:23<00:20, 29.5MB/s]\n",
      " 46%|####6     | 504M/1.06G [00:23<00:19, 31.5MB/s]\n",
      " 47%|####6     | 508M/1.06G [00:23<00:19, 31.4MB/s]\n",
      " 47%|####7     | 512M/1.06G [00:23<00:18, 31.9MB/s]\n",
      " 47%|####7     | 516M/1.06G [00:23<00:19, 30.1MB/s]\n",
      " 48%|####7     | 519M/1.06G [00:23<00:19, 30.1MB/s]\n",
      " 48%|####8     | 523M/1.06G [00:23<00:19, 31.1MB/s]\n",
      " 48%|####8     | 527M/1.06G [00:24<00:18, 32.5MB/s]\n",
      " 49%|####8     | 531M/1.06G [00:24<00:18, 31.7MB/s]\n",
      " 49%|####9     | 535M/1.06G [00:24<00:19, 30.3MB/s]\n",
      " 49%|####9     | 538M/1.06G [00:24<00:20, 28.4MB/s]\n",
      " 50%|####9     | 541M/1.06G [00:24<00:19, 28.9MB/s]\n",
      " 50%|#####     | 545M/1.06G [00:24<00:19, 28.5MB/s]\n",
      " 50%|#####     | 548M/1.06G [00:24<00:19, 29.2MB/s]\n",
      " 51%|#####     | 551M/1.06G [00:24<00:19, 28.8MB/s]\n",
      " 51%|#####1    | 555M/1.06G [00:25<00:18, 30.3MB/s]\n",
      " 51%|#####1    | 559M/1.06G [00:25<00:18, 30.7MB/s]\n",
      " 52%|#####1    | 562M/1.06G [00:25<00:18, 30.2MB/s]\n",
      " 52%|#####1    | 565M/1.06G [00:25<00:18, 28.9MB/s]\n",
      " 52%|#####2    | 568M/1.06G [00:25<00:18, 29.3MB/s]\n",
      " 53%|#####2    | 572M/1.06G [00:25<00:17, 31.4MB/s]\n",
      " 53%|#####2    | 576M/1.06G [00:25<00:16, 32.6MB/s]\n",
      " 53%|#####3    | 580M/1.06G [00:25<00:17, 30.9MB/s]\n",
      " 54%|#####3    | 583M/1.06G [00:25<00:17, 30.9MB/s]\n",
      " 54%|#####3    | 587M/1.06G [00:26<00:16, 31.3MB/s]\n",
      " 54%|#####4    | 590M/1.06G [00:26<00:16, 31.2MB/s]\n",
      " 55%|#####4    | 594M/1.06G [00:26<00:17, 29.6MB/s]\n",
      " 55%|#####4    | 597M/1.06G [00:26<00:17, 29.7MB/s]\n",
      " 55%|#####5    | 600M/1.06G [00:26<00:23, 21.4MB/s]\n",
      " 56%|#####5    | 605M/1.06G [00:26<00:19, 26.4MB/s]\n",
      " 56%|#####6    | 609M/1.06G [00:26<00:17, 28.0MB/s]\n",
      " 56%|#####6    | 613M/1.06G [00:27<00:16, 29.3MB/s]\n",
      " 57%|#####6    | 617M/1.06G [00:27<00:16, 30.2MB/s]\n",
      " 57%|#####7    | 621M/1.06G [00:27<00:21, 23.1MB/s]\n",
      " 57%|#####7    | 624M/1.06G [00:27<00:20, 23.2MB/s]\n",
      " 58%|#####7    | 627M/1.06G [00:27<00:20, 23.7MB/s]\n",
      " 58%|#####8    | 631M/1.06G [00:27<00:18, 25.7MB/s]\n",
      " 58%|#####8    | 634M/1.06G [00:28<00:23, 20.3MB/s]\n",
      " 59%|#####8    | 640M/1.06G [00:28<00:18, 25.8MB/s]\n",
      " 59%|#####9    | 644M/1.06G [00:28<00:16, 27.5MB/s]\n",
      " 59%|#####9    | 647M/1.06G [00:28<00:16, 28.3MB/s]\n",
      " 60%|#####9    | 651M/1.06G [00:28<00:15, 29.8MB/s]\n",
      " 60%|######    | 654M/1.06G [00:28<00:15, 28.6MB/s]\n",
      " 61%|######    | 658M/1.06G [00:28<00:15, 29.9MB/s]\n",
      " 61%|######    | 662M/1.06G [00:29<00:14, 30.6MB/s]\n",
      " 61%|######1   | 666M/1.06G [00:29<00:14, 31.0MB/s]\n",
      " 62%|######1   | 670M/1.06G [00:29<00:13, 31.9MB/s]\n",
      " 62%|######1   | 674M/1.06G [00:29<00:14, 30.1MB/s]\n",
      " 62%|######2   | 678M/1.06G [00:29<00:13, 30.7MB/s]\n",
      " 63%|######2   | 682M/1.06G [00:29<00:13, 31.7MB/s]\n",
      " 63%|######3   | 686M/1.06G [00:29<00:12, 32.4MB/s]\n",
      " 63%|######3   | 690M/1.06G [00:29<00:12, 32.7MB/s]\n",
      " 64%|######3   | 694M/1.06G [00:30<00:12, 33.1MB/s]\n",
      " 64%|######4   | 698M/1.06G [00:30<00:12, 33.6MB/s]\n",
      " 65%|######4   | 702M/1.06G [00:30<00:11, 34.1MB/s]\n",
      " 65%|######4   | 706M/1.06G [00:30<00:11, 34.2MB/s]\n",
      " 65%|######5   | 710M/1.06G [00:30<00:11, 34.2MB/s]\n",
      " 66%|######5   | 714M/1.06G [00:30<00:12, 31.1MB/s]\n",
      " 66%|######6   | 718M/1.06G [00:30<00:12, 29.9MB/s]\n",
      " 66%|######6   | 722M/1.06G [00:31<00:12, 31.4MB/s]\n",
      " 67%|######6   | 726M/1.06G [00:31<00:11, 33.3MB/s]\n",
      " 67%|######7   | 730M/1.06G [00:31<00:11, 33.4MB/s]\n",
      " 67%|######7   | 734M/1.06G [00:31<00:10, 34.4MB/s]\n",
      " 68%|######7   | 738M/1.06G [00:31<00:10, 34.3MB/s]\n",
      " 68%|######8   | 742M/1.06G [00:31<00:10, 34.1MB/s]\n",
      " 69%|######8   | 746M/1.06G [00:31<00:15, 23.7MB/s]\n",
      " 69%|######8   | 750M/1.06G [00:32<00:15, 23.5MB/s]\n",
      " 70%|######9   | 757M/1.06G [00:32<00:10, 33.0MB/s]\n",
      " 70%|######9   | 761M/1.06G [00:32<00:10, 34.1MB/s]\n",
      " 70%|#######   | 765M/1.06G [00:32<00:09, 34.1MB/s]\n",
      " 71%|#######   | 769M/1.06G [00:32<00:11, 29.6MB/s]\n",
      " 71%|#######1  | 773M/1.06G [00:32<00:11, 28.3MB/s]\n",
      " 71%|#######1  | 777M/1.06G [00:32<00:11, 29.4MB/s]\n",
      " 72%|#######1  | 781M/1.06G [00:33<00:10, 30.6MB/s]\n",
      " 72%|#######2  | 785M/1.06G [00:33<00:09, 32.2MB/s]\n",
      " 73%|#######2  | 789M/1.06G [00:33<00:09, 33.8MB/s]\n",
      " 73%|#######2  | 793M/1.06G [00:33<00:08, 34.6MB/s]\n",
      " 73%|#######3  | 797M/1.06G [00:33<00:09, 33.7MB/s]\n",
      " 74%|#######3  | 801M/1.06G [00:33<00:08, 33.5MB/s]\n",
      " 74%|#######4  | 805M/1.06G [00:33<00:09, 32.8MB/s]\n",
      " 74%|#######4  | 809M/1.06G [00:33<00:09, 31.2MB/s]\n",
      " 75%|#######4  | 813M/1.06G [00:34<00:09, 31.9MB/s]\n",
      " 75%|#######5  | 817M/1.06G [00:34<00:09, 31.2MB/s]\n",
      " 75%|#######5  | 821M/1.06G [00:34<00:08, 32.0MB/s]\n",
      " 76%|#######5  | 825M/1.06G [00:34<00:12, 21.3MB/s]\n",
      " 76%|#######6  | 830M/1.06G [00:34<00:10, 25.7MB/s]\n",
      " 77%|#######6  | 834M/1.06G [00:34<00:09, 26.9MB/s]\n",
      " 77%|#######7  | 838M/1.06G [00:35<00:09, 28.8MB/s]\n",
      " 77%|#######7  | 842M/1.06G [00:35<00:08, 29.9MB/s]\n",
      " 78%|#######7  | 846M/1.06G [00:35<00:08, 30.4MB/s]\n",
      " 78%|#######8  | 850M/1.06G [00:35<00:10, 24.5MB/s]\n",
      " 78%|#######8  | 853M/1.06G [00:35<00:09, 25.3MB/s]\n",
      " 79%|#######8  | 856M/1.06G [00:35<00:09, 24.4MB/s]\n",
      " 79%|#######9  | 860M/1.06G [00:35<00:08, 26.5MB/s]\n",
      " 79%|#######9  | 864M/1.06G [00:36<00:08, 28.6MB/s]\n",
      " 80%|#######9  | 868M/1.06G [00:36<00:07, 29.2MB/s]\n",
      " 80%|########  | 872M/1.06G [00:36<00:07, 30.4MB/s]\n",
      " 81%|########  | 876M/1.06G [00:36<00:06, 32.1MB/s]\n",
      " 81%|########  | 880M/1.06G [00:36<00:06, 32.9MB/s]\n",
      " 81%|########1 | 884M/1.06G [00:36<00:06, 33.7MB/s]\n",
      " 82%|########1 | 888M/1.06G [00:36<00:06, 34.3MB/s]\n",
      " 82%|########2 | 892M/1.06G [00:36<00:06, 34.1MB/s]\n",
      " 82%|########2 | 896M/1.06G [00:37<00:05, 34.1MB/s]\n",
      " 83%|########2 | 900M/1.06G [00:37<00:05, 33.8MB/s]\n",
      " 83%|########3 | 904M/1.06G [00:37<00:08, 22.6MB/s]\n",
      " 84%|########3 | 910M/1.06G [00:37<00:06, 27.0MB/s]\n",
      " 84%|########3 | 913M/1.06G [00:37<00:07, 25.3MB/s]\n",
      " 84%|########4 | 916M/1.06G [00:37<00:07, 25.1MB/s]\n",
      " 85%|########4 | 919M/1.06G [00:38<00:07, 24.7MB/s]\n",
      " 85%|########4 | 922M/1.06G [00:38<00:07, 23.2MB/s]\n",
      " 85%|########5 | 925M/1.06G [00:38<00:07, 23.6MB/s]\n",
      " 85%|########5 | 928M/1.06G [00:40<00:34, 4.81MB/s]\n",
      " 86%|########5 | 930M/1.06G [00:40<00:29, 5.67MB/s]\n",
      " 86%|########5 | 933M/1.06G [00:40<00:21, 7.40MB/s]\n",
      " 86%|########5 | 935M/1.06G [00:40<00:18, 8.59MB/s]\n",
      " 86%|########6 | 937M/1.06G [00:40<00:16, 9.64MB/s]\n",
      " 86%|########6 | 940M/1.06G [00:40<00:12, 12.5MB/s]\n",
      " 87%|########6 | 943M/1.06G [00:41<00:09, 15.4MB/s]\n",
      " 87%|########6 | 946M/1.06G [00:41<00:08, 18.2MB/s]\n",
      " 87%|########7 | 950M/1.06G [00:41<00:06, 21.7MB/s]\n",
      " 88%|########7 | 953M/1.06G [00:41<00:05, 23.7MB/s]\n",
      " 88%|########7 | 956M/1.06G [00:41<00:05, 24.1MB/s]\n",
      " 88%|########8 | 959M/1.06G [00:41<00:05, 25.9MB/s]\n",
      " 88%|########8 | 962M/1.06G [00:41<00:04, 26.8MB/s]\n",
      " 89%|########8 | 965M/1.06G [00:41<00:05, 25.0MB/s]\n",
      " 89%|########9 | 969M/1.06G [00:41<00:04, 27.6MB/s]\n",
      " 89%|########9 | 972M/1.06G [00:42<00:04, 27.6MB/s]\n",
      " 90%|########9 | 975M/1.06G [00:42<00:04, 28.3MB/s]\n",
      " 90%|########9 | 978M/1.06G [00:42<00:04, 24.9MB/s]\n",
      " 90%|######### | 981M/1.06G [00:42<00:05, 21.7MB/s]\n",
      " 90%|######### | 984M/1.06G [00:42<00:04, 23.0MB/s]\n",
      " 91%|######### | 987M/1.06G [00:42<00:04, 24.1MB/s]\n",
      " 91%|#########1| 991M/1.06G [00:42<00:03, 26.5MB/s]\n",
      " 91%|#########1| 995M/1.06G [00:43<00:03, 27.9MB/s]\n",
      " 92%|#########1| 998M/1.06G [00:43<00:03, 27.1MB/s]\n",
      " 92%|#########2| 0.98G/1.06G [00:43<00:03, 29.0MB/s]\n",
      " 93%|#########2| 0.98G/1.06G [00:43<00:02, 29.9MB/s]\n",
      " 93%|#########2| 0.99G/1.06G [00:43<00:02, 29.6MB/s]\n",
      " 93%|#########3| 0.99G/1.06G [00:43<00:02, 28.7MB/s]\n",
      " 93%|#########3| 0.99G/1.06G [00:43<00:02, 26.8MB/s]\n",
      " 94%|#########3| 1.00G/1.06G [00:43<00:02, 26.7MB/s]\n",
      " 94%|#########3| 1.00G/1.06G [00:44<00:02, 26.4MB/s]\n",
      " 94%|#########4| 1.00G/1.06G [00:44<00:02, 27.5MB/s]\n",
      " 95%|#########4| 1.00G/1.06G [00:44<00:02, 27.8MB/s]\n",
      " 95%|#########4| 1.01G/1.06G [00:44<00:01, 29.9MB/s]\n",
      " 95%|#########5| 1.01G/1.06G [00:44<00:01, 29.5MB/s]\n",
      " 96%|#########5| 1.02G/1.06G [00:44<00:01, 33.1MB/s]\n",
      " 96%|#########6| 1.02G/1.06G [00:44<00:01, 29.5MB/s]\n",
      " 96%|#########6| 1.02G/1.06G [00:44<00:01, 29.9MB/s]\n",
      " 97%|#########6| 1.03G/1.06G [00:45<00:01, 30.6MB/s]\n",
      " 97%|#########7| 1.03G/1.06G [00:45<00:01, 31.2MB/s]\n",
      " 97%|#########7| 1.03G/1.06G [00:45<00:00, 31.9MB/s]\n",
      " 98%|#########7| 1.04G/1.06G [00:45<00:00, 29.4MB/s]\n",
      " 98%|#########8| 1.04G/1.06G [00:45<00:00, 21.6MB/s]\n",
      " 98%|#########8| 1.04G/1.06G [00:45<00:00, 22.8MB/s]\n",
      " 99%|#########8| 1.05G/1.06G [00:46<00:00, 28.9MB/s]\n",
      " 99%|#########9| 1.05G/1.06G [00:46<00:00, 28.1MB/s]\n",
      "100%|#########9| 1.06G/1.06G [00:46<00:00, 28.6MB/s]\n",
      "100%|#########9| 1.06G/1.06G [00:46<00:00, 28.9MB/s]\n",
      "100%|##########| 1.06G/1.06G [00:46<00:00, 24.5MB/s]\n"
     ]
    }
   ],
   "source": [
    "#!kaggle datasets download -d mohamedbakhet/amazon-books-reviews"
   ]
  },
  {
   "cell_type": "code",
   "execution_count": 5,
   "id": "ff6576e7-9231-41bf-b56e-eb4c073650dc",
   "metadata": {},
   "outputs": [],
   "source": [
    "#with zipfile.ZipFile(\"amazon-books-reviews.zip\", 'r') as zip_ref:\n",
    "#    zip_ref.extractall(\"amazon_books_data\")"
   ]
  },
  {
   "cell_type": "markdown",
   "id": "0f666223-9b9b-48fb-b264-9e895cddc5d4",
   "metadata": {},
   "source": [
    "---\n",
    "### 2. Data PreProcessing"
   ]
  },
  {
   "cell_type": "code",
   "execution_count": 6,
   "id": "8516ec6a-2fc2-45db-8a19-29787ca5437b",
   "metadata": {},
   "outputs": [],
   "source": [
    "# Import necessary libraries\n",
    "from pyspark.sql import SparkSession\n",
    "from pyspark.sql.functions import col, min, max, sum, when, collect_set\n",
    "from pyspark.sql.types import DoubleType\n",
    "from pyspark.sql import functions as F\n",
    "from pyspark.ml.fpm import FPGrowth"
   ]
  },
  {
   "cell_type": "code",
   "execution_count": 7,
   "id": "7fedb1a1-5a11-482a-982a-e2b4794efee3",
   "metadata": {},
   "outputs": [],
   "source": [
    "# Create Spark Session\n",
    "spark = SparkSession.builder.appName(\"MapReduce\").getOrCreate()"
   ]
  },
  {
   "cell_type": "code",
   "execution_count": 8,
   "id": "ff4170ba-faf9-427d-8cd6-37d6e11af3af",
   "metadata": {},
   "outputs": [
    {
     "name": "stdout",
     "output_type": "stream",
     "text": [
      "+----------+--------------------+-----+--------------+--------------------+------------------+------------+-----------+--------------------+--------------------+\n",
      "|        Id|               Title|Price|       User_id|         profileName|review/helpfulness|review/score|review/time|      review/summary|         review/text|\n",
      "+----------+--------------------+-----+--------------+--------------------+------------------+------------+-----------+--------------------+--------------------+\n",
      "|1882931173|Its Only Art If I...| NULL| AVCGYZL8FQQTD|\"Jim of Oz \"\"jim-...|               7/7|         4.0|  940636800|Nice collection o...|This is only for ...|\n",
      "|0826414346|Dr. Seuss: Americ...| NULL|A30TK6U7DNS82R|       Kevin Killian|             10/10|         5.0| 1095724800|   Really Enjoyed It|I don't care much...|\n",
      "|0826414346|Dr. Seuss: Americ...| NULL|A3UH4UZ4RSVO82|        John Granger|             10/11|         5.0| 1078790400|Essential for eve...|\"If people become...|\n",
      "|0826414346|Dr. Seuss: Americ...| NULL|A2MVUWT453QH61|\"Roy E. Perry \"\"a...|               7/7|         4.0| 1090713600|Phlip Nel gives s...|Theodore Seuss Ge...|\n",
      "|0826414346|Dr. Seuss: Americ...| NULL|A22X4XUPKF66MR|\"D. H. Richards \"...|               3/3|         4.0| 1107993600|Good academic ove...|\"Philip Nel - Dr....|\n",
      "+----------+--------------------+-----+--------------+--------------------+------------------+------------+-----------+--------------------+--------------------+\n",
      "only showing top 5 rows\n",
      "\n"
     ]
    }
   ],
   "source": [
    "# Import data\n",
    "data = spark.read.csv(\"amazon_books_data/Books_rating.csv\", header=True, inferSchema=True)\n",
    "#data.show(5)"
   ]
  },
  {
   "cell_type": "code",
   "execution_count": 9,
   "id": "89825f6b-49b7-441f-99f4-b6c2e8312289",
   "metadata": {},
   "outputs": [
    {
     "name": "stdout",
     "output_type": "stream",
     "text": [
      "+----------+--------------------+--------------+-----+--------------------+\n",
      "|        Id|               Title|       User_id|score|         review/text|\n",
      "+----------+--------------------+--------------+-----+--------------------+\n",
      "|1882931173|Its Only Art If I...| AVCGYZL8FQQTD|  4.0|This is only for ...|\n",
      "|0826414346|Dr. Seuss: Americ...|A30TK6U7DNS82R|  5.0|I don't care much...|\n",
      "|0826414346|Dr. Seuss: Americ...|A3UH4UZ4RSVO82|  5.0|\"If people become...|\n",
      "|0826414346|Dr. Seuss: Americ...|A2MVUWT453QH61|  4.0|Theodore Seuss Ge...|\n",
      "|0826414346|Dr. Seuss: Americ...|A22X4XUPKF66MR|  4.0|\"Philip Nel - Dr....|\n",
      "+----------+--------------------+--------------+-----+--------------------+\n",
      "only showing top 5 rows\n",
      "\n"
     ]
    }
   ],
   "source": [
    "#Select only useful columns\n",
    "df = data.select(\"Id\", 'Title', \"User_id\", \"review/score\",'review/text').withColumnRenamed(\"review/score\", \"score\")\n",
    "#df.show(5)"
   ]
  },
  {
   "cell_type": "markdown",
   "id": "689a5990-8e66-46ba-b901-e2512c7588e7",
   "metadata": {},
   "source": [
    "#### 2.1 Data Integrity"
   ]
  },
  {
   "cell_type": "code",
   "execution_count": 10,
   "id": "4aba7801-26bb-4ede-b4e0-9d8b86872faf",
   "metadata": {},
   "outputs": [
    {
     "name": "stdout",
     "output_type": "stream",
     "text": [
      "root\n",
      " |-- Id: string (nullable = true)\n",
      " |-- Title: string (nullable = true)\n",
      " |-- User_id: string (nullable = true)\n",
      " |-- score: string (nullable = true)\n",
      " |-- review/text: string (nullable = true)\n",
      "\n"
     ]
    }
   ],
   "source": [
    "df.printSchema()"
   ]
  },
  {
   "cell_type": "code",
   "execution_count": 11,
   "id": "b338f85d-630b-4d4f-8bc8-2c0d7bc843c8",
   "metadata": {},
   "outputs": [
    {
     "name": "stdout",
     "output_type": "stream",
     "text": [
      "root\n",
      " |-- Id: string (nullable = true)\n",
      " |-- Title: string (nullable = true)\n",
      " |-- User_id: string (nullable = true)\n",
      " |-- score: double (nullable = true)\n",
      " |-- review/text: string (nullable = true)\n",
      "\n"
     ]
    }
   ],
   "source": [
    "# Transform 'score' variable in double type\n",
    "df = df.withColumn(\"score\", col(\"score\").cast(DoubleType()))\n",
    "df.printSchema()"
   ]
  },
  {
   "cell_type": "code",
   "execution_count": 12,
   "id": "0f19f6eb-d07a-488c-a051-daec53e43aff",
   "metadata": {},
   "outputs": [
    {
     "name": "stdout",
     "output_type": "stream",
     "text": [
      "+---------+----------+\n",
      "|min_score| max_score|\n",
      "+---------+----------+\n",
      "|      1.0|1.295568E9|\n",
      "+---------+----------+\n",
      "\n"
     ]
    }
   ],
   "source": [
    "# Check score range\n",
    "df.select(min(col(\"score\")).alias(\"min_score\"), max(col(\"score\")).alias(\"max_score\")).show()"
   ]
  },
  {
   "cell_type": "code",
   "execution_count": 14,
   "id": "55593ded-7fa4-402a-b75c-e813567c3987",
   "metadata": {},
   "outputs": [
    {
     "name": "stdout",
     "output_type": "stream",
     "text": [
      "+---------+---------+\n",
      "|min_score|max_score|\n",
      "+---------+---------+\n",
      "|      1.0|      5.0|\n",
      "+---------+---------+\n",
      "\n"
     ]
    }
   ],
   "source": [
    "# Keep just data with the 'score' values in the correct range [1, 5]\n",
    "df = df.filter((col(\"score\") >= 1) & (col(\"score\") <= 5))\n",
    "df.select(min(\"score\").alias(\"min_score\"), max(\"score\").alias(\"max_score\")).show()"
   ]
  },
  {
   "cell_type": "markdown",
   "id": "045d1899-4dea-41f1-ac47-5a885e93d370",
   "metadata": {},
   "source": [
    "#### 2.2 Missing Data"
   ]
  },
  {
   "cell_type": "code",
   "execution_count": 15,
   "id": "696f1305-282a-48ed-823a-eb518e19d8dd",
   "metadata": {},
   "outputs": [
    {
     "name": "stdout",
     "output_type": "stream",
     "text": [
      "+---+-----+-------+-----+-----------+\n",
      "| Id|Title|User_id|score|review/text|\n",
      "+---+-----+-------+-----+-----------+\n",
      "|  0|  196| 561492|    0|          9|\n",
      "+---+-----+-------+-----+-----------+\n",
      "\n"
     ]
    }
   ],
   "source": [
    "# Count null values for each variable\n",
    "null_counts = df.select(\n",
    "    [sum(when(col(c).isNull(), 1).otherwise(0)).alias(c) for c in df.columns]\n",
    ")\n",
    "\n",
    "null_counts.show()"
   ]
  },
  {
   "cell_type": "markdown",
   "id": "6ddd56cd-47dd-454c-8222-1b69d34c40c0",
   "metadata": {},
   "source": [
    "What stands out right away, especially for the purpose of our analysis, is that there are many missing values in the User_id variable. One possible reason for this could be that users who leave reviews but are not registered don’t have a user ID. Our goal is to identify baskets of items purchased by the same users, but without the user ID, this analysis cannot be conducted. We explored the possibility of using profile names instead, by assigning a dummy ID to users with the same name. However, we were aware that this might not provide accurate results due to potential name duplication. Moreover, there were more missing profile names than missing user IDs, which made this solution unfeasible. After considering our options, we ultimately decided to **drop the missing values**, as we couldn’t identify a suitable method to replace them."
   ]
  },
  {
   "cell_type": "code",
   "execution_count": 16,
   "id": "178c2f35-40a7-4a64-9e64-11634befd3c2",
   "metadata": {},
   "outputs": [
    {
     "name": "stdout",
     "output_type": "stream",
     "text": [
      "+----------+--------------------+--------------+-----+--------------------+\n",
      "|        Id|               Title|       User_id|score|         review/text|\n",
      "+----------+--------------------+--------------+-----+--------------------+\n",
      "|1882931173|Its Only Art If I...| AVCGYZL8FQQTD|  4.0|This is only for ...|\n",
      "|0826414346|Dr. Seuss: Americ...|A30TK6U7DNS82R|  5.0|I don't care much...|\n",
      "|0826414346|Dr. Seuss: Americ...|A3UH4UZ4RSVO82|  5.0|\"If people become...|\n",
      "|0826414346|Dr. Seuss: Americ...|A2MVUWT453QH61|  4.0|Theodore Seuss Ge...|\n",
      "|0826414346|Dr. Seuss: Americ...|A22X4XUPKF66MR|  4.0|\"Philip Nel - Dr....|\n",
      "+----------+--------------------+--------------+-----+--------------------+\n",
      "only showing top 5 rows\n",
      "\n"
     ]
    }
   ],
   "source": [
    "# Remove null values\n",
    "df_clean = df.dropna()\n",
    "#df_clean.show(5)"
   ]
  },
  {
   "cell_type": "code",
   "execution_count": 17,
   "id": "792236e6-bcae-4999-9c02-3a79a618e555",
   "metadata": {},
   "outputs": [
    {
     "name": "stdout",
     "output_type": "stream",
     "text": [
      "Number of Rows - Before cleaning: 2981912\n",
      "Number of Rows - After cleaning: 2420235\n"
     ]
    }
   ],
   "source": [
    "# Check data size\n",
    "n_rows = df.count()\n",
    "n_rows_clean = df_clean.count()\n",
    "print(f\"Number of Rows - Before cleaning: {n_rows}\")\n",
    "print(f\"Number of Rows - After cleaning: {n_rows_clean}\")"
   ]
  },
  {
   "cell_type": "markdown",
   "id": "8d8eca9a-a340-44b9-8721-8f50635c574f",
   "metadata": {},
   "source": [
    "#### 2.3 Data Duplicates"
   ]
  },
  {
   "cell_type": "code",
   "execution_count": 18,
   "id": "b58a5aca-1373-48a0-825a-1fc589a19843",
   "metadata": {},
   "outputs": [
    {
     "name": "stdout",
     "output_type": "stream",
     "text": [
      "Number of Rows - After duplicates removal: 2398220\n"
     ]
    }
   ],
   "source": [
    "# Remove duplicated rows\n",
    "df_clean = df_clean.dropDuplicates()\n",
    "\n",
    "n_rows_clean = df_clean.count()\n",
    "print(f\"Number of Rows - After duplicates removal: {n_rows_clean}\")"
   ]
  },
  {
   "cell_type": "markdown",
   "id": "1db8a113-16f5-4ab7-a08d-38ebc3257acb",
   "metadata": {},
   "source": [
    "Up until now, we’ve performed a general cleaning of the dataset. From here on, we’ll focus exclusively on the three columns that are relevant to our analysis (Id, User_id, and score), forming a new dataset: df_short."
   ]
  },
  {
   "cell_type": "code",
   "execution_count": 19,
   "id": "1bd6df60-8224-4062-8083-f351ae6564c7",
   "metadata": {},
   "outputs": [
    {
     "name": "stdout",
     "output_type": "stream",
     "text": [
      "+----------+--------------+-----+\n",
      "|        Id|       User_id|score|\n",
      "+----------+--------------+-----+\n",
      "|0809080699|A29LG535LJRITI|  5.0|\n",
      "|0671551345|A3CLKX8W3F1L1D|  3.0|\n",
      "|0671551345| A4FX5YCJA630V|  3.0|\n",
      "|B000MCKQRS| A1237ROTM7659|  4.0|\n",
      "|B000890HE2|A2JYUAIAUYXCQN|  5.0|\n",
      "+----------+--------------+-----+\n",
      "only showing top 5 rows\n",
      "\n"
     ]
    }
   ],
   "source": [
    "# Remove useless columns\n",
    "df_short = df_clean.select(\"Id\", \"User_id\",\"score\")\n",
    "#df_short.show(5)"
   ]
  },
  {
   "cell_type": "code",
   "execution_count": 20,
   "id": "36ce2b8f-8fea-4242-bfcd-79b4c2cf08d4",
   "metadata": {},
   "outputs": [],
   "source": [
    "# Check and remove duplicated rows for the three considered variables\n",
    "df_short= df_short.dropDuplicates()"
   ]
  },
  {
   "cell_type": "markdown",
   "id": "01e30303-5bc3-4aa8-a1f4-3b0aeb9a757f",
   "metadata": {},
   "source": [
    "Given that the same user could have rated the same book twice, we want to compute the mean of the different scores given by the same user to the same book."
   ]
  },
  {
   "cell_type": "code",
   "execution_count": 21,
   "id": "7088e5e5-defb-4e04-a380-8ba5402126d1",
   "metadata": {},
   "outputs": [
    {
     "name": "stdout",
     "output_type": "stream",
     "text": [
      "+----------+--------------+-----+\n",
      "|        Id|       User_id|count|\n",
      "+----------+--------------+-----+\n",
      "|0451518713|A2TZZQUHX0PVN4|    2|\n",
      "|B000K0DB8I|A2OJH3S0SUNVGE|    2|\n",
      "|B000Q56SO6|A23LDF7TIIKTCY|    2|\n",
      "|B000GSKM2M|A1RJD10TTI568L|    2|\n",
      "|B0006W43TQ| A81F0YW06W5VQ|    2|\n",
      "+----------+--------------+-----+\n",
      "only showing top 5 rows\n",
      "\n"
     ]
    }
   ],
   "source": [
    "# Find duplicates considering only 'Id' and 'User_id'\n",
    "duplicati = df_short.groupBy(\"Id\", \"User_id\").count().filter(\"count > 1\")"
   ]
  },
  {
   "cell_type": "code",
   "execution_count": 22,
   "id": "4695327d-85fe-4038-a0c8-3692f2dd5524",
   "metadata": {},
   "outputs": [
    {
     "name": "stdout",
     "output_type": "stream",
     "text": [
      "+----------+--------------+-----+----------+\n",
      "|        Id|       User_id|score|mean_score|\n",
      "+----------+--------------+-----+----------+\n",
      "|1597400602|A3DKP67DK28RUB|  5.0|       5.0|\n",
      "|B0007H4QBK|A3MVU8X8EC9VRT|  5.0|       5.0|\n",
      "|B0007H4QBK| AFP82QXWXAG2V|  5.0|       5.0|\n",
      "|B000MCKQRS|A1TQL7XMTVF4JG|  3.0|       3.0|\n",
      "|B000O3QCH8|A1T97PDD7JYCUA|  1.0|       1.0|\n",
      "+----------+--------------+-----+----------+\n",
      "only showing top 5 rows\n",
      "\n"
     ]
    }
   ],
   "source": [
    "# Compute average score for every (Id, User_id)\n",
    "score_mean = df_short.groupBy('Id', 'User_id').agg(F.mean('score').alias('mean_score'))\n",
    "df_final = df_short.join(score_mean, on=['Id', 'User_id'], how='left')\n",
    "\n",
    "# Creation of the final preprocessed dataset\n",
    "df_final = df_final.select('Id','User_id', 'mean_score')\n",
    "df_final = df_final.dropDuplicates()\n",
    "#df_final.show(5)"
   ]
  },
  {
   "cell_type": "code",
   "execution_count": 24,
   "id": "ff19bedb-5e69-46f1-9d61-06d2f882e6b5",
   "metadata": {},
   "outputs": [
    {
     "name": "stdout",
     "output_type": "stream",
     "text": [
      "Number of Rows - Final dataset: 2380153\n"
     ]
    }
   ],
   "source": [
    "n_rows_final = df_final.count()\n",
    "print(f\"Number of Rows - Final dataset: {n_rows_final}\")"
   ]
  },
  {
   "cell_type": "markdown",
   "id": "8433c56b-d689-47f5-9909-fef27f4ccb77",
   "metadata": {},
   "source": [
    "#### 2.4 Rating Means"
   ]
  },
  {
   "cell_type": "markdown",
   "id": "f5bc304d-8f56-4051-815d-49ff13645eb9",
   "metadata": {},
   "source": [
    "We want to calculate the overall average score to see if consistency is maintained after creating the subsample."
   ]
  },
  {
   "cell_type": "markdown",
   "id": "a3d55063-645d-49bf-a292-18707abbb343",
   "metadata": {},
   "source": [
    "- Overall mean score:"
   ]
  },
  {
   "cell_type": "code",
   "execution_count": 25,
   "id": "165372fe-dcaa-47ce-a264-3bbf09c6d651",
   "metadata": {},
   "outputs": [
    {
     "name": "stdout",
     "output_type": "stream",
     "text": [
      "Overall mean score - Final dataset: 4.22386130919595\n"
     ]
    }
   ],
   "source": [
    "df_final = df_final.withColumn(\"mean_score\", F.col(\"mean_score\").cast(\"double\"))\n",
    "\n",
    "overall_mean = df_final.agg(F.avg(\"mean_score\")).collect()[0][0]\n",
    "print(f\"Overall mean score - Final dataset: {overall_mean}\")"
   ]
  },
  {
   "cell_type": "markdown",
   "id": "9dacaa7a-69df-4f0f-b974-35e01a859238",
   "metadata": {},
   "source": [
    "- Mean score for each item:"
   ]
  },
  {
   "cell_type": "code",
   "execution_count": 26,
   "id": "29ae5ae6-01ef-4f19-a09e-67c65d13c94e",
   "metadata": {},
   "outputs": [
    {
     "name": "stdout",
     "output_type": "stream",
     "text": [
      "+----------+-------------+\n",
      "|        Id|avg_score_pre|\n",
      "+----------+-------------+\n",
      "|0027861317|        4.625|\n",
      "|0028622480|          4.0|\n",
      "|0029267358|          4.0|\n",
      "|0060929081|         4.24|\n",
      "|0071409807|         3.75|\n",
      "+----------+-------------+\n",
      "only showing top 5 rows\n",
      "\n"
     ]
    }
   ],
   "source": [
    "#score_per_id = df_final.groupBy(\"Id\").agg(F.avg(\"mean_score\").alias(\"avg_score_pre\"))\n",
    "#score_per_id.show(5)"
   ]
  },
  {
   "cell_type": "code",
   "execution_count": 27,
   "id": "a1f45fa9-1ac1-4e42-a7d9-61c358cfc9f0",
   "metadata": {},
   "outputs": [
    {
     "name": "stdout",
     "output_type": "stream",
     "text": [
      "+---+-------------+\n",
      "| Id|avg_score_pre|\n",
      "+---+-------------+\n",
      "+---+-------------+\n",
      "\n"
     ]
    }
   ],
   "source": [
    "# Check data integrity\n",
    "#score_per_id_above_5 = score_per_id.filter(F.col(\"avg_score_pre\") > 5)\n",
    "#score_per_id_above_5.show(5)"
   ]
  },
  {
   "cell_type": "markdown",
   "id": "294ea9f6-42b3-4586-ae5a-f06239029d1b",
   "metadata": {},
   "source": [
    "---\n",
    "### 3. Subsample Creation"
   ]
  },
  {
   "cell_type": "markdown",
   "id": "21056f28-3e8c-44f4-a835-609c111f028b",
   "metadata": {},
   "source": [
    "We aim to create a subsample that remains consistent with the original dataset. To achieve this, we select a fraction of users while ensuring that all their reviews are included. This approach allows us to better represent their purchasing behavior and rating patterns, preserving the integrity of the data."
   ]
  },
  {
   "cell_type": "code",
   "execution_count": 34,
   "id": "d1f2591d-06d3-4f9c-a6ee-06f4103590a4",
   "metadata": {},
   "outputs": [
    {
     "name": "stdout",
     "output_type": "stream",
     "text": [
      "Total number of different users - Original dataset: 1004214\n"
     ]
    }
   ],
   "source": [
    "num_users = df_final.select(\"User_id\").distinct().count()\n",
    "print(f\"Total number of different users - Original dataset: {num_users}\")"
   ]
  },
  {
   "cell_type": "code",
   "execution_count": 58,
   "id": "94cee6f8-b6c5-4a3b-a5f8-4caffdd9f22c",
   "metadata": {},
   "outputs": [],
   "source": [
    "# Keep just 20% of the users\n",
    "sample_fraction = 0.2\n",
    "user_sample = df_final.select(\"User_id\").distinct().sample(fraction=sample_fraction, seed=42)"
   ]
  },
  {
   "cell_type": "code",
   "execution_count": 59,
   "id": "b97d58b5-6af5-43c1-9aa7-7f5651c51363",
   "metadata": {},
   "outputs": [],
   "source": [
    "# Create the subsample with the selected users\n",
    "df_sampled = df_final.join(user_sample, on=\"User_id\", how=\"inner\")\n",
    "#df_sampled.show(5)"
   ]
  },
  {
   "cell_type": "code",
   "execution_count": 60,
   "id": "7f48b9e1-b2f5-4014-91ef-2f1308b39929",
   "metadata": {},
   "outputs": [
    {
     "name": "stdout",
     "output_type": "stream",
     "text": [
      "Number of Rows - Sample: 510146\n"
     ]
    }
   ],
   "source": [
    "# Check subsample size\n",
    "n_rows_sample = df_sampled.count()\n",
    "print(f\"Number of Rows - Sample: {n_rows_sample}\")"
   ]
  },
  {
   "cell_type": "code",
   "execution_count": 61,
   "id": "0869e35a-d2c5-4a99-b25f-dfd385438b32",
   "metadata": {},
   "outputs": [
    {
     "name": "stdout",
     "output_type": "stream",
     "text": [
      "root\n",
      " |-- User_id: string (nullable = true)\n",
      " |-- Id: string (nullable = true)\n",
      " |-- score: double (nullable = true)\n",
      "\n"
     ]
    }
   ],
   "source": [
    "# Check data integrity\n",
    "df_sampled.printSchema()"
   ]
  },
  {
   "cell_type": "code",
   "execution_count": 62,
   "id": "dc93f259-0a98-47bd-99d6-5510a467fd96",
   "metadata": {},
   "outputs": [
    {
     "name": "stdout",
     "output_type": "stream",
     "text": [
      "Overall mean - Sample: 4.226667137120224\n"
     ]
    }
   ],
   "source": [
    "# Check mean coherence with the original dataset\n",
    "overall_mean_sample = df_sampled.agg(F.avg(\"score\")).collect()[0][0]\n",
    "print(f\"Overall mean - Sample: {overall_mean_sample}\")"
   ]
  },
  {
   "cell_type": "markdown",
   "id": "ecf3291f-03c3-43fe-9f01-2a27374cf616",
   "metadata": {},
   "source": [
    "The overall mean of the subsample is coherent with the overall mean of the original final dataset."
   ]
  },
  {
   "cell_type": "markdown",
   "id": "73a4bba1-1e78-4823-9144-166150aa1e88",
   "metadata": {},
   "source": [
    "---\n",
    "### 4. Algorithm Implementation"
   ]
  },
  {
   "cell_type": "markdown",
   "id": "c7221f0e-72c4-402b-960d-709c9944073f",
   "metadata": {},
   "source": [
    "#### 4.1 FP-Growth Algorithm"
   ]
  },
  {
   "cell_type": "markdown",
   "id": "e6333ecd-fbfb-4250-97cd-3ca9600550d5",
   "metadata": {},
   "source": [
    "We considered only books that received a score above 3"
   ]
  },
  {
   "cell_type": "code",
   "execution_count": null,
   "id": "b2720c41-7770-4fff-8ec0-08c7e8724311",
   "metadata": {},
   "outputs": [],
   "source": [
    "# Filter and keep just rows with rating >= 3\n",
    "df_filtered = df_sampled.filter(col(\"score\") >= 3)"
   ]
  },
  {
   "cell_type": "markdown",
   "id": "c51b03cb-f56a-4a54-9437-fd6551e71513",
   "metadata": {},
   "source": [
    "- Creation od Baskets of items "
   ]
  },
  {
   "cell_type": "code",
   "execution_count": null,
   "id": "2037cac7-7b56-4bf0-ba27-00692d940305",
   "metadata": {},
   "outputs": [],
   "source": [
    "# Create baskets of items for every user\n",
    "df_basket = df_FP.groupBy(\"User_id\").agg(collect_set(\"Id\").alias(\"items\"))"
   ]
  },
  {
   "cell_type": "markdown",
   "id": "f3e8eb0f-6d91-4127-a998-a9567fadf9ca",
   "metadata": {},
   "source": [
    "- Algorithm application"
   ]
  },
  {
   "cell_type": "code",
   "execution_count": 85,
   "id": "40008658-82a6-409f-9cf1-4234c6fa80a8",
   "metadata": {},
   "outputs": [
    {
     "name": "stdout",
     "output_type": "stream",
     "text": [
      "Frequent Itemsets:\n",
      "+------------------------------------------------+----+\n",
      "|items                                           |freq|\n",
      "+------------------------------------------------+----+\n",
      "|[B000ILIJE0]                                    |1051|\n",
      "|[B000NWU3I4]                                    |1046|\n",
      "|[B000NWU3I4, B000ILIJE0]                        |1045|\n",
      "|[B000PC54NG]                                    |1037|\n",
      "|[B000PC54NG, B000NWU3I4]                        |1036|\n",
      "|[B000PC54NG, B000NWU3I4, B000ILIJE0]            |1035|\n",
      "|[B000PC54NG, B000ILIJE0]                        |1036|\n",
      "|[B000NWQXBA]                                    |1033|\n",
      "|[B000NWQXBA, B000PC54NG]                        |1033|\n",
      "|[B000NWQXBA, B000PC54NG, B000NWU3I4]            |1032|\n",
      "|[B000NWQXBA, B000PC54NG, B000NWU3I4, B000ILIJE0]|1032|\n",
      "|[B000NWQXBA, B000PC54NG, B000ILIJE0]            |1033|\n",
      "|[B000NWQXBA, B000NWU3I4]                        |1032|\n",
      "|[B000NWQXBA, B000NWU3I4, B000ILIJE0]            |1032|\n",
      "|[B000NWQXBA, B000ILIJE0]                        |1033|\n",
      "|[B000Q032UY]                                    |1029|\n",
      "|[B000Q032UY, B000PC54NG]                        |1029|\n",
      "|[B000Q032UY, B000PC54NG, B000NWU3I4]            |1028|\n",
      "|[B000Q032UY, B000PC54NG, B000NWU3I4, B000ILIJE0]|1028|\n",
      "|[B000Q032UY, B000PC54NG, B000ILIJE0]            |1029|\n",
      "+------------------------------------------------+----+\n",
      "only showing top 20 rows\n",
      "\n",
      "Association Rules:\n",
      "+------------------------------------------------------------------------+------------+------------------+-----------------+--------------------+\n",
      "|antecedent                                                              |consequent  |confidence        |lift             |support             |\n",
      "+------------------------------------------------------------------------+------------+------------------+-----------------+--------------------+\n",
      "|[B000NDSX6C, B000GQG7D2, B000H9R1Q0, B000PC54NG, B000NWU3I4, B000ILIJE0]|[B000GQG5MA]|0.9646302250803859|77.10227000047992|0.011203923863112948|\n",
      "|[B000NDSX6C, B000GQG7D2, B000H9R1Q0, B000PC54NG, B000NWU3I4, B000ILIJE0]|[B000Q032UY]|1.0               |78.0651117589893 |0.011614734404760423|\n",
      "|[B000NDSX6C, B000GQG7D2, B000H9R1Q0, B000PC54NG, B000NWU3I4, B000ILIJE0]|[B000NWQXBA]|1.0               |77.76282671829622|0.011614734404760423|\n",
      "|[B000GQG7D2, B000Q032UY, B000PC54NG, B000NWU3I4, B000ILIJE0]            |[B000H9R1Q0]|0.9979838709677419|78.05944145176996|0.012324316249424244|\n",
      "|[B000GQG7D2, B000Q032UY, B000PC54NG, B000NWU3I4, B000ILIJE0]            |[B000NWQXBA]|1.0               |77.76282671829622|0.012349213858008938|\n",
      "|[B000GQG7D2, B000Q032UY, B000PC54NG, B000NWU3I4, B000ILIJE0]            |[B000GQG5MA]|0.9637096774193549|77.0286912213128 |0.011901056903484421|\n",
      "|[B000GQG7D2, B000Q032UY, B000PC54NG, B000NWU3I4, B000ILIJE0]            |[B000NDSX6C]|0.9425403225806451|76.71055883746773|0.011639632013345119|\n",
      "|[B000GQG7D2, B000NWQXBA, B000ILIJE0]                                    |[B000H9R1Q0]|0.9949799196787149|77.82448098137438|0.01233676505371659 |\n",
      "|[B000GQG7D2, B000NWQXBA, B000ILIJE0]                                    |[B000Q032UY]|0.9969879518072289|77.82997588019717|0.012361662662301286|\n",
      "|[B000GQG7D2, B000NWQXBA, B000ILIJE0]                                    |[B000PC54NG]|1.0               |77.46287367405978|0.01239900907517833 |\n",
      "|[B000GQG7D2, B000NWQXBA, B000ILIJE0]                                    |[B000NWU3I4]|0.998995983935743 |76.71926232655287|0.012386560270885982|\n",
      "|[B000GQG7D2, B000NWQXBA, B000ILIJE0]                                    |[B000GQG5MA]|0.9628514056224899|76.96009011169055|0.011938403316361463|\n",
      "|[B000GQG7D2, B000NWQXBA, B000ILIJE0]                                    |[B000NDSX6C]|0.9427710843373494|76.72933985180845|0.011689427230514509|\n",
      "|[B000NDSX6C, B000GQG7D2, B000PC54NG, B000NWU3I4, B000ILIJE0]            |[B000GQG5MA]|0.9638297872340426|77.03829152111781|0.011278616688867035|\n",
      "|[B000NDSX6C, B000GQG7D2, B000PC54NG, B000NWU3I4, B000ILIJE0]            |[B000H9R1Q0]|0.9925531914893617|77.63466924941474|0.011614734404760423|\n",
      "|[B000NDSX6C, B000GQG7D2, B000PC54NG, B000NWU3I4, B000ILIJE0]            |[B000Q032UY]|0.9946808510638298|77.64987180282446|0.011639632013345119|\n",
      "|[B000NDSX6C, B000GQG7D2, B000PC54NG, B000NWU3I4, B000ILIJE0]            |[B000NWQXBA]|0.997872340425532 |77.59737389549134|0.011676978426222161|\n",
      "|[B000GQG5MA, B000ILIJE0]                                                |[B000PC54NG]|0.9910358565737052|76.76848536423256|0.012386560270885982|\n",
      "|[B000GQG5MA, B000ILIJE0]                                                |[B000H9R1Q0]|0.9830677290836654|76.89274353413998|0.0122869698365472  |\n",
      "|[B000GQG5MA, B000ILIJE0]                                                |[B000Q032UY]|0.9850597609561753|76.89880032832711|0.012311867445131896|\n",
      "+------------------------------------------------------------------------+------------+------------------+-----------------+--------------------+\n",
      "only showing top 20 rows\n",
      "\n"
     ]
    }
   ],
   "source": [
    "# Apply FP-Growth\n",
    "fpGrowth = FPGrowth(itemsCol=\"items\", minSupport=0.01, minConfidence=0.2)\n",
    "model = fpGrowth.fit(df_basket)\n",
    "\n",
    "                        # Support: probabilità di acquisto di tutto il basket\n",
    "                        # Confidence: probabilità che se compro un basket compro anche l'altro libro\n"
   ]
  },
  {
   "cell_type": "code",
   "execution_count": null,
   "id": "6f6985f1-0c3f-4ffd-ae9b-98634b670524",
   "metadata": {},
   "outputs": [],
   "source": [
    "print(\"Frequent Itemsets:\")\n",
    "model.freqItemsets.show(truncate=False)\n",
    "\n",
    "# Count number of Frequent Itemsets\n",
    "num_freq_itemsets = model.freqItemsets.count()\n",
    "print(f\"Number of rows of Frequent Itemsets: {num_freq_itemsets}\")"
   ]
  },
  {
   "cell_type": "markdown",
   "id": "2f6d37d0-ac34-4b56-99d0-8e692725d0d8",
   "metadata": {},
   "source": [
    "- Alta confidenza e lift elevato: Se vedi una regola con alta confidenza (vicina a 1.0) e un valore di lift molto alto, significa che c'è una forte correlazione tra gli articoli dell'antecedente e quelli del conseguente. Queste sono regole particolarmente utili per le raccomandazioni di prodotto.\n",
    "\n",
    "- Basso supporto, alta confidenza e lift alto: Anche se il supporto è basso (ad esempio, 1% delle transazioni), un lift elevato e una confidenza vicina a 1.0 indicano che la regola è molto significativa per un numero ridotto di transazioni."
   ]
  },
  {
   "cell_type": "code",
   "execution_count": 86,
   "id": "263048da-7825-4c9c-9a1b-394b300bf962",
   "metadata": {},
   "outputs": [
    {
     "name": "stdout",
     "output_type": "stream",
     "text": [
      "Number of rows of Frequent Itemsets: 511\n",
      "Number of rows of Association Rules: 2295\n"
     ]
    }
   ],
   "source": [
    "print(\"Association Rules:\")\n",
    "model.associationRules.show(truncate=False)\n",
    "\n",
    "# Count number of Association Rules\n",
    "num_association_rules = model.associationRules.count()\n",
    "print(f\"Number of rows of Association Rules: {num_association_rules}\")"
   ]
  },
  {
   "cell_type": "markdown",
   "id": "0eaa35f8-a718-4ce8-b20f-1881b1f3bac1",
   "metadata": {},
   "source": [
    "- Considering association rules with antecedent and precedent a single book"
   ]
  },
  {
   "cell_type": "code",
   "execution_count": 89,
   "id": "3be86e41-b31d-458d-8943-34a186b24621",
   "metadata": {},
   "outputs": [
    {
     "name": "stdout",
     "output_type": "stream",
     "text": [
      "+-----------------+-----------------+------------------+-----------------+--------------------+\n",
      "|antecedent_single|consequent_single|confidence        |lift             |support             |\n",
      "+-----------------+-----------------+------------------+-----------------+--------------------+\n",
      "|B000NDSX6C       |B000GQG5MA       |0.9646302250803859|77.10227000047992|0.011203923863112948|\n",
      "|B000GQG7D2       |B000GQG5MA       |0.9646302250803859|77.10227000047992|0.011203923863112948|\n",
      "|B000H9R1Q0       |B000GQG5MA       |0.9646302250803859|77.10227000047992|0.011203923863112948|\n",
      "|B000PC54NG       |B000GQG5MA       |0.9646302250803859|77.10227000047992|0.011203923863112948|\n",
      "|B000NWU3I4       |B000GQG5MA       |0.9646302250803859|77.10227000047992|0.011203923863112948|\n",
      "|B000ILIJE0       |B000GQG5MA       |0.9646302250803859|77.10227000047992|0.011203923863112948|\n",
      "|B000NDSX6C       |B000Q032UY       |1.0               |78.0651117589893 |0.011614734404760423|\n",
      "|B000GQG7D2       |B000Q032UY       |1.0               |78.0651117589893 |0.011614734404760423|\n",
      "|B000H9R1Q0       |B000Q032UY       |1.0               |78.0651117589893 |0.011614734404760423|\n",
      "|B000PC54NG       |B000Q032UY       |1.0               |78.0651117589893 |0.011614734404760423|\n",
      "|B000NWU3I4       |B000Q032UY       |1.0               |78.0651117589893 |0.011614734404760423|\n",
      "|B000ILIJE0       |B000Q032UY       |1.0               |78.0651117589893 |0.011614734404760423|\n",
      "|B000NDSX6C       |B000NWQXBA       |1.0               |77.76282671829622|0.011614734404760423|\n",
      "|B000GQG7D2       |B000NWQXBA       |1.0               |77.76282671829622|0.011614734404760423|\n",
      "|B000H9R1Q0       |B000NWQXBA       |1.0               |77.76282671829622|0.011614734404760423|\n",
      "|B000PC54NG       |B000NWQXBA       |1.0               |77.76282671829622|0.011614734404760423|\n",
      "|B000NWU3I4       |B000NWQXBA       |1.0               |77.76282671829622|0.011614734404760423|\n",
      "|B000ILIJE0       |B000NWQXBA       |1.0               |77.76282671829622|0.011614734404760423|\n",
      "|B000GQG7D2       |B000H9R1Q0       |0.9979838709677419|78.05944145176996|0.012324316249424244|\n",
      "|B000Q032UY       |B000H9R1Q0       |0.9979838709677419|78.05944145176996|0.012324316249424244|\n",
      "+-----------------+-----------------+------------------+-----------------+--------------------+\n",
      "only showing top 20 rows\n",
      "\n",
      "+-----------------+-----------------+------------------+-----------------+--------------------+\n",
      "|antecedent_single|consequent_single|confidence        |lift             |support             |\n",
      "+-----------------+-----------------+------------------+-----------------+--------------------+\n",
      "|B000NWU3I4       |B000NDSX6C       |0.9378585086042065|76.32951989631945|0.012212277010793113|\n",
      "|B000NWU3I4       |B000NDSX6C       |0.9382239382239382|76.35926112825808|0.012100237772161983|\n",
      "|B000PC54NG       |B000NDSX6C       |0.9382239382239382|76.35926112825808|0.012100237772161983|\n",
      "|B000GQG5MA       |B000NDSX6C       |0.9382470119521913|76.36113903050413|0.011726773643391553|\n",
      "|B000NWU3I4       |B000NDSX6C       |0.9382470119521913|76.36113903050413|0.011726773643391553|\n",
      "|B000PC54NG       |B000NDSX6C       |0.9382835101253616|76.36410950847029|0.012112686576454331|\n",
      "|B000GQG5MA       |B000NDSX6C       |0.9383084577114428|76.36613991844223|0.0117392224476839  |\n",
      "|B000GQG5MA       |B000NDSX6C       |0.9386934673366835|76.3974747089042 |0.011627183209052771|\n",
      "|B000PC54NG       |B000NDSX6C       |0.9386934673366835|76.3974747089042 |0.011627183209052771|\n",
      "|B000NWU3I4       |B000NDSX6C       |0.9386934673366835|76.3974747089042 |0.011627183209052771|\n",
      "|B000GQG5MA       |B000NDSX6C       |0.9387550200803213|76.40248430398393|0.011639632013345119|\n",
      "|B000PC54NG       |B000NDSX6C       |0.9387550200803213|76.40248430398393|0.011639632013345119|\n",
      "|B000NWU3I4       |B000NDSX6C       |0.938755980861244 |76.40256249909105|0.012212277010793113|\n",
      "|B000ILIJE0       |B000NDSX6C       |0.938755980861244 |76.40256249909105|0.012212277010793113|\n",
      "|B000NWQXBA       |B000NDSX6C       |0.938953488372093 |76.4186370490799 |0.012062891359284941|\n",
      "|B000NWQXBA       |B000NDSX6C       |0.938953488372093 |76.4186370490799 |0.012062891359284941|\n",
      "|B000NWU3I4       |B000NDSX6C       |0.938953488372093 |76.4186370490799 |0.012062891359284941|\n",
      "|B000NWQXBA       |B000NDSX6C       |0.938953488372093 |76.4186370490799 |0.012062891359284941|\n",
      "|B000PC54NG       |B000NDSX6C       |0.938953488372093 |76.4186370490799 |0.012062891359284941|\n",
      "|B000NWQXBA       |B000NDSX6C       |0.938953488372093 |76.4186370490799 |0.012062891359284941|\n",
      "+-----------------+-----------------+------------------+-----------------+--------------------+\n",
      "only showing top 20 rows\n",
      "\n"
     ]
    }
   ],
   "source": [
    "association_rules = model.associationRules\n",
    "\n",
    "association_rules_single = association_rules.withColumn(\n",
    "    \"antecedent_single\", \n",
    "    F.explode(association_rules.antecedent)\n",
    ").withColumn(\n",
    "    \"consequent_single\", \n",
    "    F.explode(association_rules.consequent)\n",
    ")\n",
    "\n",
    "association_rules_single.select(\"antecedent_single\", \"consequent_single\", \"confidence\", \"lift\", \"support\").show(truncate=False)\n"
   ]
  },
  {
   "cell_type": "code",
   "execution_count": null,
   "id": "8a193e9b-8840-4921-8671-13a69b99ba95",
   "metadata": {},
   "outputs": [],
   "source": []
  },
  {
   "cell_type": "markdown",
   "id": "cb55f486-270d-42b4-b6d7-b94f16418826",
   "metadata": {},
   "source": [
    "to do:\n",
    "- algoritmo a priori\n",
    "- altri algoritmi?\n",
    "- dashboard??\n",
    "- report"
   ]
  },
  {
   "cell_type": "code",
   "execution_count": null,
   "id": "d8c9383f-1de3-4246-b1f2-84d3151ff38e",
   "metadata": {},
   "outputs": [],
   "source": []
  }
 ],
 "metadata": {
  "kernelspec": {
   "display_name": "Python 3 (ipykernel)",
   "language": "python",
   "name": "python3"
  },
  "language_info": {
   "codemirror_mode": {
    "name": "ipython",
    "version": 3
   },
   "file_extension": ".py",
   "mimetype": "text/x-python",
   "name": "python",
   "nbconvert_exporter": "python",
   "pygments_lexer": "ipython3",
   "version": "3.10.4"
  }
 },
 "nbformat": 4,
 "nbformat_minor": 5
}
